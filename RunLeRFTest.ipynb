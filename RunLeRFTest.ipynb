{
 "cells": [
  {
   "cell_type": "code",
   "execution_count": 49,
   "metadata": {},
   "outputs": [],
   "source": [
    "import tensorflow_addons as tfa\n",
    "from utils.explanations import integrated_gradients\n",
    "from keras.utils import CustomObjectScope\n",
    "import tensorflow.keras as keras\n",
    "import tensorflow as tf\n",
    "import os\n",
    "from utils.explanations import minmax_norm\n",
    "from utils.explanations import calculate_ig_attributions\n",
    "from utils.utils import read_dataset\n",
    "from sklearn.preprocessing import normalize\n",
    "import numpy as np\n",
    "import matplotlib.pyplot as plt\n",
    "\n",
    "archive = 'ucr'\n",
    "dataset_name = 'Beef'\n",
    "data_p = 'G:/Meine Ablage/master thesis/code/xai-tsc'\n",
    "dataset = 'Beef'\n",
    "model_type ='resnet'\n",
    "ylen = 1\n",
    "data = read_dataset(data_p, archive, dataset, 'original', ylen)[dataset]\n",
    "ylen = len(data[0][0])\n",
    "ig_data_stl  = read_dataset(data_p, archive, dataset, f'{model_type}_ig_raw', ylen)[dataset]\n",
    "dataset = 'Beef'\n",
    "itr = 0\n",
    "#./results/ucr/Beef/experiment_2/resnet/resnet_mt_ae_0.25/resnet_ig_trf/best_model.hdf5\n",
    "#results\\ucr\\Beef\\experiment_2\\resnet\\resnet_mt_ae_0.25_0\\resnet_ig_trf\\df_best_model.csv\n",
    "ig_link = f'./results/ucr/{dataset}/experiment_1/resnet/resnet_mt_ae_{itr}/resnet_ig_raw/best_model.hdf5'\n",
    "#f'./results/ucr/{dataset}/experiment_2/resnet/resnet_mt_ae_0.25_{itr}/resnet_ig_raw/best_model.hdf5'\n",
    "ig_model = keras.models.load_model(ig_link ,compile=False)"
   ]
  },
  {
   "cell_type": "code",
   "execution_count": 174,
   "metadata": {},
   "outputs": [
    {
     "name": "stdout",
     "output_type": "stream",
     "text": [
      "470\n"
     ]
    }
   ],
   "source": [
    "print(ylen)"
   ]
  },
  {
   "cell_type": "code",
   "execution_count": 63,
   "metadata": {},
   "outputs": [
    {
     "name": "stdout",
     "output_type": "stream",
     "text": [
      "0\n",
      "1/1 [==============================] - 0s 96ms/step\n",
      "0 0.0 True 1.0\n",
      "1\n",
      "1/1 [==============================] - 0s 120ms/step\n",
      "0 0.0 True 1.0\n",
      "2\n",
      "1/1 [==============================] - 0s 110ms/step\n",
      "4 0.0 False 1.0\n",
      "3\n",
      "1/1 [==============================] - 0s 119ms/step\n",
      "0 0.0 True 1.0\n",
      "4\n",
      "1/1 [==============================] - 0s 138ms/step\n",
      "4 0.0 False 1.0\n",
      "5\n",
      "1/1 [==============================] - 0s 140ms/step\n",
      "0 0.0 True 1.0\n",
      "6\n",
      "1/1 [==============================] - 0s 213ms/step\n",
      "0 1.0 False 2.0\n",
      "7\n",
      "1/1 [==============================] - 0s 135ms/step\n",
      "0 1.0 False 2.0\n",
      "8\n",
      "1/1 [==============================] - 0s 130ms/step\n",
      "0 1.0 False 2.0\n",
      "9\n",
      "1/1 [==============================] - 0s 131ms/step\n",
      "0 1.0 False 2.0\n",
      "10\n",
      "1/1 [==============================] - 0s 132ms/step\n",
      "0 1.0 False 2.0\n",
      "11\n",
      "1/1 [==============================] - 0s 144ms/step\n",
      "0 1.0 False 2.0\n",
      "12\n",
      "1/1 [==============================] - 0s 135ms/step\n",
      "0 2.0 False 3.0\n",
      "13\n",
      "1/1 [==============================] - 0s 135ms/step\n",
      "0 2.0 False 3.0\n",
      "14\n",
      "1/1 [==============================] - 0s 129ms/step\n",
      "0 2.0 False 3.0\n",
      "15\n",
      "1/1 [==============================] - 0s 137ms/step\n",
      "0 2.0 False 3.0\n",
      "16\n",
      "1/1 [==============================] - 0s 136ms/step\n",
      "0 2.0 False 3.0\n",
      "17\n",
      "1/1 [==============================] - 0s 133ms/step\n",
      "0 2.0 False 3.0\n",
      "18\n",
      "1/1 [==============================] - 0s 134ms/step\n",
      "0 3.0 False 4.0\n",
      "19\n",
      "1/1 [==============================] - 0s 132ms/step\n",
      "0 3.0 False 4.0\n",
      "20\n",
      "1/1 [==============================] - 0s 129ms/step\n",
      "0 3.0 False 4.0\n",
      "21\n",
      "1/1 [==============================] - 0s 128ms/step\n",
      "0 3.0 False 4.0\n",
      "22\n",
      "1/1 [==============================] - 0s 130ms/step\n",
      "0 3.0 False 4.0\n",
      "23\n",
      "1/1 [==============================] - 0s 130ms/step\n",
      "0 3.0 False 4.0\n",
      "24\n",
      "1/1 [==============================] - 0s 135ms/step\n",
      "0 4.0 False 5.0\n",
      "25\n",
      "1/1 [==============================] - 0s 132ms/step\n",
      "0 4.0 False 5.0\n",
      "26\n",
      "1/1 [==============================] - 0s 136ms/step\n",
      "0 4.0 False 5.0\n",
      "27\n",
      "1/1 [==============================] - 0s 131ms/step\n",
      "0 4.0 False 5.0\n",
      "28\n",
      "1/1 [==============================] - 0s 129ms/step\n",
      "0 4.0 False 5.0\n",
      "29\n",
      "1/1 [==============================] - 0s 141ms/step\n",
      "0 4.0 False 5.0\n"
     ]
    }
   ],
   "source": [
    "%matplotlib inline\n",
    "\n",
    "for ts in range(len(ig_data_stl[1])): \n",
    "    print(ts)\n",
    "    train_att = ig_data_stl[1] \n",
    "    sorted_vals = np.argsort(train_att[ts])\n",
    "    xvals = ig_data_stl[1][ts]\n",
    "    count = 230\n",
    "    ytrue  = data[1][ts]\n",
    "\n",
    "    pred_label = np.argmax(ig_model.predict(ig_data_stl[0])[0][ts])\n",
    "    #print(xvals)\n",
    "    sup_array = []\n",
    "    print(pred_label,ytrue[0]-1,ytrue[0]-1 == int(pred_label),ytrue[0])\n",
    "    if ytrue[0] == int(pred_label)+1 and ytrue[0]==2: \n",
    "        for idx in range(0, len(sorted_vals), 2):\n",
    "            print(\"Y\")\n",
    "            sup_x  = xvals.copy()\n",
    "            #print(sorted_vals[:idx])\n",
    "            #print(sorted_vals[:idx])\n",
    "            sup_x[sorted_vals[:idx]] = 0\n",
    "            sup_array.append(sup_x)\n",
    "            #sup_x[sorted_vals[:idx]] = np.nan \n",
    "            # Indices of non-NaN values\n",
    "            #not_nan_indices = np.arange(len(sup_x))[~np.isnan(sup_x)]\n",
    "            # Linearly interpolate NaN values\n",
    "            #interpolated_array = np.interp(np.arange(len(sup_x)), not_nan_indices, sup_x[not_nan_indices])\n",
    "            #sup_array.append(interpolated_array)\n",
    "\n",
    "\n",
    "        sup_array = np.array(sup_array)\n",
    "        pred = ig_model.predict(sup_array)\n",
    "        print(pred_label)\n",
    "        #print(sup_array[50])\n",
    "        #plt.plot(sup_array[140])\n",
    "        plt.plot(pred[0][:,pred_label])\n",
    "plt.show()\n",
    "\n"
   ]
  },
  {
   "cell_type": "code",
   "execution_count": 110,
   "metadata": {},
   "outputs": [
    {
     "name": "stdout",
     "output_type": "stream",
     "text": [
      "1/1 [==============================] - 0s 16ms/step\n"
     ]
    },
    {
     "data": {
      "text/plain": [
       "array([[0., 1.]], dtype=float32)"
      ]
     },
     "execution_count": 110,
     "metadata": {},
     "output_type": "execute_result"
    }
   ],
   "source": [
    "ig_model.predict(np.expand_dims(np.random.randn(286),axis=0))"
   ]
  },
  {
   "cell_type": "code",
   "execution_count": 10,
   "metadata": {},
   "outputs": [
    {
     "name": "stdout",
     "output_type": "stream",
     "text": [
      "1/1 [==============================] - 0s 145ms/step\n"
     ]
    },
    {
     "ename": "IndexError",
     "evalue": "list index out of range",
     "output_type": "error",
     "traceback": [
      "\u001b[1;31m---------------------------------------------------------------------------\u001b[0m",
      "\u001b[1;31mIndexError\u001b[0m                                Traceback (most recent call last)",
      "Cell \u001b[1;32mIn[10], line 7\u001b[0m\n\u001b[0;32m      5\u001b[0m count \u001b[39m=\u001b[39m \u001b[39m230\u001b[39m\n\u001b[0;32m      6\u001b[0m ytrue  \u001b[39m=\u001b[39m data[\u001b[39m1\u001b[39m][ts]\n\u001b[1;32m----> 7\u001b[0m pred_label \u001b[39m=\u001b[39m np\u001b[39m.\u001b[39margmax(ig_model\u001b[39m.\u001b[39;49mpredict(ig_data_stl[\u001b[39m0\u001b[39;49m])[ts])\n\u001b[0;32m      8\u001b[0m \u001b[39m#print(xvals)\u001b[39;00m\n\u001b[0;32m      9\u001b[0m sup_array \u001b[39m=\u001b[39m []\n",
      "\u001b[1;31mIndexError\u001b[0m: list index out of range"
     ]
    }
   ],
   "source": [
    "train_att = ig_data_stl[1] \n",
    "ts = 20\n",
    "sorted_vals = np.argsort(train_att[ts])\n",
    "xvals = ig_data_stl[0][ts]\n",
    "count = 230\n",
    "ytrue  = data[1][ts]\n",
    "pred_label = np.argmax(ig_model.predict(ig_data_stl[0])[ts])\n",
    "#print(xvals)\n",
    "sup_array = []\n",
    "for idx in range(0, len(sorted_vals), 2):\n",
    "    sup_x  = xvals.copy()\n",
    "    #print(sorted_vals[:idx])\n",
    "    #print(sorted_vals[:idx])\n",
    "    sup_x[sorted_vals[:idx]] = np.nan \n",
    "    # Indices of non-NaN values\n",
    "    not_nan_indices = np.arange(len(sup_x))[~np.isnan(sup_x)]\n",
    "    # Linearly interpolate NaN values\n",
    "    interpolated_array = np.interp(np.arange(len(sup_x)), not_nan_indices, sup_x[not_nan_indices])\n",
    "    sup_array.append(interpolated_array)\n",
    "\n",
    "\n",
    "sup_array = np.array(sup_array)\n",
    "pred = ig_model.predict(sup_array)\n",
    "print(pred_label)\n",
    "#print(sup_array[50])\n",
    "#plt.plot(sup_array[140])\n",
    "\n",
    "plt.plot(pred[:,pred_label])\n",
    "plt.show()\n"
   ]
  },
  {
   "cell_type": "code",
   "execution_count": 184,
   "metadata": {},
   "outputs": [
    {
     "name": "stdout",
     "output_type": "stream",
     "text": [
      "1/1 [==============================] - 0s 35ms/step\n",
      "1/1 [==============================] - 0s 51ms/step\n",
      "[0.00064333 0.40831915 0.1814525  0.08257128 0.32701373]\n",
      "1\n",
      "15/15 [==============================] - 0s 29ms/step\n"
     ]
    },
    {
     "data": {
      "text/plain": [
       "[<matplotlib.lines.Line2D at 0x25748d4a6b0>]"
      ]
     },
     "execution_count": 184,
     "metadata": {},
     "output_type": "execute_result"
    },
    {
     "data": {
      "image/png": "[encoded data removed]",
      "text/plain": [
       "<Figure size 640x480 with 1 Axes>"
      ]
     },
     "metadata": {},
     "output_type": "display_data"
    }
   ],
   "source": [
    "train_att = ig_data_stl[1] \n",
    "ts = 11\n",
    "xvals = ig_data_stl[0][ts]\n",
    "ytrue  = data[1][ts]\n",
    "pred_label = np.argmax(ig_model.predict(ig_data_stl[0])[ts])\n",
    "sorted_values = np.sort(xvals)[::-1]\n",
    "baseline = np.zeros(470)\n",
    "helper_array = []\n",
    "for idx in range(0, len(sorted_vals), 1):\n",
    "    baseline[idx] = sorted_vals[idx]\n",
    "    helper_array.append(baseline.copy())\n",
    "\n",
    "print(ig_model.predict(ig_data_stl[0])[ts])\n",
    "print(pred_label)\n",
    "add_att = ig_model.predict(np.array(helper_array))[:,pred_label]\n",
    "\n",
    "plt.plot(add_att)"
   ]
  },
  {
   "cell_type": "code",
   "execution_count": null,
   "metadata": {},
   "outputs": [],
   "source": [
    "\"\"\"\n",
    "\n",
    "supp_x_vals_pred = []\n",
    "for xv, pa in zip(x,p[1]):\n",
    "    pa = pa.flatten()\n",
    "    supp_x  = xv.copy()\n",
    "    sorted = replace#(np.argsort(pa)[::-1][int(len(pa)*keep):])\n",
    "    supp_x[sorted] = 0 #supp_strat[sorted]\n",
    "    supp_x_vals_pred.append(supp_x)\n",
    "\"\"\""
   ]
  }
 ],
 "metadata": {
  "kernelspec": {
   "display_name": "xai-tsc",
   "language": "python",
   "name": "python3"
  },
  "language_info": {
   "codemirror_mode": {
    "name": "ipython",
    "version": 3
   },
   "file_extension": ".py",
   "mimetype": "text/x-python",
   "name": "python",
   "nbconvert_exporter": "python",
   "pygments_lexer": "ipython3",
   "version": "3.10.11"
  },
  "orig_nbformat": 4
 },
 "nbformat": 4,
 "nbformat_minor": 2
}
