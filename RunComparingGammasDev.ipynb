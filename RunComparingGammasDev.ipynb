{
 "cells": [
  {
   "cell_type": "code",
   "execution_count": 2,
   "id": "418e75d2",
   "metadata": {},
   "outputs": [],
   "source": [
    "import matplotlib.pyplot as plt \n",
    "import numpy as np\n",
    "import tensorflow.keras as keras\n",
    "import os "
   ]
  },
  {
   "cell_type": "code",
   "execution_count": 23,
   "id": "5b77e754",
   "metadata": {},
   "outputs": [
    {
     "name": "stdout",
     "output_type": "stream",
     "text": [
      "activation_2 <keras.layers.core.activation.Activation object at 0x0000024F7BEA6290>\n"
     ]
    },
    {
     "data": {
      "text/plain": [
       "array([ 0.47590118,  0.46417405,  0.41415295,  0.38092102,  0.38868265,\n",
       "        0.41324284,  0.43458855,  0.43390049,  0.43276282,  0.43139824,\n",
       "        0.43041268,  0.42977811,  0.42893407,  0.42753204,  0.42504587,\n",
       "        0.42135581,  0.43323603,  0.49672476,  0.58745848,  0.67720428,\n",
       "        0.73690951,  0.76220317,  0.75056122,  0.70208891,  0.62033604,\n",
       "        0.519016  ,  0.43009403,  0.39203434,  0.37852692,  0.39668986,\n",
       "        0.44047117,  0.4755663 ,  0.48908304,  0.49387713,  0.495042  ,\n",
       "        0.50192892,  0.49573707,  0.47688623,  0.4772436 ,  0.49632361,\n",
       "        0.4771333 ,  0.41603079,  0.35615366,  0.30724217,  0.30990038,\n",
       "        0.35634082,  0.38866174,  0.41133656,  0.42510514,  0.4369506 ,\n",
       "        0.43739391,  0.43282959,  0.42770533,  0.42403921,  0.42316732,\n",
       "        0.42276987,  0.42427745,  0.42586789,  0.42714758,  0.42810697,\n",
       "        0.42839675,  0.43013533,  0.43289583,  0.43510601,  0.43575141,\n",
       "        0.43475826,  0.4349484 ,  0.43559075,  0.43714932,  0.4370503 ,\n",
       "        0.43411762,  0.4296468 ,  0.42490314,  0.42437232,  0.42715365,\n",
       "        0.43149582,  0.4340593 ,  0.43377178,  0.43333806,  0.43280604,\n",
       "        0.43411417,  0.43464649,  0.43422909,  0.43204273,  0.42983799,\n",
       "        0.42964161,  0.43254234,  0.43701891,  0.44048153,  0.44159648,\n",
       "        0.44169714,  0.44292274,  0.44664939,  0.45304933,  0.45892957,\n",
       "        0.46057397,  0.45085174,  0.36448036,  0.20676405,  0.05100047,\n",
       "        0.        ,  0.13112822,  0.3987063 ,  0.57080047,  0.60114965,\n",
       "        0.61280652,  0.60810297,  0.5835849 ,  0.55031396,  0.52273863,\n",
       "        0.48254233,  0.40313145,  0.35098869,  0.3501183 ,  0.38047566,\n",
       "        0.40245352,  0.40934493,  0.40792457,  0.40693177,  0.40690583,\n",
       "        0.40712692,  0.40738699,  0.40803914,  0.40908828,  0.41022301,\n",
       "        0.41116798,  0.41233149,  0.41430039,  0.41718409,  0.42076332,\n",
       "        0.42459868,  0.42884907,  0.43418346,  0.44122505,  0.45050906,\n",
       "        0.46100701,  0.47040532,  0.47653167,  0.47842158,  0.47431049,\n",
       "        0.46287312,  0.45090079,  0.43848303,  0.41750001,  0.39218859,\n",
       "        0.39548646,  0.44224507,  0.74932534,  1.        ,  0.76818614,\n",
       "       -1.125     , -1.1313    , -1.1383    , -1.1467    , -1.1386    ,\n",
       "       -1.1414    , -1.1437    , -1.1444    , -1.1549    , -1.1464    ,\n",
       "       -1.1497    , -1.1457    , -1.1419    , -1.1384    , -1.1385    ,\n",
       "       -1.133     , -1.1207    , -1.1186    , -1.1006    , -1.0619    ,\n",
       "       -0.98877   , -0.89805   , -0.79587   , -0.73432   , -0.69687   ,\n",
       "       -0.66992   , -0.66911   , -0.68194   , -0.68481   , -0.69305   ,\n",
       "       -0.68082   , -0.66386   , -0.63402   , -0.59582   , -0.58019   ,\n",
       "       -0.52662   , -0.43224   , -0.27027   , -0.10319   ,  0.078542  ,\n",
       "        0.28436   ,  0.4541    ,  0.5741    ,  0.70715   ,  0.81823   ,\n",
       "        0.92508   ,  0.97562   ,  1.0226    ,  1.097     ,  1.1103    ,\n",
       "        1.148     ,  1.1576    ,  1.1498    ,  1.1595    ,  1.1517    ,\n",
       "        1.1575    ,  1.1495    ,  1.1533    ,  1.1473    ,  1.153     ,\n",
       "        1.1671    ,  1.1543    ,  1.1576    ,  1.172     ,  1.1679    ,\n",
       "        1.1784    ,  1.1838    ,  1.1829    ,  1.1717    ,  1.1925    ,\n",
       "        1.1922    ,  1.1849    ,  1.187     ,  1.1746    ,  1.1832    ,\n",
       "        1.1736    ,  1.1736    ,  1.1868    ,  1.1821    ,  1.1954    ,\n",
       "        1.1749    ,  1.1869    ,  1.1903    ,  1.1973    ,  1.1923    ,\n",
       "        1.1861    ,  1.188     ,  1.198     ,  1.1963    ,  1.2023    ,\n",
       "        1.2045    ,  1.2106    ,  1.2157    ,  1.1977    ,  1.2057    ,\n",
       "        1.2018    ,  1.1955    ,  1.1658    ,  1.1373    ,  1.0732    ,\n",
       "        1.0091    ,  0.90823   ,  0.76784   ,  0.6441    ,  0.47294   ,\n",
       "        0.33946   ,  0.21282   ,  0.049185  , -0.082446  , -0.23103   ,\n",
       "       -0.36689   , -0.46412   , -0.53039   , -0.58961   , -0.64786   ,\n",
       "       -0.68991   , -0.72026   , -0.739     , -0.75119   , -0.76259   ,\n",
       "       -0.76566   , -0.78549   , -0.78369   , -0.78892   , -0.79126   ,\n",
       "       -0.80189   , -0.8055    , -0.81489   , -0.81589   , -0.81869   ,\n",
       "       -0.83513   , -0.84464   , -0.85432   , -0.87302   , -0.88551   ,\n",
       "       -0.92003   , -0.9482    , -0.99664   , -1.0539    , -1.137     ,\n",
       "       -1.2056    , -1.2812    , -1.3234    , -1.3458    , -1.3445    ,\n",
       "       -1.3011    , -1.2659    , -1.2127    , -1.2062    , -1.2184    ])"
      ]
     },
     "execution_count": 23,
     "metadata": {},
     "output_type": "execute_result"
    }
   ],
   "source": []
  },
  {
   "attachments": {},
   "cell_type": "markdown",
   "id": "fb7024ca",
   "metadata": {},
   "source": [
    "### Load Data"
   ]
  },
  {
   "cell_type": "code",
   "execution_count": 3,
   "id": "0e238710",
   "metadata": {},
   "outputs": [],
   "source": [
    "from utils.utils import read_dataset\n",
    "\n",
    "data_p = 'G:/Meine Ablage/master thesis/code/xai-tsc'\n",
    "archive = 'ucr'\n",
    "dataset_name = 'GunPoint'\n",
    "data_source = 'pointwise'\n",
    "\n",
    "\n",
    "def readucr(filename):\n",
    "    data = np.loadtxt(filename, delimiter=',')\n",
    "    Y = data[:, :150]\n",
    "    X = data[:, 150:]\n",
    "\n",
    "    return X, Y\n",
    "            \n",
    "\n",
    "def read_dataset(root_dir, archive_name, dataset_name, data_source):\n",
    "    datasets_dict = {}\n",
    "    cur_root_dir = root_dir.replace('-temp', '')\n",
    "    if data_source == 'original': \n",
    "        file_name = cur_root_dir + '/archives/' + archive_name + '/' + dataset_name \n",
    "    else: \n",
    "        file_name = cur_root_dir + '/archives/' + archive_name + '/' + dataset_name  + '/' + data_source + '/'\n",
    "\n",
    "    x_train, y_train = readucr(file_name + '/' + dataset_name + '_TRAIN')\n",
    "    x_test, y_test = readucr(file_name + '/' + dataset_name + '_TEST')\n",
    "    datasets_dict[dataset_name] = (x_train.copy(), y_train.copy(), x_test.copy(),y_test.copy())\n",
    "    return datasets_dict\n",
    "\n",
    "data = read_dataset(data_p, archive, dataset_name,  data_source)[\"GunPoint\"]\n",
    "x_train = data[0]\n",
    "y_train = data[1]\n",
    "x_test = data[2]\n",
    "y_test = data[3]"
   ]
  },
  {
   "attachments": {},
   "cell_type": "markdown",
   "id": "3ba49de3",
   "metadata": {},
   "source": [
    "## Dense Layer\n"
   ]
  },
  {
   "attachments": {},
   "cell_type": "markdown",
   "id": "70c5b2cb",
   "metadata": {},
   "source": [
    "### Check if Gamma = 1 produces same result\n"
   ]
  },
  {
   "cell_type": "code",
   "execution_count": 93,
   "id": "f0d42ab3",
   "metadata": {},
   "outputs": [],
   "source": [
    "from utils.utils import read_dataset\n",
    "\n",
    "\n",
    "root_dir = 'G:/Meine Ablage/master thesis/code/xai-tsc'\n",
    "archive_name = 'ucr'\n",
    "classifier = 'fcn_1.0'\n",
    "#classifier = 'fcn_mt_dense_itr_'\n",
    "dataset_name =  'GunPoint'\n",
    "data_source = 'original'\n",
    "mode = 'stl'\n",
    "\n",
    "\n",
    "\n",
    "def calculate_pointwise_attributions(root_dir, archive_name, classifier, dataset_name, data_source, mode, task=1):\n",
    "    #import tensorflow_addons as tfa\n",
    "    import tensorflow.keras as keras\n",
    "    import sklearn\n",
    "    import os\n",
    "\n",
    "    if task == 1: \n",
    "        datasets_dict = read_dataset(root_dir, archive_name, dataset_name,  'original')\n",
    "    elif task == 2: \n",
    "        datasets_dict = read_dataset(root_dir, archive_name, dataset_name,  data_source)\n",
    "        \n",
    "    x_train, y_train, x_test, y_test = datasets_dict[dataset_name]\n",
    "\n",
    "    # transform to binary labels\n",
    "    enc = sklearn.preprocessing.OneHotEncoder()\n",
    "    enc.fit(np.concatenate((y_train, y_test), axis=0).reshape(-1, 1))\n",
    "    y_train_binary = enc.transform(y_train.reshape(-1, 1)).toarray()\n",
    "    \n",
    "    orgx_train = x_train\n",
    "    orgx_test = x_test\n",
    "    \n",
    "    x_train = x_train.reshape(x_train.shape[0], x_train.shape[1], 1)\n",
    "    x_test  = x_test.reshape(x_test.shape[0], x_test.shape[1], 1)\n",
    "\n",
    "    model_path = f'{root_dir}/results/{archive_name}/{dataset_name}/' \\\n",
    "                                        + f'{classifier.split(\"_\")[0]}/{classifier}/{data_source}/' \\\n",
    "                                        + f'best_model.hdf5'\n",
    "    #print(model_path)\n",
    "    \n",
    "    model = keras.models.load_model(model_path ,compile=False)\n",
    "\n",
    "    #print(model.layers[-15].name)\n",
    "    #print(model.summary())\n",
    "\n",
    "    if mode == 'stl' or classifier == 'fcn_1.0': \n",
    "        relu, softm = (-3,-1)\n",
    "\n",
    "    elif mode == 'mtl': \n",
    "        if task == 1:\n",
    "            if 'ae' in classifier:   \n",
    "                relu, softm = (-15,-2)\n",
    "            else: \n",
    "                relu, softm = (-4,-2)\n",
    "            \n",
    "            #relu, softm = (-10,-2)\n",
    "        elif task == 2:\n",
    "            relu, softm = (-4,-1)\n",
    "\n",
    "            \n",
    "    w_k_c = model.layers[softm].get_weights()[0]  # weights for each filter k for each class c\n",
    "\n",
    "    #print(model.layers[relu].name,model.layers[relu])\n",
    "    # the same input\n",
    "    new_input_layer = model.inputs\n",
    "    new_output_layer = [model.layers[relu].output, model.layers[softm].output]\n",
    "    new_feed_forward = keras.backend.function(new_input_layer, new_output_layer)\n",
    "    output = []\n",
    "\n",
    "    for orgx_vals,x_vals,y_vals in [[orgx_train,x_train,y_train],[orgx_test,x_test,y_test]]:\n",
    "        attr = list()\n",
    "        for idx,ts in enumerate(x_vals):\n",
    "            ts = ts.reshape(1, -1, 1)\n",
    "            [conv_out, predicted] = new_feed_forward([ts])\n",
    "            cas = np.zeros(dtype=np.float64, shape=(conv_out.shape[1]))\n",
    "\n",
    "            for k, w in enumerate(w_k_c[:,int(y_vals[idx]-1)]):\n",
    "                cas += w * conv_out[0, :, k] \n",
    "            attr.append([y_vals[idx],orgx_vals[idx],cas])\n",
    "        output.append(attr)\n",
    "    return output\n",
    "\n",
    "att_train, att_test = calculate_pointwise_attributions(root_dir, archive_name, classifier, dataset_name, data_source, mode, task=1)\n"
   ]
  },
  {
   "cell_type": "code",
   "execution_count": 98,
   "id": "ab08202c",
   "metadata": {},
   "outputs": [
    {
     "name": "stdout",
     "output_type": "stream",
     "text": [
      "pointwise\n",
      "0.3133333333333333\n",
      "5/5 [==============================] - 0s 8ms/step\n",
      "pointwise\n",
      "1.0\n",
      "5/5 [==============================] - 0s 9ms/step\n",
      "minmax\n",
      "1.0\n",
      "5/5 [==============================] - 0s 8ms/step\n",
      "original\n",
      "1.0\n",
      "5/5 [==============================] - 0s 9ms/step\n"
     ]
    },
    {
     "ename": "ValueError",
     "evalue": "all the input array dimensions except for the concatenation axis must match exactly, but along dimension 1, the array at index 0 has size 150 and the array at index 1 has size 1",
     "output_type": "error",
     "traceback": [
      "\u001b[1;31m---------------------------------------------------------------------------\u001b[0m",
      "\u001b[1;31mValueError\u001b[0m                                Traceback (most recent call last)",
      "Cell \u001b[1;32mIn[98], line 47\u001b[0m\n\u001b[0;32m     44\u001b[0m         pred \u001b[39m=\u001b[39m att_pred[ts]\n\u001b[0;32m     46\u001b[0m     avg_sim \u001b[39m+\u001b[39m\u001b[39m=\u001b[39m np\u001b[39m.\u001b[39mcorrcoef(y_test[ts],att_test[ts][\u001b[39m2\u001b[39m])[\u001b[39m0\u001b[39m,\u001b[39m1\u001b[39m]\n\u001b[1;32m---> 47\u001b[0m     avg_sim_pred \u001b[39m+\u001b[39m\u001b[39m=\u001b[39m np\u001b[39m.\u001b[39;49mcorrcoef(y_test[ts],pred)[\u001b[39m0\u001b[39m,\u001b[39m1\u001b[39m]\n\u001b[0;32m     48\u001b[0m     curr_sim_pred_sim \u001b[39m+\u001b[39m\u001b[39m=\u001b[39m  np\u001b[39m.\u001b[39mcorrcoef(pred,att_test[ts][\u001b[39m2\u001b[39m])[\u001b[39m0\u001b[39m,\u001b[39m1\u001b[39m]\n\u001b[0;32m     49\u001b[0m \u001b[39m#new_row = {'name':classifier, 'similarity':avg_sim, 'pred att sim': avg_sim_pred}\u001b[39;00m\n\u001b[0;32m     50\u001b[0m \u001b[39m#results.append(new_row, ignore_index=True)\u001b[39;00m\n",
      "File \u001b[1;32m<__array_function__ internals>:200\u001b[0m, in \u001b[0;36mcorrcoef\u001b[1;34m(*args, **kwargs)\u001b[0m\n",
      "File \u001b[1;32mc:\\Users\\boent\\anaconda3\\envs\\xai-tsc\\lib\\site-packages\\numpy\\lib\\function_base.py:2846\u001b[0m, in \u001b[0;36mcorrcoef\u001b[1;34m(x, y, rowvar, bias, ddof, dtype)\u001b[0m\n\u001b[0;32m   2842\u001b[0m \u001b[39mif\u001b[39;00m bias \u001b[39mis\u001b[39;00m \u001b[39mnot\u001b[39;00m np\u001b[39m.\u001b[39m_NoValue \u001b[39mor\u001b[39;00m ddof \u001b[39mis\u001b[39;00m \u001b[39mnot\u001b[39;00m np\u001b[39m.\u001b[39m_NoValue:\n\u001b[0;32m   2843\u001b[0m     \u001b[39m# 2015-03-15, 1.10\u001b[39;00m\n\u001b[0;32m   2844\u001b[0m     warnings\u001b[39m.\u001b[39mwarn(\u001b[39m'\u001b[39m\u001b[39mbias and ddof have no effect and are deprecated\u001b[39m\u001b[39m'\u001b[39m,\n\u001b[0;32m   2845\u001b[0m                   \u001b[39mDeprecationWarning\u001b[39;00m, stacklevel\u001b[39m=\u001b[39m\u001b[39m3\u001b[39m)\n\u001b[1;32m-> 2846\u001b[0m c \u001b[39m=\u001b[39m cov(x, y, rowvar, dtype\u001b[39m=\u001b[39;49mdtype)\n\u001b[0;32m   2847\u001b[0m \u001b[39mtry\u001b[39;00m:\n\u001b[0;32m   2848\u001b[0m     d \u001b[39m=\u001b[39m diag(c)\n",
      "File \u001b[1;32m<__array_function__ internals>:200\u001b[0m, in \u001b[0;36mcov\u001b[1;34m(*args, **kwargs)\u001b[0m\n",
      "File \u001b[1;32mc:\\Users\\boent\\anaconda3\\envs\\xai-tsc\\lib\\site-packages\\numpy\\lib\\function_base.py:2640\u001b[0m, in \u001b[0;36mcov\u001b[1;34m(m, y, rowvar, bias, ddof, fweights, aweights, dtype)\u001b[0m\n\u001b[0;32m   2638\u001b[0m     \u001b[39mif\u001b[39;00m \u001b[39mnot\u001b[39;00m rowvar \u001b[39mand\u001b[39;00m y\u001b[39m.\u001b[39mshape[\u001b[39m0\u001b[39m] \u001b[39m!=\u001b[39m \u001b[39m1\u001b[39m:\n\u001b[0;32m   2639\u001b[0m         y \u001b[39m=\u001b[39m y\u001b[39m.\u001b[39mT\n\u001b[1;32m-> 2640\u001b[0m     X \u001b[39m=\u001b[39m np\u001b[39m.\u001b[39;49mconcatenate((X, y), axis\u001b[39m=\u001b[39;49m\u001b[39m0\u001b[39;49m)\n\u001b[0;32m   2642\u001b[0m \u001b[39mif\u001b[39;00m ddof \u001b[39mis\u001b[39;00m \u001b[39mNone\u001b[39;00m:\n\u001b[0;32m   2643\u001b[0m     \u001b[39mif\u001b[39;00m bias \u001b[39m==\u001b[39m \u001b[39m0\u001b[39m:\n",
      "File \u001b[1;32m<__array_function__ internals>:200\u001b[0m, in \u001b[0;36mconcatenate\u001b[1;34m(*args, **kwargs)\u001b[0m\n",
      "\u001b[1;31mValueError\u001b[0m: all the input array dimensions except for the concatenation axis must match exactly, but along dimension 1, the array at index 0 has size 150 and the array at index 1 has size 1"
     ]
    }
   ],
   "source": [
    "import pandas as pd\n",
    "root_dir = 'G:/Meine Ablage/master thesis/code/xai-tsc'\n",
    "archive_name = 'ucr'\n",
    "dataset_name =  'GunPoint'\n",
    "data_source = 'minmax'\n",
    "mode = 'mtl'\n",
    "ospath = f'{data_p}/results/{archive}/{dataset_name}/fcn'#data_p + archive + dataset_name + data_source\n",
    "\n",
    "\n",
    "#results  = pd.DataFrame(columns=['name','similarity','pred att sim'])\n",
    "hp_array = list()\n",
    "for res in os.listdir(ospath): \n",
    "   \n",
    "    if True:\n",
    "    #'sigmoid' in res: #or 'dense' in res or 'ae' in res: \n",
    "        \n",
    "        classifier = res \n",
    "        \n",
    "        ds = os.listdir(ospath + '/' + classifier + '/' )\n",
    "\n",
    "        for data_source in ds: \n",
    "            print(data_source)\n",
    "\n",
    "            if data_source == 'original': \n",
    "                mtl \n",
    "            att_train, att_test = calculate_pointwise_attributions(root_dir, archive_name, classifier, \n",
    "                                            dataset_name, data_source, mode, task=1)\n",
    "        \n",
    "            folder_path = f'{root_dir}/results/{archive_name}/{dataset_name}/' \\\n",
    "                                            + f'{classifier.split(\"_\")[0]}/{classifier}/{data_source}/'\n",
    "\n",
    "            loaded_model = keras.models.load_model(folder_path + f'best_model.hdf5' ,compile=False)\n",
    "\n",
    "            metrics  = pd.read_csv(folder_path + 'task1_df_metrics.csv')\n",
    "            \n",
    "            print(metrics[\"accuracy\"].values[0])\n",
    "\n",
    "            att_pred = loaded_model.predict(x_test)[1] # predict attributions\n",
    "\n",
    "            avg_sim = 0\n",
    "            avg_sim_pred = 0\n",
    "            curr_sim_pred_sim = 0\n",
    "            for ts in range(len(att_test)):\n",
    "                if 'ae' in classifier:   \n",
    "                    pred = att_pred[ts].flatten()\n",
    "                else:\n",
    "                    pred = att_pred[ts]\n",
    "\n",
    "                avg_sim += np.corrcoef(y_test[ts],att_test[ts][2])[0,1]\n",
    "                avg_sim_pred += np.corrcoef(y_test[ts],pred)[0,1]\n",
    "                curr_sim_pred_sim +=  np.corrcoef(pred,att_test[ts][2])[0,1]\n",
    "            #new_row = {'name':classifier, 'similarity':avg_sim, 'pred att sim': avg_sim_pred}\n",
    "            #results.append(new_row, ignore_index=True)\n",
    "            avg_sim = avg_sim/len(att_test)\n",
    "            avg_sim_pred = avg_sim_pred/len(att_test)\n",
    "            curr_sim_pred_sim = curr_sim_pred_sim/len(att_test)\n",
    "\n",
    "            hp_array.append([classifier+'/'+data_source,\n",
    "                             avg_sim,\n",
    "                             avg_sim_pred, \n",
    "                             curr_sim_pred_sim, \n",
    "                             metrics[\"accuracy\"].values[0],\n",
    "                             metrics[\"precision\"].values[0],\n",
    "                             metrics[\"recall\"].values[0]])\n",
    "\n",
    "\n",
    "results  = pd.DataFrame(hp_array, columns=['name','similarity',\n",
    "                                           'pred att sim','curr_sim_pred_sim',\n",
    "                                           'accuracy', 'precision','recall'])\n",
    "results"
   ]
  },
  {
   "cell_type": "code",
   "execution_count": 7,
   "id": "0ceceb42",
   "metadata": {},
   "outputs": [
    {
     "name": "stdout",
     "output_type": "stream",
     "text": [
      "activation_2 <keras.layers.core.activation.Activation object at 0x0000024F796C73D0>\n"
     ]
    },
    {
     "data": {
      "text/plain": [
       "(150, 150)"
      ]
     },
     "execution_count": 7,
     "metadata": {},
     "output_type": "execute_result"
    }
   ],
   "source": [
    "#from utils.utils import calculate_pointwise_attributions\n",
    "\n",
    "root_dir = 'G:/Meine Ablage/master thesis/code/xai-tsc'\n",
    "archive_name = 'ucr'\n",
    "classifier = 'fcn_mt_dense_1.0'\n",
    "#classifier = 'fcn_mt_dense_itr_'\n",
    "dataset_name =  'GunPoint'\n",
    "data_source = 'pointwise'\n",
    "mode = 'mtl'\n",
    "\n",
    "att_train, att_test = calculate_pointwise_attributions(root_dir, archive_name, classifier, dataset_name, data_source, mode, task=1)\n",
    "\n",
    "len(x_train[0]),len(y_train[0])"
   ]
  },
  {
   "cell_type": "code",
   "execution_count": 19,
   "id": "86a13867",
   "metadata": {},
   "outputs": [
    {
     "name": "stdout",
     "output_type": "stream",
     "text": [
      "G:/Meine Ablage/master thesis/code/xai-tsc/results/ucr/GunPoint/fcn/fcn_mt_sigmoid_0.5/pointwise/best_model.hdf5\n",
      "yes\n",
      "activation <keras.layers.core.activation.Activation object at 0x000001E5C764A050>\n",
      "5/5 [==============================] - 0s 9ms/step\n"
     ]
    },
    {
     "data": {
      "text/plain": [
       "array([[9.99901831e-01, 9.99904633e-01, 9.87168789e-01, ...,\n",
       "        9.99885559e-01, 9.99880910e-01, 9.99870598e-01],\n",
       "       [6.86868094e-03, 7.04784971e-03, 2.49207260e-05, ...,\n",
       "        7.12574553e-03, 7.11853290e-03, 6.56485790e-03],\n",
       "       [3.68712645e-05, 3.97146105e-05, 1.33586378e-04, ...,\n",
       "        1.77295573e-04, 3.22846259e-04, 2.10252620e-04],\n",
       "       ...,\n",
       "       [1.05068961e-04, 9.99394688e-05, 9.04992248e-06, ...,\n",
       "        1.01885220e-04, 9.85423030e-05, 1.01683145e-04],\n",
       "       [7.53364247e-06, 7.11217763e-06, 4.42550780e-04, ...,\n",
       "        9.46807540e-06, 9.25836775e-06, 1.15062458e-05],\n",
       "       [9.92516696e-01, 9.92755890e-01, 9.26447392e-01, ...,\n",
       "        9.91312087e-01, 9.90955472e-01, 9.91018593e-01]], dtype=float32)"
      ]
     },
     "execution_count": 19,
     "metadata": {},
     "output_type": "execute_result"
    }
   ],
   "source": [
    "model_path = f'{root_dir}/results/{archive_name}/{dataset_name}/' \\\n",
    "                                        + f'{classifier.split(\"_\")[0]}/{classifier}/{data_source}/' \\\n",
    "                                        + f'best_model.hdf5'\n",
    "\n",
    "fcn_mt_dense_1 = keras.models.load_model(model_path ,compile=False)\n",
    "\n",
    "att_train, att_test = calculate_pointwise_attributions(root_dir, archive_name, classifier, dataset_name, data_source, mode, task=1)\n",
    "dense1_pred = fcn_mt_dense_1.predict(x_test)[1]\n",
    "\n"
   ]
  },
  {
   "cell_type": "code",
   "execution_count": 23,
   "id": "8e41bae3",
   "metadata": {},
   "outputs": [
    {
     "name": "stdout",
     "output_type": "stream",
     "text": [
      "0.9999999999999906 -0.025272760857945074\n"
     ]
    }
   ],
   "source": [
    "# Should be the same: (Something not fixed?)\n",
    "avg_sim = 0\n",
    "avg_sim_pred = 0\n",
    "for ts in range(len(att_test)):\n",
    "    avg_sim += np.corrcoef(y_test[ts],att_test[ts][2])[0,1]\n",
    "    avg_sim_pred += np.corrcoef(y_test[ts],dense1_pred[ts])[0,1]\n",
    "\n",
    "print(avg_sim/len(att_test),avg_sim_pred/len(att_test))\n"
   ]
  },
  {
   "attachments": {},
   "cell_type": "markdown",
   "id": "bf76ee5d",
   "metadata": {},
   "source": [
    "### Gamma = 0"
   ]
  },
  {
   "cell_type": "code",
   "execution_count": 24,
   "id": "49d7793d",
   "metadata": {},
   "outputs": [
    {
     "name": "stdout",
     "output_type": "stream",
     "text": [
      "5/5 [==============================] - 0s 9ms/step\n"
     ]
    }
   ],
   "source": [
    "classifier = 'fcn_mt_dense_0.0'\n",
    "model_path = f'{root_dir}/results/{archive_name}/{dataset_name}/' \\\n",
    "                                        + f'{classifier.split(\"_\")[0]}/{classifier}/{data_source}/' \\\n",
    "                                        + f'best_model.hdf5'\n",
    "\n",
    "fcn_mt_dense_1 = keras.models.load_model(model_path ,compile=False)\n",
    "\n",
    "dense1_pred = fcn_mt_dense_1.predict(x_test)[1]"
   ]
  },
  {
   "cell_type": "code",
   "execution_count": 57,
   "id": "21ae284e",
   "metadata": {},
   "outputs": [
    {
     "ename": "KeyboardInterrupt",
     "evalue": "",
     "output_type": "error",
     "traceback": [
      "\u001b[1;31m---------------------------------------------------------------------------\u001b[0m",
      "\u001b[1;31mKeyboardInterrupt\u001b[0m                         Traceback (most recent call last)",
      "Cell \u001b[1;32mIn[57], line 4\u001b[0m\n\u001b[0;32m      2\u001b[0m avg_sim \u001b[39m=\u001b[39m \u001b[39m0\u001b[39m\n\u001b[0;32m      3\u001b[0m avg_sim_pred \u001b[39m=\u001b[39m \u001b[39m0\u001b[39m\n\u001b[1;32m----> 4\u001b[0m att_train, att_test \u001b[39m=\u001b[39m calculate_pointwise_attributions(root_dir, archive_name, classifier, dataset_name, data_source, mode, task\u001b[39m=\u001b[39;49m\u001b[39m1\u001b[39;49m)\n\u001b[0;32m      5\u001b[0m \u001b[39mfor\u001b[39;00m ts \u001b[39min\u001b[39;00m \u001b[39mrange\u001b[39m(\u001b[39mlen\u001b[39m(att_test)):\n\u001b[0;32m      6\u001b[0m     avg_sim \u001b[39m+\u001b[39m\u001b[39m=\u001b[39m np\u001b[39m.\u001b[39mcorrcoef(y_test[ts],att_test[ts][\u001b[39m2\u001b[39m])[\u001b[39m0\u001b[39m,\u001b[39m1\u001b[39m]\n",
      "Cell \u001b[1;32mIn[56], line 43\u001b[0m, in \u001b[0;36mcalculate_pointwise_attributions\u001b[1;34m(root_dir, archive_name, classifier, dataset_name, data_source, mode, task)\u001b[0m\n\u001b[0;32m     38\u001b[0m model_path \u001b[39m=\u001b[39m \u001b[39mf\u001b[39m\u001b[39m'\u001b[39m\u001b[39m{\u001b[39;00mroot_dir\u001b[39m}\u001b[39;00m\u001b[39m/results/\u001b[39m\u001b[39m{\u001b[39;00marchive_name\u001b[39m}\u001b[39;00m\u001b[39m/\u001b[39m\u001b[39m{\u001b[39;00mdataset_name\u001b[39m}\u001b[39;00m\u001b[39m/\u001b[39m\u001b[39m'\u001b[39m \\\n\u001b[0;32m     39\u001b[0m                                     \u001b[39m+\u001b[39m \u001b[39mf\u001b[39m\u001b[39m'\u001b[39m\u001b[39m{\u001b[39;00mclassifier\u001b[39m.\u001b[39msplit(\u001b[39m\"\u001b[39m\u001b[39m_\u001b[39m\u001b[39m\"\u001b[39m)[\u001b[39m0\u001b[39m]\u001b[39m}\u001b[39;00m\u001b[39m/\u001b[39m\u001b[39m{\u001b[39;00mclassifier\u001b[39m}\u001b[39;00m\u001b[39m/\u001b[39m\u001b[39m{\u001b[39;00mdata_source\u001b[39m}\u001b[39;00m\u001b[39m/\u001b[39m\u001b[39m'\u001b[39m \\\n\u001b[0;32m     40\u001b[0m                                     \u001b[39m+\u001b[39m \u001b[39mf\u001b[39m\u001b[39m'\u001b[39m\u001b[39mbest_model.hdf5\u001b[39m\u001b[39m'\u001b[39m\n\u001b[0;32m     41\u001b[0m \u001b[39m#print(model_path)\u001b[39;00m\n\u001b[1;32m---> 43\u001b[0m model \u001b[39m=\u001b[39m keras\u001b[39m.\u001b[39;49mmodels\u001b[39m.\u001b[39;49mload_model(model_path ,\u001b[39mcompile\u001b[39;49m\u001b[39m=\u001b[39;49m\u001b[39mFalse\u001b[39;49;00m)\n\u001b[0;32m     45\u001b[0m \u001b[39mif\u001b[39;00m mode \u001b[39m==\u001b[39m \u001b[39m'\u001b[39m\u001b[39mstl\u001b[39m\u001b[39m'\u001b[39m: \n\u001b[0;32m     46\u001b[0m     relu, softm \u001b[39m=\u001b[39m (\u001b[39m-\u001b[39m\u001b[39m3\u001b[39m,\u001b[39m-\u001b[39m\u001b[39m1\u001b[39m)\n",
      "File \u001b[1;32mc:\\Users\\boent\\anaconda3\\envs\\xai-tsc\\lib\\site-packages\\keras\\utils\\traceback_utils.py:65\u001b[0m, in \u001b[0;36mfilter_traceback.<locals>.error_handler\u001b[1;34m(*args, **kwargs)\u001b[0m\n\u001b[0;32m     63\u001b[0m filtered_tb \u001b[39m=\u001b[39m \u001b[39mNone\u001b[39;00m\n\u001b[0;32m     64\u001b[0m \u001b[39mtry\u001b[39;00m:\n\u001b[1;32m---> 65\u001b[0m     \u001b[39mreturn\u001b[39;00m fn(\u001b[39m*\u001b[39margs, \u001b[39m*\u001b[39m\u001b[39m*\u001b[39mkwargs)\n\u001b[0;32m     66\u001b[0m \u001b[39mexcept\u001b[39;00m \u001b[39mException\u001b[39;00m \u001b[39mas\u001b[39;00m e:\n\u001b[0;32m     67\u001b[0m     filtered_tb \u001b[39m=\u001b[39m _process_traceback_frames(e\u001b[39m.\u001b[39m__traceback__)\n",
      "File \u001b[1;32mc:\\Users\\boent\\anaconda3\\envs\\xai-tsc\\lib\\site-packages\\keras\\saving\\save.py:222\u001b[0m, in \u001b[0;36mload_model\u001b[1;34m(filepath, custom_objects, compile, options)\u001b[0m\n\u001b[0;32m    220\u001b[0m \u001b[39mwith\u001b[39;00m generic_utils\u001b[39m.\u001b[39mSharedObjectLoadingScope():\n\u001b[0;32m    221\u001b[0m     \u001b[39mwith\u001b[39;00m generic_utils\u001b[39m.\u001b[39mCustomObjectScope(custom_objects \u001b[39mor\u001b[39;00m {}):\n\u001b[1;32m--> 222\u001b[0m         \u001b[39mwith\u001b[39;00m load_context\u001b[39m.\u001b[39mload_context(options):\n\u001b[0;32m    223\u001b[0m             filepath_str \u001b[39m=\u001b[39m path_to_string(filepath)\n\u001b[0;32m    224\u001b[0m             \u001b[39mif\u001b[39;00m \u001b[39misinstance\u001b[39m(filepath_str, \u001b[39mstr\u001b[39m):\n",
      "File \u001b[1;32mc:\\Users\\boent\\anaconda3\\envs\\xai-tsc\\lib\\contextlib.py:139\u001b[0m, in \u001b[0;36m_GeneratorContextManager.__exit__\u001b[1;34m(self, typ, value, traceback)\u001b[0m\n\u001b[0;32m    136\u001b[0m     \u001b[39mexcept\u001b[39;00m \u001b[39mStopIteration\u001b[39;00m:\n\u001b[0;32m    137\u001b[0m         \u001b[39mraise\u001b[39;00m \u001b[39mRuntimeError\u001b[39;00m(\u001b[39m\"\u001b[39m\u001b[39mgenerator didn\u001b[39m\u001b[39m'\u001b[39m\u001b[39mt yield\u001b[39m\u001b[39m\"\u001b[39m) \u001b[39mfrom\u001b[39;00m \u001b[39mNone\u001b[39;00m\n\u001b[1;32m--> 139\u001b[0m \u001b[39mdef\u001b[39;00m \u001b[39m__exit__\u001b[39m(\u001b[39mself\u001b[39m, typ, value, traceback):\n\u001b[0;32m    140\u001b[0m     \u001b[39mif\u001b[39;00m typ \u001b[39mis\u001b[39;00m \u001b[39mNone\u001b[39;00m:\n\u001b[0;32m    141\u001b[0m         \u001b[39mtry\u001b[39;00m:\n",
      "\u001b[1;31mKeyboardInterrupt\u001b[0m: "
     ]
    }
   ],
   "source": [
    "# Should be the same: (Something not fixed?)\n",
    "avg_sim = 0\n",
    "avg_sim_pred = 0\n",
    "att_train, att_test = calculate_pointwise_attributions(root_dir, archive_name, classifier, dataset_name, data_source, mode, task=1)\n",
    "for ts in range(len(att_test)):\n",
    "    avg_sim += np.corrcoef(y_test[ts],att_test[ts][2])[0,1]\n",
    "    avg_sim_pred += np.corrcoef(y_test[ts],dense1_pred[ts])[0,1]\n",
    "\n",
    "print(avg_sim/len(att_test),avg_sim_pred/len(att_test))"
   ]
  },
  {
   "attachments": {},
   "cell_type": "markdown",
   "id": "33a8cbfb",
   "metadata": {},
   "source": [
    "### Gamma 0.5"
   ]
  },
  {
   "cell_type": "code",
   "execution_count": 26,
   "id": "ff9adfc4",
   "metadata": {},
   "outputs": [
    {
     "name": "stdout",
     "output_type": "stream",
     "text": [
      "5/5 [==============================] - 0s 8ms/step\n"
     ]
    }
   ],
   "source": [
    "classifier = 'fcn_mt_dense_0.5'\n",
    "model_path = f'{root_dir}/results/{archive_name}/{dataset_name}/' \\\n",
    "                                        + f'{classifier.split(\"_\")[0]}/{classifier}/{data_source}/' \\\n",
    "                                        + f'best_model.hdf5'\n",
    "\n",
    "fcn_mt_dense_05 = keras.models.load_model(model_path ,compile=False)\n",
    "\n",
    "dense05_pred = fcn_mt_dense_05.predict(x_test)[1]"
   ]
  },
  {
   "cell_type": "code",
   "execution_count": 27,
   "id": "5d7e4db6",
   "metadata": {},
   "outputs": [
    {
     "name": "stdout",
     "output_type": "stream",
     "text": [
      "G:/Meine Ablage/master thesis/code/xai-tsc/results/ucr/GunPoint/fcn/fcn_mt_dense_0.5/pointwise/best_model.hdf5\n",
      "yes\n",
      "0.5709618688918913 0.5247286625592978\n"
     ]
    }
   ],
   "source": [
    "# Should be the same: (Something not fixed?)\n",
    "avg_sim = 0\n",
    "avg_sim_pred = 0\n",
    "att_train, att_test = calculate_pointwise_attributions(root_dir, archive_name, classifier, dataset_name, data_source, mode, task=1)\n",
    "for ts in range(len(att_test)):\n",
    "    avg_sim += np.corrcoef(y_test[ts],att_test[ts][2])[0,1]\n",
    "    avg_sim_pred += np.corrcoef(y_test[ts],dense05_pred[ts])[0,1]\n",
    "\n",
    "print(avg_sim/len(att_test),avg_sim_pred/len(att_test))"
   ]
  },
  {
   "cell_type": "code",
   "execution_count": 33,
   "id": "536312ea",
   "metadata": {},
   "outputs": [
    {
     "data": {
      "text/plain": [
       "<matplotlib.collections.PathCollection at 0x291bea30460>"
      ]
     },
     "execution_count": 33,
     "metadata": {},
     "output_type": "execute_result"
    },
    {
     "data": {
      "image/png": "[encoded data removed]",
      "text/plain": [
       "<Figure size 2000x500 with 2 Axes>"
      ]
     },
     "metadata": {},
     "output_type": "display_data"
    }
   ],
   "source": [
    "ts = 10\n",
    "fig, axes = plt.subplots(nrows=1, ncols=2, figsize=(20, 5))\n",
    "axes[0].scatter(np.arange(len(x_test[ts])),\n",
    "         x_test[ts],c=y_test[ts]*100,cmap='jet', marker='.', s=2, vmin=-100, vmax=100, linewidths=2.0)\n",
    "\n",
    "axes[1].scatter(np.arange(len(x_test[ts])),\n",
    "         x_test[ts],c=att_test[ts][2]*100,cmap='jet', marker='.', s=2, vmin=-100, vmax=100, linewidths=2.0)\n"
   ]
  },
  {
   "attachments": {},
   "cell_type": "markdown",
   "id": "2a91ac6f",
   "metadata": {},
   "source": [
    "## Auto Encoder Structure\n"
   ]
  },
  {
   "attachments": {},
   "cell_type": "markdown",
   "id": "feb144ec",
   "metadata": {},
   "source": [
    "### Gamma 0\n"
   ]
  },
  {
   "cell_type": "code",
   "execution_count": 62,
   "id": "01ef1d97",
   "metadata": {},
   "outputs": [
    {
     "name": "stdout",
     "output_type": "stream",
     "text": [
      "5/5 [==============================] - 0s 23ms/step\n",
      "G:/Meine Ablage/master thesis/code/xai-tsc/results/ucr/GunPoint/fcn/fcn_mt_ae_0.0/pointwise/best_model.hdf5\n",
      "yes\n",
      "activation_3 <keras.layers.core.activation.Activation object at 0x00000291C208FA90>\n",
      "150\n",
      "-0.0028537579724681557 0.5494614081567465\n"
     ]
    }
   ],
   "source": [
    "classifier = 'fcn_mt_ae_0.0'\n",
    "model_path = f'{root_dir}/results/{archive_name}/{dataset_name}/' \\\n",
    "                                        + f'{classifier.split(\"_\")[0]}/{classifier}/{data_source}/' \\\n",
    "                                        + f'best_model.hdf5'\n",
    "\n",
    "fcn_ae_1 = keras.models.load_model(model_path ,compile=False)\n",
    "\n",
    "ae1_pred = fcn_ae_1.predict(x_test)[1]\n",
    "\n",
    "#print(ae1_pred[0].flatten())\n",
    "# Should be the same: (Something not fixed?)\n",
    "avg_sim = 0\n",
    "avg_sim_pred = 0\n",
    "att_train, att_test = calculate_pointwise_attributions(root_dir, archive_name, classifier, dataset_name, data_source, mode, task=1)\n",
    "print(len(att_test))\n",
    "for ts in range(len(att_test)):\n",
    "    avg_sim += np.corrcoef(y_test[ts],att_test[ts][2])[0,1]\n",
    "    avg_sim_pred += np.corrcoef(y_test[ts],ae1_pred[ts].flatten())[0,1]\n",
    "\n",
    "print(avg_sim/len(att_test),avg_sim_pred/len(att_test))"
   ]
  },
  {
   "cell_type": "code",
   "execution_count": 17,
   "id": "18262879",
   "metadata": {},
   "outputs": [
    {
     "ename": "NameError",
     "evalue": "name 'model05' is not defined",
     "output_type": "error",
     "traceback": [
      "\u001b[1;31m---------------------------------------------------------------------------\u001b[0m",
      "\u001b[1;31mNameError\u001b[0m                                 Traceback (most recent call last)",
      "Cell \u001b[1;32mIn[17], line 4\u001b[0m\n\u001b[0;32m      2\u001b[0m ts \u001b[39m=\u001b[39m \u001b[39m0\u001b[39m\n\u001b[0;32m      3\u001b[0m \u001b[39m#plt.plot(x[ts],c=\"red\")\u001b[39;00m\n\u001b[1;32m----> 4\u001b[0m y_pred \u001b[39m=\u001b[39m model05\u001b[39m.\u001b[39mpredict(x)[\u001b[39m1\u001b[39m][\u001b[39m0\u001b[39m]\u001b[39m.\u001b[39mflatten()\n\u001b[0;32m      5\u001b[0m y_pred0 \u001b[39m=\u001b[39m model00\u001b[39m.\u001b[39mpredict(x)[\u001b[39m1\u001b[39m][\u001b[39m0\u001b[39m]\u001b[39m.\u001b[39mflatten()\n\u001b[0;32m      6\u001b[0m y_predd \u001b[39m=\u001b[39m modeld\u001b[39m.\u001b[39mpredict(x)[\u001b[39m1\u001b[39m][\u001b[39m0\u001b[39m]\u001b[39m.\u001b[39mflatten()\n",
      "\u001b[1;31mNameError\u001b[0m: name 'model05' is not defined"
     ]
    }
   ],
   "source": [
    "%matplotlib inline\n",
    "ts = 0\n",
    "#plt.plot(x[ts],c=\"red\")\n",
    "y_pred = model05.predict(x)[1][0].flatten()\n",
    "y_pred0 = model00.predict(x)[1][0].flatten()\n",
    "y_predd = modeld.predict(x)[1][0].flatten()\n",
    "fig, axes = plt.subplots(nrows=1, ncols=5, figsize=(20, 5))\n",
    "print(np.corrcoef(y_att[ts],pred_ts_0)[1][0],np.corrcoef(y_att[ts],pred_ts_0s)[1][0],np.corrcoef(y_att[ts],pred_ts_0d)[1][0])\n",
    "\n",
    "axes[0].scatter(np.arange(len(x[ts])),x[ts],c=y_att[ts]*100,cmap='jet', marker='.', s=2, vmin=-100, vmax=100, linewidths=2.0)\n",
    "axes[1].scatter(np.arange(len(x[ts])),x[ts],c=y_pred*100,cmap='jet', marker='.', s=2, vmin=-100, vmax=100, linewidths=2.0)\n",
    "axes[2].scatter(np.arange(len(x[ts])),x[ts],c=y_pred0*100,cmap='jet', marker='.', s=2, vmin=-100, vmax=100, linewidths=2.0)\n",
    "axes[3].scatter(np.arange(len(x[ts])),x[ts],c=y_predd*100,cmap='jet', marker='.', s=2, vmin=-100, vmax=100, linewidths=2.0)\n",
    "axes[4].scatter(np.arange(len(att_test[0][1])),att_test[0][1],c=att_test[0][2]*100,cmap='jet', marker='.', s=2, vmin=-100, vmax=100, linewidths=2.0)"
   ]
  }
 ],
 "metadata": {
  "kernelspec": {
   "display_name": "Python 3",
   "language": "python",
   "name": "python3"
  },
  "language_info": {
   "codemirror_mode": {
    "name": "ipython",
    "version": 3
   },
   "file_extension": ".py",
   "mimetype": "text/x-python",
   "name": "python",
   "nbconvert_exporter": "python",
   "pygments_lexer": "ipython3",
   "version": "3.10.11"
  }
 },
 "nbformat": 4,
 "nbformat_minor": 5
}
