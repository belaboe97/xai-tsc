{
 "cells": [
  {
   "cell_type": "code",
   "execution_count": 4,
   "metadata": {},
   "outputs": [
    {
     "name": "stderr",
     "output_type": "stream",
     "text": [
      "C:\\Users\\boent\\AppData\\Local\\Temp\\ipykernel_24304\\287236109.py:45: FutureWarning: The frame.append method is deprecated and will be removed from pandas in a future version. Use pandas.concat instead.\n",
      "  stl_results_fcn = stl_results_fcn.append(stl_results_fcn_i)\n",
      "C:\\Users\\boent\\AppData\\Local\\Temp\\ipykernel_24304\\287236109.py:46: FutureWarning: The frame.append method is deprecated and will be removed from pandas in a future version. Use pandas.concat instead.\n",
      "  stl_results_res = stl_results_res.append(stl_results_res_i)\n",
      "C:\\Users\\boent\\AppData\\Local\\Temp\\ipykernel_24304\\287236109.py:45: FutureWarning: The frame.append method is deprecated and will be removed from pandas in a future version. Use pandas.concat instead.\n",
      "  stl_results_fcn = stl_results_fcn.append(stl_results_fcn_i)\n",
      "C:\\Users\\boent\\AppData\\Local\\Temp\\ipykernel_24304\\287236109.py:46: FutureWarning: The frame.append method is deprecated and will be removed from pandas in a future version. Use pandas.concat instead.\n",
      "  stl_results_res = stl_results_res.append(stl_results_res_i)\n"
     ]
    }
   ],
   "source": [
    "import os \n",
    "import pandas as pd\n",
    "\n",
    "ITERATIONS = 1\n",
    "columns=[\"dataset\", \"mtl\", 'gamma', \"accuracy\", \"precision\", \"recall\", \"duration\"]\n",
    "stl_results_fcn = pd.DataFrame(columns=columns)\n",
    "stl_results_res = pd.DataFrame(columns=columns)\n",
    "\n",
    "\n",
    "\n",
    "for idx, dataset in enumerate(['Beef']):#,'Beef']):#enumerate(os.listdir('./archives/ucr')):\n",
    "\n",
    "    bac = 0; acc=0; precision=0; recall=0; duration=0\n",
    "\n",
    "    for classifier in ['conv_cas','ae_cas']: \n",
    "\n",
    "        for gamma in [0.75]:\n",
    "\n",
    "            stl_results_fcn_i = pd.DataFrame(columns=columns)\n",
    "            stl_results_res_i = pd.DataFrame(columns=columns)\n",
    "\n",
    "            for itr in range(ITERATIONS): \n",
    "                fcn_model = pd.read_csv(f'./results/ucr/{dataset}/experiment_3/fcn/fcn_mt_{classifier}_{gamma}_{itr}/{\"fcn_ig_raw\"}/df_best_model.csv')\n",
    "                fcn_metrics = pd.read_csv(f'./results/ucr/{dataset}/experiment_3/fcn/fcn_mt_{classifier}_{gamma}_{itr}/{\"fcn_ig_raw\"}/task1_df_metrics.csv')\n",
    "                res_model = pd.read_csv(f'./results/ucr/{dataset}/experiment_3/resnet/resnet_mt_{classifier}_{gamma}_{itr}/{\"resnet_ig_raw\"}/df_best_model.csv')\n",
    "                res_metrics = pd.read_csv(f'./results/ucr/{dataset}/experiment_3/resnet/resnet_mt_{classifier}_{gamma}_{itr}/{\"resnet_ig_raw\"}/task1_df_metrics.csv')\n",
    "\n",
    "                \n",
    "\n",
    "                fcn_vals = [fcn_metrics[\"accuracy\"].values[0], fcn_metrics[\"precision\"].values[0],\n",
    "                            fcn_metrics[\"recall\"].values[0], fcn_metrics[\"duration\"].values[0]] \n",
    "                res_vals = [res_metrics[\"accuracy\"].values[0], res_metrics[\"precision\"].values[0],\n",
    "                            res_metrics[\"recall\"].values[0], res_metrics[\"duration\"].values[0]] \n",
    "                #Read STL results for FCN classifier\n",
    "                if itr == 0:\n",
    "                    stl_results_fcn_i.loc[idx] = [dataset,classifier,gamma] + fcn_vals\n",
    "                    stl_results_res_i.loc[idx] = [dataset,classifier,gamma] + res_vals\n",
    "                else:\n",
    "                    stl_results_fcn_i.loc[idx, columns[3:]] += fcn_vals\n",
    "                    stl_results_res_i.loc[idx, columns[3:]] += res_vals\n",
    "\n",
    "            stl_results_fcn_i.loc[idx, columns[3:]] /= ITERATIONS\n",
    "            stl_results_res_i.loc[idx, columns[3:]] /= ITERATIONS\n",
    "\n",
    "            stl_results_fcn = stl_results_fcn.append(stl_results_fcn_i)\n",
    "            stl_results_res = stl_results_res.append(stl_results_res_i)"
   ]
  },
  {
   "cell_type": "code",
   "execution_count": 5,
   "metadata": {},
   "outputs": [
    {
     "data": {
      "text/html": [
       "<div>\n",
       "<style scoped>\n",
       "    .dataframe tbody tr th:only-of-type {\n",
       "        vertical-align: middle;\n",
       "    }\n",
       "\n",
       "    .dataframe tbody tr th {\n",
       "        vertical-align: top;\n",
       "    }\n",
       "\n",
       "    .dataframe thead th {\n",
       "        text-align: right;\n",
       "    }\n",
       "</style>\n",
       "<table border=\"1\" class=\"dataframe\">\n",
       "  <thead>\n",
       "    <tr style=\"text-align: right;\">\n",
       "      <th></th>\n",
       "      <th>dataset</th>\n",
       "      <th>mtl</th>\n",
       "      <th>gamma</th>\n",
       "      <th>accuracy</th>\n",
       "      <th>precision</th>\n",
       "      <th>recall</th>\n",
       "      <th>duration</th>\n",
       "    </tr>\n",
       "  </thead>\n",
       "  <tbody>\n",
       "    <tr>\n",
       "      <th>0</th>\n",
       "      <td>Beef</td>\n",
       "      <td>conv_cas</td>\n",
       "      <td>0.75</td>\n",
       "      <td>0.433333</td>\n",
       "      <td>0.341667</td>\n",
       "      <td>0.433333</td>\n",
       "      <td>55.202374</td>\n",
       "    </tr>\n",
       "    <tr>\n",
       "      <th>0</th>\n",
       "      <td>Beef</td>\n",
       "      <td>ae_cas</td>\n",
       "      <td>0.75</td>\n",
       "      <td>0.433333</td>\n",
       "      <td>0.308333</td>\n",
       "      <td>0.433333</td>\n",
       "      <td>75.365986</td>\n",
       "    </tr>\n",
       "  </tbody>\n",
       "</table>\n",
       "</div>"
      ],
      "text/plain": [
       "  dataset       mtl  gamma  accuracy  precision    recall   duration\n",
       "0    Beef  conv_cas   0.75  0.433333   0.341667  0.433333  55.202374\n",
       "0    Beef    ae_cas   0.75  0.433333   0.308333  0.433333  75.365986"
      ]
     },
     "execution_count": 5,
     "metadata": {},
     "output_type": "execute_result"
    }
   ],
   "source": [
    "stl_results_fcn"
   ]
  },
  {
   "cell_type": "code",
   "execution_count": 6,
   "metadata": {},
   "outputs": [
    {
     "data": {
      "text/html": [
       "<div>\n",
       "<style scoped>\n",
       "    .dataframe tbody tr th:only-of-type {\n",
       "        vertical-align: middle;\n",
       "    }\n",
       "\n",
       "    .dataframe tbody tr th {\n",
       "        vertical-align: top;\n",
       "    }\n",
       "\n",
       "    .dataframe thead th {\n",
       "        text-align: right;\n",
       "    }\n",
       "</style>\n",
       "<table border=\"1\" class=\"dataframe\">\n",
       "  <thead>\n",
       "    <tr style=\"text-align: right;\">\n",
       "      <th></th>\n",
       "      <th>dataset</th>\n",
       "      <th>mtl</th>\n",
       "      <th>gamma</th>\n",
       "      <th>accuracy</th>\n",
       "      <th>precision</th>\n",
       "      <th>recall</th>\n",
       "      <th>duration</th>\n",
       "    </tr>\n",
       "  </thead>\n",
       "  <tbody>\n",
       "    <tr>\n",
       "      <th>0</th>\n",
       "      <td>Beef</td>\n",
       "      <td>conv_cas</td>\n",
       "      <td>0.75</td>\n",
       "      <td>0.733333</td>\n",
       "      <td>0.803333</td>\n",
       "      <td>0.733333</td>\n",
       "      <td>96.577846</td>\n",
       "    </tr>\n",
       "    <tr>\n",
       "      <th>0</th>\n",
       "      <td>Beef</td>\n",
       "      <td>ae_cas</td>\n",
       "      <td>0.75</td>\n",
       "      <td>0.766667</td>\n",
       "      <td>0.845000</td>\n",
       "      <td>0.766667</td>\n",
       "      <td>166.400772</td>\n",
       "    </tr>\n",
       "  </tbody>\n",
       "</table>\n",
       "</div>"
      ],
      "text/plain": [
       "  dataset       mtl  gamma  accuracy  precision    recall    duration\n",
       "0    Beef  conv_cas   0.75  0.733333   0.803333  0.733333   96.577846\n",
       "0    Beef    ae_cas   0.75  0.766667   0.845000  0.766667  166.400772"
      ]
     },
     "execution_count": 6,
     "metadata": {},
     "output_type": "execute_result"
    }
   ],
   "source": [
    "stl_results_res"
   ]
  },
  {
   "attachments": {},
   "cell_type": "markdown",
   "metadata": {},
   "source": [
    "### Calculate Custom Metrics for Attribution Method\n"
   ]
  },
  {
   "cell_type": "code",
   "execution_count": 13,
   "metadata": {},
   "outputs": [
    {
     "name": "stdout",
     "output_type": "stream",
     "text": [
      "Beef\n",
      "resnet_mt_ae_cas\n",
      "resnet\n",
      "Calculate\n",
      "G:/Meine Ablage/master thesis/code/xai-tsc/results/ucr/Beef//experiment_3/resnet/resnet_mt_ae_cas_0.75_0/resnet_ig_raw/best_model.hdf5\n",
      "1/1 [==============================] - 1s 1s/step\n",
      "1/1 [==============================] - 0s 110ms/step\n",
      "pred 3 (30, 470)\n",
      "1/1 [==============================] - 1s 1s/step\n"
     ]
    }
   ],
   "source": [
    "import tensorflow_addons as tfa\n",
    "from utils.explanations import integrated_gradients\n",
    "from keras.utils import CustomObjectScope\n",
    "import tensorflow.keras as keras\n",
    "import tensorflow as tf\n",
    "import os\n",
    "from utils.explanations import minmax_norm\n",
    "from utils.explanations import calculate_ig_attributions\n",
    "from sklearn.metrics import mean_absolute_error, mean_squared_error\n",
    "from utils.utils import read_dataset\n",
    "from sklearn.preprocessing import normalize\n",
    "import numpy as np\n",
    "\n",
    "\n",
    "\n",
    "# Load model to calculate custom metrics \n",
    "def load_model(root_dir, archive_name, dataset_name, classifier, data_source): \n",
    "    with CustomObjectScope({'InstanceNormalization':tfa.layers.InstanceNormalization()}):\n",
    "        model_path = f'{root_dir}/results/{archive_name}/{dataset_name}/' \\\n",
    "                                                + f'{classifier.split(\"_\")[0]}/{classifier}/{data_source}/' \\\n",
    "                                                + f'best_model.hdf5'\n",
    "        model =keras.models.load_model(model_path ,compile=False)\n",
    "        return model\n",
    "    \n",
    "\n",
    "def norm(values): \n",
    "    if not type(values) == np.ndarray:\n",
    "        return normalize(values.numpy().reshape(1,-1))[0]\n",
    "    else: \n",
    "        return normalize(values.reshape(1,-1))[0]\n",
    "    \n",
    "#define shared trunk\n",
    "network = 'resnet' \n",
    "    \n",
    "#store custom metrics for model\n",
    "models_train  = dict()\n",
    "models_test   = dict()\n",
    "# Loop over data\n",
    "\n",
    "archive = 'ucr'\n",
    "dataset_name = 'GunPoint'\n",
    "data_p = 'G:/Meine Ablage/master thesis/code/xai-tsc'\n",
    "\n",
    "itr=0\n",
    "\n",
    "gamma = 0.75\n",
    "for idx, dataset in enumerate(['Beef']):#,'Beef']):\n",
    "    print(dataset)\n",
    "    ylen = 1\n",
    "    #Just for now:\n",
    "\n",
    "    data = read_dataset(data_p, archive, dataset, 'original', ylen)[dataset]\n",
    "    #assertion,each ts has same length\n",
    "    ylen = len(data[0][0])\n",
    "\n",
    "    for model in ['resnet_mt_ae_cas']: #'fcn_mt_linear']: #['fcn_mt_ae','fcn_mt_conv', 'fcn_mt_linear']: \n",
    "        model_type = model.split('_')[0] \n",
    "        print(model)\n",
    "        try: \n",
    "\n",
    "\n",
    "            #Load initial values after STL training\n",
    "            #cam_data_stl = read_dataset(data_p, archive, dataset, 'fcn_cam_raw', ylen)[dataset]\n",
    "            print(model_type)\n",
    "            ig_data_stl  = read_dataset(data_p, archive, dataset, f'{model_type}_ig_raw', ylen)[dataset]\n",
    "            #Load required models\n",
    "            #cam_link = f'./results/ucr/{dataset}/fcn/fcn_mt_ae_0.0/fcn_cam_raw/best_model.hdf5'\n",
    "            #ucr\\GunPoint\\experiment_1\\fcn\\fcn_mt_ae_0\\fcn_ig_raw\n",
    "        \n",
    "            ig_link  = f'./results/ucr/{dataset}/experiment_3/{model_type}/{model}_{gamma}_{itr}/{model_type}_ig_raw/last_model.hdf5'\n",
    "            #f'./results/ucr/{dataset}/experiment_1/fcn/fcn_{itr}/original/\n",
    "            #cam_model =keras.models.load_model(cam_link ,compile=False)\n",
    "            ig_model = keras.models.load_model(ig_link ,compile=False)\n",
    "\n",
    "            #Calculate new  attributions\n",
    "            print(\"Calculate\")\n",
    "            ig_attributions = calculate_ig_attributions(data_p, archive, f\"{model}_{gamma}_{itr}\", dataset, f\"{model_type}_ig_raw\", task=1, experiment=3)\n",
    "             # train and test data\n",
    "            # 1,3 are the labels: \n",
    "            #print(ig_attributions) \n",
    "            for t in [3]: #1\n",
    "                \n",
    "                tc = t \n",
    "                #Pearson and mse [p,m]\n",
    "                pm1 = 0; pm2 = 0; mm1 = 0; mm2 = 0\n",
    "                #predict values for all timeseries \n",
    "                print(\"pred\", t, data[t-1].shape)\n",
    "\n",
    "                pred = ig_model.predict(data[t-1])\n",
    "                #run loop\n",
    "                for ts in range(len(data[t])):                \n",
    "                    #small workaround\n",
    "                    #structure of attributions 0 --> train 1 --> test set\n",
    "                    pm1 += np.corrcoef(norm(pred[1][ts].flatten()),norm(ig_data_stl[t][ts]))[0,1]\n",
    "\n",
    "                    pm2 += np.corrcoef(norm(pred[1][ts].flatten()),norm(ig_attributions[0 if t == 1 else 1][ts][2]))[0,1]\n",
    "                    mm1 += mean_squared_error(norm(pred[1][ts].flatten()),norm(ig_data_stl[t][ts]))\n",
    "                    mm2 += mean_squared_error(norm(pred[1][ts].flatten()),norm(ig_attributions[0 if t == 1 else 1][ts][2]))\n",
    "                #Init for model \n",
    "                l = len(data[t])\n",
    "                if t == 1: \n",
    "                    #f'{dataset}_{model.split(\"_\")[-1]}'\n",
    "                    models_train[f'{dataset}_{model.split(\"_\")[-2]}'] = {\"model\" : model, \"pm1\":pm1/l,\"pm2\": pm2/l,\"mm1\":mm1/l, \"mm2\": mm2/l}\n",
    "                else: \n",
    "                    models_test[f'{dataset}_{model.split(\"_\")[-2]}'] =  {\"model\" : model , \"pm1\":pm1/l, \"pm2\": \n",
    "                                                                         pm2/l, \"mm1\":mm1/l,  \"mm2\": mm2/l}\n",
    "                \n",
    "        except Exception as e: \n",
    "            print(dataset,\"error\", e)\n",
    "            pass\n",
    "\n",
    "\n",
    " #./results/ucr/GunPoint/experiment_1/resnet/resnet_mt_conv_0/resnet_ig_raw/last_model.hdf5\n",
    " \n",
    "#G:\\Meine Ablage\\master thesis\\code\\xai-tsc\\results\\ucr\\Coffee\\experiment_3\\fcn\\fcn_mt_conv_cas_0.75_0\\fcn_ig_raw\\last_model.hdf5\n",
    "#G:/Meine Ablage/master thesis/code/xai-tsc/results/ucr/Coffee//experiment_3/fcn/fcn_mt_conv_cas_0.75/fcn_ig_raw/last_model.hdf5\n",
    "#./results\\ucr\\Beef\\experiment_3\\resnet\\resnet_mt_conv_cas_0.75_4\\resnet_ig_raw\\last_model.hdf5\n",
    "#./results/ucr/Coffee/experiment_3/resnet/resnet_mt_conv_cas_0.75_4/resnet_ig_raw/last_model.hdf5"
   ]
  },
  {
   "cell_type": "code",
   "execution_count": 9,
   "metadata": {},
   "outputs": [
    {
     "data": {
      "text/html": [
       "<div>\n",
       "<style scoped>\n",
       "    .dataframe tbody tr th:only-of-type {\n",
       "        vertical-align: middle;\n",
       "    }\n",
       "\n",
       "    .dataframe tbody tr th {\n",
       "        vertical-align: top;\n",
       "    }\n",
       "\n",
       "    .dataframe thead th {\n",
       "        text-align: right;\n",
       "    }\n",
       "</style>\n",
       "<table border=\"1\" class=\"dataframe\">\n",
       "  <thead>\n",
       "    <tr style=\"text-align: right;\">\n",
       "      <th></th>\n",
       "      <th>mm1</th>\n",
       "      <th>mm2</th>\n",
       "      <th>model</th>\n",
       "      <th>pm1</th>\n",
       "      <th>pm2</th>\n",
       "    </tr>\n",
       "  </thead>\n",
       "  <tbody>\n",
       "    <tr>\n",
       "      <th>Beef_ae</th>\n",
       "      <td>0.00286</td>\n",
       "      <td>0.004785</td>\n",
       "      <td>fcn_mt_ae_cas</td>\n",
       "      <td>0.312584</td>\n",
       "      <td>-0.159588</td>\n",
       "    </tr>\n",
       "  </tbody>\n",
       "</table>\n",
       "</div>"
      ],
      "text/plain": [
       "             mm1       mm2          model       pm1       pm2\n",
       "Beef_ae  0.00286  0.004785  fcn_mt_ae_cas  0.312584 -0.159588"
      ]
     },
     "execution_count": 9,
     "metadata": {},
     "output_type": "execute_result"
    }
   ],
   "source": [
    "import pandas as pd\n",
    "pd.DataFrame(models_test).T"
   ]
  },
  {
   "cell_type": "code",
   "execution_count": 19,
   "metadata": {},
   "outputs": [
    {
     "name": "stdout",
     "output_type": "stream",
     "text": [
      "470 470\n"
     ]
    },
    {
     "data": {
      "text/plain": [
       "[<matplotlib.lines.Line2D at 0x2a89534e530>]"
      ]
     },
     "execution_count": 19,
     "metadata": {},
     "output_type": "execute_result"
    },
    {
     "data": {
      "image/png": "[encoded data removed]",
      "text/plain": [
       "<Figure size 640x480 with 1 Axes>"
      ]
     },
     "metadata": {},
     "output_type": "display_data"
    }
   ],
   "source": [
    "%matplotlib inline\n",
    "import matplotlib.pyplot as plt\n",
    "ts = 3\n",
    "\n",
    "print(len(ig_data_stl[3][ts]),len(pred[1][ts].flatten()))\n",
    "plt.plot(ig_data_stl[3][ts])\n",
    "#plt.plot(data[2][ts])\n",
    "plt.plot(norm(pred[1][ts].flatten()))"
   ]
  }
 ],
 "metadata": {
  "kernelspec": {
   "display_name": "xai-tsc",
   "language": "python",
   "name": "python3"
  },
  "language_info": {
   "codemirror_mode": {
    "name": "ipython",
    "version": 3
   },
   "file_extension": ".py",
   "mimetype": "text/x-python",
   "name": "python",
   "nbconvert_exporter": "python",
   "pygments_lexer": "ipython3",
   "version": "3.10.11"
  },
  "orig_nbformat": 4
 },
 "nbformat": 4,
 "nbformat_minor": 2
}
