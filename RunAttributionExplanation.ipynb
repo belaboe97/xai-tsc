{
 "cells": [
  {
   "cell_type": "code",
   "execution_count": 9,
   "id": "418e75d2",
   "metadata": {},
   "outputs": [],
   "source": [
    "from utils.utils import calculate_attributions\n",
    "import matplotlib.pyplot as plt \n",
    "import numpy as np"
   ]
  },
  {
   "cell_type": "code",
   "execution_count": 2,
   "id": "b00454b2",
   "metadata": {},
   "outputs": [
    {
     "ename": "FileNotFoundError",
     "evalue": "[Errno 2] No such file or directory: 'G:/My Drive/master thesis/code/xai-tsc/results/ucr/GunPoint/fcn/fcn_itr_/original/calculated_attribution_train_task_1.npy'",
     "output_type": "error",
     "traceback": [
      "\u001b[1;31m---------------------------------------------------------------------------\u001b[0m",
      "\u001b[1;31mFileNotFoundError\u001b[0m                         Traceback (most recent call last)",
      "\u001b[1;32m<ipython-input-2-ece20c364e7d>\u001b[0m in \u001b[0;36m<module>\u001b[1;34m\u001b[0m\n\u001b[0;32m      6\u001b[0m \u001b[1;33m\u001b[0m\u001b[0m\n\u001b[0;32m      7\u001b[0m \u001b[0moutput_directory\u001b[0m \u001b[1;33m=\u001b[0m \u001b[1;34mf'G:/My Drive/master thesis/code/xai-tsc/results/ucr/{dataset}/fcn/fcn_itr_/original/'\u001b[0m\u001b[1;33m\u001b[0m\u001b[1;33m\u001b[0m\u001b[0m\n\u001b[1;32m----> 8\u001b[1;33m \u001b[0matt_train\u001b[0m \u001b[1;33m=\u001b[0m \u001b[0mnp\u001b[0m\u001b[1;33m.\u001b[0m\u001b[0mload\u001b[0m\u001b[1;33m(\u001b[0m\u001b[0moutput_directory\u001b[0m \u001b[1;33m+\u001b[0m \u001b[1;34mf\"calculated_attribution_train_{task}.npy\"\u001b[0m\u001b[1;33m,\u001b[0m\u001b[0mallow_pickle\u001b[0m\u001b[1;33m=\u001b[0m\u001b[1;32mTrue\u001b[0m\u001b[1;33m)\u001b[0m\u001b[1;33m\u001b[0m\u001b[1;33m\u001b[0m\u001b[0m\n\u001b[0m\u001b[0;32m      9\u001b[0m \u001b[0matt_test\u001b[0m \u001b[1;33m=\u001b[0m \u001b[0mnp\u001b[0m\u001b[1;33m.\u001b[0m\u001b[0mload\u001b[0m\u001b[1;33m(\u001b[0m\u001b[0moutput_directory\u001b[0m \u001b[1;33m+\u001b[0m \u001b[1;34mf\"calculated_attribution_test_{task}.npy\"\u001b[0m\u001b[1;33m,\u001b[0m\u001b[0mallow_pickle\u001b[0m\u001b[1;33m=\u001b[0m\u001b[1;32mTrue\u001b[0m\u001b[1;33m)\u001b[0m\u001b[1;33m\u001b[0m\u001b[1;33m\u001b[0m\u001b[0m\n",
      "\u001b[1;32mC:\\tools\\Anaconda3\\lib\\site-packages\\numpy\\lib\\npyio.py\u001b[0m in \u001b[0;36mload\u001b[1;34m(file, mmap_mode, allow_pickle, fix_imports, encoding)\u001b[0m\n\u001b[0;32m    415\u001b[0m             \u001b[0mown_fid\u001b[0m \u001b[1;33m=\u001b[0m \u001b[1;32mFalse\u001b[0m\u001b[1;33m\u001b[0m\u001b[1;33m\u001b[0m\u001b[0m\n\u001b[0;32m    416\u001b[0m         \u001b[1;32melse\u001b[0m\u001b[1;33m:\u001b[0m\u001b[1;33m\u001b[0m\u001b[1;33m\u001b[0m\u001b[0m\n\u001b[1;32m--> 417\u001b[1;33m             \u001b[0mfid\u001b[0m \u001b[1;33m=\u001b[0m \u001b[0mstack\u001b[0m\u001b[1;33m.\u001b[0m\u001b[0menter_context\u001b[0m\u001b[1;33m(\u001b[0m\u001b[0mopen\u001b[0m\u001b[1;33m(\u001b[0m\u001b[0mos_fspath\u001b[0m\u001b[1;33m(\u001b[0m\u001b[0mfile\u001b[0m\u001b[1;33m)\u001b[0m\u001b[1;33m,\u001b[0m \u001b[1;34m\"rb\"\u001b[0m\u001b[1;33m)\u001b[0m\u001b[1;33m)\u001b[0m\u001b[1;33m\u001b[0m\u001b[1;33m\u001b[0m\u001b[0m\n\u001b[0m\u001b[0;32m    418\u001b[0m             \u001b[0mown_fid\u001b[0m \u001b[1;33m=\u001b[0m \u001b[1;32mTrue\u001b[0m\u001b[1;33m\u001b[0m\u001b[1;33m\u001b[0m\u001b[0m\n\u001b[0;32m    419\u001b[0m \u001b[1;33m\u001b[0m\u001b[0m\n",
      "\u001b[1;31mFileNotFoundError\u001b[0m: [Errno 2] No such file or directory: 'G:/My Drive/master thesis/code/xai-tsc/results/ucr/GunPoint/fcn/fcn_itr_/original/calculated_attribution_train_task_1.npy'"
     ]
    }
   ],
   "source": [
    "import pandas as pd\n",
    "import numpy as np\n",
    "dataset = \"GunPoint\"\n",
    "task  = 'task_1'\n",
    "\n",
    "\n",
    "output_directory = f'G:/My Drive/master thesis/code/xai-tsc/results/ucr/{dataset}/fcn/fcn_itr_/original/'\n",
    "att_train = np.load(output_directory + f\"calculated_attribution_train_{task}.npy\",allow_pickle=True)\n",
    "att_test = np.load(output_directory + f\"calculated_attribution_test_{task}.npy\",allow_pickle=True)"
   ]
  },
  {
   "cell_type": "code",
   "execution_count": 97,
   "id": "62a58972",
   "metadata": {},
   "outputs": [
    {
     "name": "stdout",
     "output_type": "stream",
     "text": [
      "G:/My Drive/master thesis/code/xai-tsc/results/ucr/GunPoint/fcn/fcn_mt_ae_itr_0/pointwise/best_model.hdf5\n"
     ]
    },
    {
     "data": {
      "text/plain": [
       "'/content/drive/My Drive/master thesis/code/dl-4-tsc-mtl/results/ucr/GunPoint/fcn/fcn_itr_/original/best_model.hdf5'"
      ]
     },
     "execution_count": 97,
     "metadata": {},
     "output_type": "execute_result"
    }
   ],
   "source": [
    "root_dir = 'G:/My Drive/master thesis/code/xai-tsc'\n",
    "archive_name = 'ucr'\n",
    "classifier = 'fcn_mt_ae_itr_0'\n",
    "dataset_name =  'GunPoint'\n",
    "data_source = 'pointwise'\n",
    "mode = 'mtl'\n",
    "\n",
    "from utils.utils import read_dataset\n",
    "\n",
    "def calculate_att(root_dir, archive_name, classifier, dataset_name, data_source, mode, task=1):\n",
    "    #import tensorflow_addons as tfa\n",
    "    import tensorflow.keras as keras\n",
    "    import sklearn\n",
    "    import os\n",
    "\n",
    "    max_length = 2000\n",
    "    \n",
    "    if task == 1: \n",
    "        datasets_dict = read_dataset(root_dir, archive_name, dataset_name,  'original')\n",
    "    elif task == 2: \n",
    "        datasets_dict = read_dataset(root_dir, archive_name, dataset_name,   data_source)\n",
    "        \n",
    "    x_train, y_train, x_test, y_test = datasets_dict[dataset_name]\n",
    "\n",
    "    # transform to binary labels\n",
    "    enc = sklearn.preprocessing.OneHotEncoder()\n",
    "    enc.fit(np.concatenate((y_train, y_test), axis=0).reshape(-1, 1))\n",
    "    y_train_binary = enc.transform(y_train.reshape(-1, 1)).toarray()\n",
    "    \n",
    "    orgx_train = x_train\n",
    "    orgx_test = x_test\n",
    "    \n",
    "    x_train = x_train.reshape(x_train.shape[0], x_train.shape[1], 1)\n",
    "    x_test  = x_test.reshape(x_test.shape[0], x_test.shape[1], 1)\n",
    "    \n",
    "    \n",
    "    print(f'{root_dir}/results/{archive_name}/{dataset_name}/' \\\n",
    "                                        + f'{classifier.split(\"_\")[0]}/{classifier}/{data_source}/' \\\n",
    "                                        + f'best_model.hdf5')\n",
    "    model = keras.models.load_model( f'{root_dir}/results/{archive_name}/{dataset_name}/' \\\n",
    "                                        + f'{classifier.split(\"_\")[0]}/{classifier}/{data_source}/' \\\n",
    "                                        + f'best_model.hdf5',compile=False)\n",
    "\n",
    "    if mode == 'stl': \n",
    "        relu, softm = (-3,-1)\n",
    "    if mode == 'mtl': \n",
    "        relu, softm = (3,-2)\n",
    "    #print(model.layers[relu])\n",
    "    w_k_c = model.layers[softm].get_weights()[0]  # weights for each filter k for each class c\n",
    "        \n",
    "    # the same input\n",
    "    new_input_layer = model.inputs\n",
    "    new_output_layer = [model.layers[relu].output, model.layers[softm].output]\n",
    "    new_feed_forward = keras.backend.function(new_input_layer, new_output_layer)\n",
    "    output = []\n",
    "\n",
    "    for orgx_vals,x_vals,y_vals in [[orgx_train,x_train,y_train],[orgx_test,x_test,y_test]]:\n",
    "        attr = list()\n",
    "        for idx,ts in enumerate(x_vals):\n",
    "            ts = ts.reshape(1, -1, 1)\n",
    "            [conv_out, predicted] = new_feed_forward([ts])\n",
    "            cas = np.zeros(dtype=np.float64, shape=(conv_out.shape[1]))\n",
    "            for k, w in enumerate(w_k_c[:,int(y_vals[idx]-1)]):\n",
    "                cas += w * conv_out[0, :, k] \n",
    "            attr.append([y_vals,orgx_vals[idx],cas])\n",
    "        output.append(attr)\n",
    "    return output\n",
    "att_train,att_test = calculate_att(root_dir, archive_name, classifier,  dataset_name, data_source, mode, task=1)\n",
    "\n",
    "\"/content/drive/My Drive/master thesis/code/dl-4-tsc-mtl/results/ucr/GunPoint/fcn/fcn_itr_/original/best_model.hdf5\""
   ]
  },
  {
   "cell_type": "code",
   "execution_count": 51,
   "id": "db50b80f",
   "metadata": {},
   "outputs": [
    {
     "name": "stdout",
     "output_type": "stream",
     "text": [
      "G:/My Drive/master thesis/code/xai-tsc/results/ucr/GunPoint/fcn/fcn_mt_ae_itr_/pointwise/best_model.hdf5\n"
     ]
    }
   ],
   "source": [
    "import tensorflow.keras as keras\n",
    "att = calculate_att(root_dir, archive_name, classifier,  dataset_name, data_source, mode, task=1)"
   ]
  },
  {
   "cell_type": "code",
   "execution_count": 54,
   "id": "a5c62085",
   "metadata": {},
   "outputs": [
    {
     "data": {
      "text/plain": [
       "(50, 150)"
      ]
     },
     "execution_count": 54,
     "metadata": {},
     "output_type": "execute_result"
    }
   ],
   "source": [
    "len(att[0]), len(att[1])"
   ]
  },
  {
   "cell_type": "code",
   "execution_count": 30,
   "id": "3f46b40f",
   "metadata": {},
   "outputs": [],
   "source": [
    "path = 'G:/My Drive/master thesis/code/dl-4-tsc-mtl/results/ucr/GunPoint/fcn/fcn_mt_ae_itr_/pointwise/best_model.hdf5'\n",
    "model = keras.models.load_model(path)"
   ]
  },
  {
   "cell_type": "code",
   "execution_count": 76,
   "id": "d9036e3b",
   "metadata": {},
   "outputs": [
    {
     "name": "stdout",
     "output_type": "stream",
     "text": [
      "SHAPE (150,)\n"
     ]
    },
    {
     "data": {
      "text/plain": [
       "2"
      ]
     },
     "execution_count": 76,
     "metadata": {},
     "output_type": "execute_result"
    },
    {
     "data": {
      "image/png": "[encoded data removed]",
      "text/plain": [
       "<Figure size 432x288 with 1 Axes>"
      ]
     },
     "metadata": {
      "needs_background": "light"
     },
     "output_type": "display_data"
    }
   ],
   "source": [
    "from utils.utils import read_dataset\n",
    "plt.plot(att[0][0][1])\n",
    "x = att[0][0][1]\n",
    "data_p = 'G:/My Drive/master thesis/code/xai-tsc'\n",
    "archive = 'ucr'\n",
    "dataset_name = 'GunPoint'\n",
    "data_source = ''\n",
    "xt = read_dataset(data_p, archive_name, dataset_name,  data_source)['GunPoint'][0]\n",
    "plt.plot(xt[0])\n",
    "print(\"SHAPE\",xt[0,:].flatten().shape)\n",
    "pred = model.predict(xt)\n",
    "len(pred[0][1])"
   ]
  },
  {
   "cell_type": "code",
   "execution_count": 23,
   "id": "ca1b4c8c",
   "metadata": {},
   "outputs": [
    {
     "data": {
      "text/plain": [
       "<matplotlib.collections.PathCollection at 0x28894730730>"
      ]
     },
     "execution_count": 23,
     "metadata": {},
     "output_type": "execute_result"
    },
    {
     "data": {
      "image/png": "[encoded data removed]",
      "text/plain": [
       "<Figure size 432x288 with 1 Axes>"
      ]
     },
     "metadata": {
      "needs_background": "light"
     },
     "output_type": "display_data"
    }
   ],
   "source": [
    "%matplotlib inline\n",
    "\n",
    "plt.scatter(np.arange(len(att_train[0][1])),att_train[0][1],c=att_train[0][2]*100,cmap='jet', marker='.', s=2, vmin=0, vmax=100, linewidths=2.0)"
   ]
  },
  {
   "cell_type": "code",
   "execution_count": 90,
   "id": "ecae331c",
   "metadata": {},
   "outputs": [
    {
     "data": {
      "text/plain": [
       "(50, 150)"
      ]
     },
     "execution_count": 90,
     "metadata": {},
     "output_type": "execute_result"
    }
   ],
   "source": [
    "def create_pointwise_explanation(attributions):\n",
    "    output = []\n",
    "    for split in attributions:\n",
    "        explanations = []\n",
    "        for ts in split: \n",
    "            x_values = ts[1]\n",
    "            attributions = ts[2]\n",
    "            explanations.append(np.concatenate((np.array([x_values]),attributions), axis=None))    \n",
    "        output.append(np.array(explanations))\n",
    "    return output\n",
    "\n",
    "create_pointwise_explanation(att)[0][:,150:].shape\n"
   ]
  },
  {
   "cell_type": "code",
   "execution_count": null,
   "id": "22c17e50",
   "metadata": {},
   "outputs": [],
   "source": [
    "def save_explanations(data, root_dir, archive_name, appendix, dataset_name):\n",
    "    train_explanation,test_explanation = data\n",
    "    print(train_explanation.shape, test_explanation.shape)\n",
    "    dir_path = root_dir + '/archives/' + archive_name + '/' + dataset_name + '/' + appendix + '/' \n",
    "    create_directory(dir_path)\n",
    "    np.savetxt(dir_path + dataset_name + \"_TRAIN\", train_explanation, delimiter=',')\n",
    "    np.savetxt(dir_path + dataset_name + \"_TEST\", test_explanation, delimiter=',')\n",
    "    print(\"Successfully created explanation done.\")"
   ]
  },
  {
   "cell_type": "code",
   "execution_count": 154,
   "id": "d6e16892",
   "metadata": {},
   "outputs": [],
   "source": [
    "#G:\\My Drive\\master thesis\\code\\xai-tsc\\results\\ucr\\GunPoint\\fcn\\fcn_mt_ae_itr_\\pointwise\\last_model.hdf5\n",
    "\n",
    "model = keras.models.load_model(\"G:/My Drive/master thesis/code/xai-tsc/results/ucr/GunPoint/fcn/fcn_mt_ae_itr_/pointwise/last_model.hdf5\",compile=False)"
   ]
  },
  {
   "cell_type": "code",
   "execution_count": 155,
   "id": "65182d90",
   "metadata": {},
   "outputs": [
    {
     "data": {
      "text/plain": [
       "array([[-0.20430014],\n",
       "       [ 0.1789974 ],\n",
       "       [ 0.17618676],\n",
       "       [ 0.17667562],\n",
       "       [ 0.17724483],\n",
       "       [ 0.17740472],\n",
       "       [ 0.1775343 ],\n",
       "       [ 0.17753334],\n",
       "       [ 0.17749923],\n",
       "       [ 0.17745827],\n",
       "       [ 0.17741309],\n",
       "       [ 0.17740051],\n",
       "       [ 0.17739625],\n",
       "       [ 0.17740081],\n",
       "       [ 0.17737551],\n",
       "       [ 0.17735569],\n",
       "       [ 0.17725973],\n",
       "       [ 0.17718048],\n",
       "       [ 0.17701624],\n",
       "       [ 0.17685342],\n",
       "       [ 0.17670414],\n",
       "       [ 0.17657694],\n",
       "       [ 0.17648779],\n",
       "       [ 0.17643538],\n",
       "       [ 0.17641136],\n",
       "       [ 0.17642708],\n",
       "       [ 0.17643653],\n",
       "       [ 0.17646167],\n",
       "       [ 0.17646933],\n",
       "       [ 0.17647384],\n",
       "       [ 0.1764716 ],\n",
       "       [ 0.1764451 ],\n",
       "       [ 0.17643994],\n",
       "       [ 0.17639247],\n",
       "       [ 0.1763582 ],\n",
       "       [ 0.17634922],\n",
       "       [ 0.17630465],\n",
       "       [ 0.17614058],\n",
       "       [ 0.1760963 ],\n",
       "       [ 0.17635298],\n",
       "       [ 0.17695633],\n",
       "       [ 0.17796569],\n",
       "       [ 0.17900284],\n",
       "       [ 0.17988849],\n",
       "       [ 0.18065317],\n",
       "       [ 0.18067329],\n",
       "       [ 0.18145299],\n",
       "       [ 0.18110624],\n",
       "       [ 0.18210572],\n",
       "       [ 0.18199457],\n",
       "       [ 0.18261571],\n",
       "       [ 0.1825943 ],\n",
       "       [ 0.18286626],\n",
       "       [ 0.18283826],\n",
       "       [ 0.18295832],\n",
       "       [ 0.18293534],\n",
       "       [ 0.1829682 ],\n",
       "       [ 0.18295802],\n",
       "       [ 0.18297437],\n",
       "       [ 0.18297312],\n",
       "       [ 0.18299894],\n",
       "       [ 0.18300088],\n",
       "       [ 0.18304895],\n",
       "       [ 0.1830557 ],\n",
       "       [ 0.18311852],\n",
       "       [ 0.1831229 ],\n",
       "       [ 0.18318208],\n",
       "       [ 0.18318379],\n",
       "       [ 0.18323112],\n",
       "       [ 0.183235  ],\n",
       "       [ 0.1832608 ],\n",
       "       [ 0.1832622 ],\n",
       "       [ 0.18326604],\n",
       "       [ 0.18326198],\n",
       "       [ 0.1832513 ],\n",
       "       [ 0.18325087],\n",
       "       [ 0.1832469 ],\n",
       "       [ 0.18324782],\n",
       "       [ 0.18325782],\n",
       "       [ 0.18325828],\n",
       "       [ 0.18327802],\n",
       "       [ 0.18328202],\n",
       "       [ 0.1833073 ],\n",
       "       [ 0.18331075],\n",
       "       [ 0.18333618],\n",
       "       [ 0.18334052],\n",
       "       [ 0.18337159],\n",
       "       [ 0.1833813 ],\n",
       "       [ 0.18342641],\n",
       "       [ 0.18344592],\n",
       "       [ 0.18351327],\n",
       "       [ 0.18355787],\n",
       "       [ 0.18361467],\n",
       "       [ 0.1836507 ],\n",
       "       [ 0.18355878],\n",
       "       [ 0.18350026],\n",
       "       [ 0.18305513],\n",
       "       [ 0.18300973],\n",
       "       [ 0.18239726],\n",
       "       [ 0.18259636],\n",
       "       [ 0.18124828],\n",
       "       [ 0.18167329],\n",
       "       [ 0.18093206],\n",
       "       [ 0.18084857],\n",
       "       [ 0.1806971 ],\n",
       "       [ 0.18019435],\n",
       "       [ 0.1799975 ],\n",
       "       [ 0.178924  ],\n",
       "       [ 0.17829953],\n",
       "       [ 0.17743444],\n",
       "       [ 0.17702505],\n",
       "       [ 0.17680533],\n",
       "       [ 0.1766876 ],\n",
       "       [ 0.17658976],\n",
       "       [ 0.17655759],\n",
       "       [ 0.17655988],\n",
       "       [ 0.17654935],\n",
       "       [ 0.17655934],\n",
       "       [ 0.17656511],\n",
       "       [ 0.17656298],\n",
       "       [ 0.17656504],\n",
       "       [ 0.17656346],\n",
       "       [ 0.17656462],\n",
       "       [ 0.17656769],\n",
       "       [ 0.17657147],\n",
       "       [ 0.1765723 ],\n",
       "       [ 0.17657766],\n",
       "       [ 0.17658027],\n",
       "       [ 0.17658466],\n",
       "       [ 0.17658068],\n",
       "       [ 0.17658783],\n",
       "       [ 0.17658797],\n",
       "       [ 0.17661427],\n",
       "       [ 0.17662346],\n",
       "       [ 0.17667234],\n",
       "       [ 0.17670268],\n",
       "       [ 0.17683859],\n",
       "       [ 0.17695446],\n",
       "       [ 0.17716436],\n",
       "       [ 0.1773941 ],\n",
       "       [ 0.17766896],\n",
       "       [ 0.17793857],\n",
       "       [ 0.178192  ],\n",
       "       [ 0.17828843],\n",
       "       [ 0.17828676],\n",
       "       [ 0.17808062],\n",
       "       [ 0.17771132],\n",
       "       [ 0.1771385 ],\n",
       "       [ 0.17657144],\n",
       "       [ 0.3189027 ]], dtype=float32)"
      ]
     },
     "execution_count": 155,
     "metadata": {},
     "output_type": "execute_result"
    }
   ],
   "source": [
    "model.predict(data[:,150:][:3])[1][0]"
   ]
  },
  {
   "cell_type": "code",
   "execution_count": 134,
   "id": "1d5d17fa",
   "metadata": {},
   "outputs": [
    {
     "data": {
      "text/plain": [
       "(150, 150)"
      ]
     },
     "execution_count": 134,
     "metadata": {},
     "output_type": "execute_result"
    }
   ],
   "source": [
    "data[:, 150:].shape"
   ]
  },
  {
   "cell_type": "code",
   "execution_count": 139,
   "id": "12a9e04f",
   "metadata": {},
   "outputs": [
    {
     "name": "stdout",
     "output_type": "stream",
     "text": [
      "(150, 150)\n"
     ]
    }
   ],
   "source": [
    "og = data = np.loadtxt(\"G:/My Drive/master thesis/code/xai-tsc/archives/ucr/GunPoint/GunPoint_TEST\", delimiter=',')\n",
    "data = np.loadtxt(\"G:/My Drive/master thesis/code/xai-tsc/archives/ucr/GunPoint/pointwise/GunPoint_TEST\", delimiter=',')\n",
    "print(data[:, 150:].shape)"
   ]
  },
  {
   "cell_type": "code",
   "execution_count": 138,
   "id": "d62e68e1",
   "metadata": {},
   "outputs": [
    {
     "data": {
      "text/plain": [
       "(150, 150)"
      ]
     },
     "execution_count": 138,
     "metadata": {},
     "output_type": "execute_result"
    }
   ],
   "source": [
    "og[:,1:].shape"
   ]
  },
  {
   "cell_type": "code",
   "execution_count": 120,
   "id": "4d69e253",
   "metadata": {},
   "outputs": [
    {
     "name": "stdout",
     "output_type": "stream",
     "text": [
      "[[ 0.02588516 -0.10093396 -0.10724084 ... -0.07832859 -0.07566263\n",
      "   0.01876664]\n",
      " [-0.14650711 -0.16034801 -0.1862706  ... -0.15906834 -0.12043785\n",
      "  -0.12671112]\n",
      " [-0.21819342 -0.30479137 -0.36415169 ... -0.15210651 -0.12596103\n",
      "  -0.13162597]\n",
      " ...\n",
      " [-0.1517915  -0.17032931 -0.20088355 ... -0.15895985 -0.12040637\n",
      "  -0.12666015]\n",
      " [-0.16589977 -0.22207369 -0.25013364 ... -0.19632843 -0.12937937\n",
      "  -0.13104325]\n",
      " [ 0.01152732 -0.13546261 -0.14866648 ... -0.05229307 -0.06233977\n",
      "   0.01569845]]\n"
     ]
    }
   ],
   "source": [
    "print(data[:, 150:])"
   ]
  }
 ],
 "metadata": {
  "kernelspec": {
   "display_name": "Python 3",
   "language": "python",
   "name": "python3"
  },
  "language_info": {
   "codemirror_mode": {
    "name": "ipython",
    "version": 3
   },
   "file_extension": ".py",
   "mimetype": "text/x-python",
   "name": "python",
   "nbconvert_exporter": "python",
   "pygments_lexer": "ipython3",
   "version": "3.8.8"
  }
 },
 "nbformat": 4,
 "nbformat_minor": 5
}
