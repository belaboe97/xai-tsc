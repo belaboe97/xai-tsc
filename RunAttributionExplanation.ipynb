{
 "cells": [
  {
   "cell_type": "code",
   "execution_count": 1,
   "id": "418e75d2",
   "metadata": {},
   "outputs": [],
   "source": [
    "from utils.utils import calculate_attributions\n",
    "import matplotlib.pyplot as plt \n",
    "import numpy as np"
   ]
  },
  {
   "cell_type": "code",
   "execution_count": 46,
   "id": "b00454b2",
   "metadata": {},
   "outputs": [
    {
     "ename": "FileNotFoundError",
     "evalue": "[Errno 2] No such file or directory: 'G:/My Drive/master thesis/code/xai-tsc/results/ucr/GunPoint/fcn/fcn_itr_/original/calculated_attribution_train_task_1.npy'",
     "output_type": "error",
     "traceback": [
      "\u001b[1;31m---------------------------------------------------------------------------\u001b[0m",
      "\u001b[1;31mFileNotFoundError\u001b[0m                         Traceback (most recent call last)",
      "\u001b[1;32m<ipython-input-46-ece20c364e7d>\u001b[0m in \u001b[0;36m<module>\u001b[1;34m\u001b[0m\n\u001b[0;32m      6\u001b[0m \u001b[1;33m\u001b[0m\u001b[0m\n\u001b[0;32m      7\u001b[0m \u001b[0moutput_directory\u001b[0m \u001b[1;33m=\u001b[0m \u001b[1;34mf'G:/My Drive/master thesis/code/xai-tsc/results/ucr/{dataset}/fcn/fcn_itr_/original/'\u001b[0m\u001b[1;33m\u001b[0m\u001b[1;33m\u001b[0m\u001b[0m\n\u001b[1;32m----> 8\u001b[1;33m \u001b[0matt_train\u001b[0m \u001b[1;33m=\u001b[0m \u001b[0mnp\u001b[0m\u001b[1;33m.\u001b[0m\u001b[0mload\u001b[0m\u001b[1;33m(\u001b[0m\u001b[0moutput_directory\u001b[0m \u001b[1;33m+\u001b[0m \u001b[1;34mf\"calculated_attribution_train_{task}.npy\"\u001b[0m\u001b[1;33m,\u001b[0m\u001b[0mallow_pickle\u001b[0m\u001b[1;33m=\u001b[0m\u001b[1;32mTrue\u001b[0m\u001b[1;33m)\u001b[0m\u001b[1;33m\u001b[0m\u001b[1;33m\u001b[0m\u001b[0m\n\u001b[0m\u001b[0;32m      9\u001b[0m \u001b[0matt_test\u001b[0m \u001b[1;33m=\u001b[0m \u001b[0mnp\u001b[0m\u001b[1;33m.\u001b[0m\u001b[0mload\u001b[0m\u001b[1;33m(\u001b[0m\u001b[0moutput_directory\u001b[0m \u001b[1;33m+\u001b[0m \u001b[1;34mf\"calculated_attribution_test_{task}.npy\"\u001b[0m\u001b[1;33m,\u001b[0m\u001b[0mallow_pickle\u001b[0m\u001b[1;33m=\u001b[0m\u001b[1;32mTrue\u001b[0m\u001b[1;33m)\u001b[0m\u001b[1;33m\u001b[0m\u001b[1;33m\u001b[0m\u001b[0m\n",
      "\u001b[1;32mC:\\tools\\Anaconda3\\lib\\site-packages\\numpy\\lib\\npyio.py\u001b[0m in \u001b[0;36mload\u001b[1;34m(file, mmap_mode, allow_pickle, fix_imports, encoding)\u001b[0m\n\u001b[0;32m    415\u001b[0m             \u001b[0mown_fid\u001b[0m \u001b[1;33m=\u001b[0m \u001b[1;32mFalse\u001b[0m\u001b[1;33m\u001b[0m\u001b[1;33m\u001b[0m\u001b[0m\n\u001b[0;32m    416\u001b[0m         \u001b[1;32melse\u001b[0m\u001b[1;33m:\u001b[0m\u001b[1;33m\u001b[0m\u001b[1;33m\u001b[0m\u001b[0m\n\u001b[1;32m--> 417\u001b[1;33m             \u001b[0mfid\u001b[0m \u001b[1;33m=\u001b[0m \u001b[0mstack\u001b[0m\u001b[1;33m.\u001b[0m\u001b[0menter_context\u001b[0m\u001b[1;33m(\u001b[0m\u001b[0mopen\u001b[0m\u001b[1;33m(\u001b[0m\u001b[0mos_fspath\u001b[0m\u001b[1;33m(\u001b[0m\u001b[0mfile\u001b[0m\u001b[1;33m)\u001b[0m\u001b[1;33m,\u001b[0m \u001b[1;34m\"rb\"\u001b[0m\u001b[1;33m)\u001b[0m\u001b[1;33m)\u001b[0m\u001b[1;33m\u001b[0m\u001b[1;33m\u001b[0m\u001b[0m\n\u001b[0m\u001b[0;32m    418\u001b[0m             \u001b[0mown_fid\u001b[0m \u001b[1;33m=\u001b[0m \u001b[1;32mTrue\u001b[0m\u001b[1;33m\u001b[0m\u001b[1;33m\u001b[0m\u001b[0m\n\u001b[0;32m    419\u001b[0m \u001b[1;33m\u001b[0m\u001b[0m\n",
      "\u001b[1;31mFileNotFoundError\u001b[0m: [Errno 2] No such file or directory: 'G:/My Drive/master thesis/code/xai-tsc/results/ucr/GunPoint/fcn/fcn_itr_/original/calculated_attribution_train_task_1.npy'"
     ]
    }
   ],
   "source": [
    "import pandas as pd\n",
    "import numpy as np\n",
    "dataset = \"GunPoint\"\n",
    "task  = 'task_1'\n",
    "\n",
    "\n",
    "output_directory = f'G:/My Drive/master thesis/code/xai-tsc/results/ucr/{dataset}/fcn/fcn_itr_/original/'\n",
    "att_train = np.load(output_directory + f\"calculated_attribution_train_{task}.npy\",allow_pickle=True)\n",
    "att_test = np.load(output_directory + f\"calculated_attribution_test_{task}.npy\",allow_pickle=True)"
   ]
  },
  {
   "cell_type": "code",
   "execution_count": 118,
   "id": "62a58972",
   "metadata": {},
   "outputs": [
    {
     "name": "stdout",
     "output_type": "stream",
     "text": [
      "G:/My Drive/master thesis/code/xai-tsc/results/ucr/GunPoint/fcn/fcn_itr_/original/best_model.hdf5\n"
     ]
    },
    {
     "data": {
      "text/plain": [
       "'/content/drive/My Drive/master thesis/code/dl-4-tsc-mtl/results/ucr/GunPoint/fcn/fcn_itr_/original/best_model.hdf5'"
      ]
     },
     "execution_count": 118,
     "metadata": {},
     "output_type": "execute_result"
    }
   ],
   "source": [
    "root_dir = 'G:/My Drive/master thesis/code/xai-tsc'\n",
    "archive_name = 'ucr'\n",
    "classifier = 'fcn_itr_'\n",
    "#classifier = 'fcn_mt_dense_itr_'\n",
    "dataset_name =  'GunPoint'\n",
    "data_source = 'original'\n",
    "mode = 'stl'\n",
    "\n",
    "from utils.utils import read_dataset\n",
    "\n",
    "def calculate_att(root_dir, archive_name, classifier, dataset_name, data_source, mode, task=1):\n",
    "    #import tensorflow_addons as tfa\n",
    "    import tensorflow.keras as keras\n",
    "    import sklearn\n",
    "    import os\n",
    "\n",
    "    max_length = 2000\n",
    "    \n",
    "    if task == 1: \n",
    "        datasets_dict = read_dataset(root_dir, archive_name, dataset_name,  'original')\n",
    "    elif task == 2: \n",
    "        datasets_dict = read_dataset(root_dir, archive_name, dataset_name,   data_source)\n",
    "        \n",
    "    x_train, y_train, x_test, y_test = datasets_dict[dataset_name]\n",
    "\n",
    "    # transform to binary labels\n",
    "    enc = sklearn.preprocessing.OneHotEncoder()\n",
    "    enc.fit(np.concatenate((y_train, y_test), axis=0).reshape(-1, 1))\n",
    "    y_train_binary = enc.transform(y_train.reshape(-1, 1)).toarray()\n",
    "    \n",
    "    orgx_train = x_train\n",
    "    orgx_test = x_test\n",
    "    \n",
    "    x_train = x_train.reshape(x_train.shape[0], x_train.shape[1], 1)\n",
    "    x_test  = x_test.reshape(x_test.shape[0], x_test.shape[1], 1)\n",
    "    \n",
    "    \n",
    "    print(f'{root_dir}/results/{archive_name}/{dataset_name}/' \\\n",
    "                                        + f'{classifier.split(\"_\")[0]}/{classifier}/{data_source}/' \\\n",
    "                                        + f'best_model.hdf5')\n",
    "    model = keras.models.load_model( f'{root_dir}/results/{archive_name}/{dataset_name}/' \\\n",
    "                                        + f'{classifier.split(\"_\")[0]}/{classifier}/{data_source}/' \\\n",
    "                                        + f'best_model.hdf5',compile=False)\n",
    "\n",
    "    if mode == 'stl': \n",
    "        relu, softm = (-3,-1)\n",
    "    if mode == 'mtl': \n",
    "        relu, softm = (3,-2)\n",
    "    #print(model.layers[relu])\n",
    "    w_k_c = model.layers[softm].get_weights()[0]  # weights for each filter k for each class c\n",
    "        \n",
    "    # the same input\n",
    "    new_input_layer = model.inputs\n",
    "    new_output_layer = [model.layers[relu].output, model.layers[softm].output]\n",
    "    new_feed_forward = keras.backend.function(new_input_layer, new_output_layer)\n",
    "    output = []\n",
    "\n",
    "    for orgx_vals,x_vals,y_vals in [[orgx_train,x_train,y_train],[orgx_test,x_test,y_test]]:\n",
    "        attr = list()\n",
    "        for idx,ts in enumerate(x_vals):\n",
    "            ts = ts.reshape(1, -1, 1)\n",
    "            [conv_out, predicted] = new_feed_forward([ts])\n",
    "            cas = np.zeros(dtype=np.float64, shape=(conv_out.shape[1]))\n",
    "            for k, w in enumerate(w_k_c[:,int(y_vals[idx]-1)]):\n",
    "                cas += w * conv_out[0, :, k] \n",
    "            attr.append([y_vals,orgx_vals[idx],cas])\n",
    "        output.append(attr)\n",
    "    return output\n",
    "att_train,att_test = calculate_att(root_dir, archive_name, classifier,  dataset_name, data_source, mode, task=1)\n",
    "\n",
    "\"/content/drive/My Drive/master thesis/code/dl-4-tsc-mtl/results/ucr/GunPoint/fcn/fcn_itr_/original/best_model.hdf5\""
   ]
  },
  {
   "cell_type": "code",
   "execution_count": 119,
   "id": "db50b80f",
   "metadata": {},
   "outputs": [
    {
     "name": "stdout",
     "output_type": "stream",
     "text": [
      "G:/My Drive/master thesis/code/xai-tsc/results/ucr/GunPoint/fcn/fcn_itr_/original/best_model.hdf5\n"
     ]
    }
   ],
   "source": [
    "import tensorflow.keras as keras\n",
    "att = calculate_att(root_dir, archive_name, classifier,  dataset_name, data_source, mode, task=1)"
   ]
  },
  {
   "cell_type": "code",
   "execution_count": null,
   "id": "b86ed1c8",
   "metadata": {},
   "outputs": [],
   "source": [
    "len(att[0]), len(att[1])"
   ]
  },
  {
   "cell_type": "code",
   "execution_count": null,
   "id": "c17f4619",
   "metadata": {},
   "outputs": [],
   "source": []
  },
  {
   "cell_type": "code",
   "execution_count": 9,
   "id": "81ef6cb8",
   "metadata": {},
   "outputs": [
    {
     "ename": "OSError",
     "evalue": "Can't read data (file read failed: time = Fri Apr 21 20:49:26 2023\n, filename = 'G:/My Drive/master thesis/code/dl-4-tsc-mtl/results/ucr/GunPoint/fcn/fcn_mt_ae_itr_/pointwise/best_model.hdf5', file descriptor = 4, errno = 22, error message = 'Invalid argument', buf = 0000021C94DA1FF0, total read size = 655360, bytes this sub-read = 655360, bytes actually read = 18446744073709551615, offset = 1336696)",
     "output_type": "error",
     "traceback": [
      "\u001b[1;31m---------------------------------------------------------------------------\u001b[0m",
      "\u001b[1;31mOSError\u001b[0m                                   Traceback (most recent call last)",
      "\u001b[1;32m<ipython-input-9-0125ba69f50c>\u001b[0m in \u001b[0;36m<module>\u001b[1;34m\u001b[0m\n\u001b[0;32m      1\u001b[0m \u001b[0mpath\u001b[0m \u001b[1;33m=\u001b[0m \u001b[1;34m'G:/My Drive/master thesis/code/dl-4-tsc-mtl/results/ucr/GunPoint/fcn/fcn_mt_ae_itr_/pointwise/best_model.hdf5'\u001b[0m\u001b[1;33m\u001b[0m\u001b[1;33m\u001b[0m\u001b[0m\n\u001b[1;32m----> 2\u001b[1;33m \u001b[0mmodel\u001b[0m \u001b[1;33m=\u001b[0m \u001b[0mkeras\u001b[0m\u001b[1;33m.\u001b[0m\u001b[0mmodels\u001b[0m\u001b[1;33m.\u001b[0m\u001b[0mload_model\u001b[0m\u001b[1;33m(\u001b[0m\u001b[0mpath\u001b[0m\u001b[1;33m,\u001b[0m\u001b[0mcompile\u001b[0m\u001b[1;33m=\u001b[0m\u001b[1;32mFalse\u001b[0m\u001b[1;33m)\u001b[0m\u001b[1;33m\u001b[0m\u001b[1;33m\u001b[0m\u001b[0m\n\u001b[0m",
      "\u001b[1;32mC:\\tools\\Anaconda3\\lib\\site-packages\\keras\\utils\\traceback_utils.py\u001b[0m in \u001b[0;36merror_handler\u001b[1;34m(*args, **kwargs)\u001b[0m\n\u001b[0;32m     65\u001b[0m     \u001b[1;32mexcept\u001b[0m \u001b[0mException\u001b[0m \u001b[1;32mas\u001b[0m \u001b[0me\u001b[0m\u001b[1;33m:\u001b[0m  \u001b[1;31m# pylint: disable=broad-except\u001b[0m\u001b[1;33m\u001b[0m\u001b[1;33m\u001b[0m\u001b[0m\n\u001b[0;32m     66\u001b[0m       \u001b[0mfiltered_tb\u001b[0m \u001b[1;33m=\u001b[0m \u001b[0m_process_traceback_frames\u001b[0m\u001b[1;33m(\u001b[0m\u001b[0me\u001b[0m\u001b[1;33m.\u001b[0m\u001b[0m__traceback__\u001b[0m\u001b[1;33m)\u001b[0m\u001b[1;33m\u001b[0m\u001b[1;33m\u001b[0m\u001b[0m\n\u001b[1;32m---> 67\u001b[1;33m       \u001b[1;32mraise\u001b[0m \u001b[0me\u001b[0m\u001b[1;33m.\u001b[0m\u001b[0mwith_traceback\u001b[0m\u001b[1;33m(\u001b[0m\u001b[0mfiltered_tb\u001b[0m\u001b[1;33m)\u001b[0m \u001b[1;32mfrom\u001b[0m \u001b[1;32mNone\u001b[0m\u001b[1;33m\u001b[0m\u001b[1;33m\u001b[0m\u001b[0m\n\u001b[0m\u001b[0;32m     68\u001b[0m     \u001b[1;32mfinally\u001b[0m\u001b[1;33m:\u001b[0m\u001b[1;33m\u001b[0m\u001b[1;33m\u001b[0m\u001b[0m\n\u001b[0;32m     69\u001b[0m       \u001b[1;32mdel\u001b[0m \u001b[0mfiltered_tb\u001b[0m\u001b[1;33m\u001b[0m\u001b[1;33m\u001b[0m\u001b[0m\n",
      "\u001b[1;32mC:\\tools\\Anaconda3\\lib\\site-packages\\numpy\\core\\_asarray.py\u001b[0m in \u001b[0;36masarray\u001b[1;34m(a, dtype, order, like)\u001b[0m\n\u001b[0;32m    100\u001b[0m         \u001b[1;32mreturn\u001b[0m \u001b[0m_asarray_with_like\u001b[0m\u001b[1;33m(\u001b[0m\u001b[0ma\u001b[0m\u001b[1;33m,\u001b[0m \u001b[0mdtype\u001b[0m\u001b[1;33m=\u001b[0m\u001b[0mdtype\u001b[0m\u001b[1;33m,\u001b[0m \u001b[0morder\u001b[0m\u001b[1;33m=\u001b[0m\u001b[0morder\u001b[0m\u001b[1;33m,\u001b[0m \u001b[0mlike\u001b[0m\u001b[1;33m=\u001b[0m\u001b[0mlike\u001b[0m\u001b[1;33m)\u001b[0m\u001b[1;33m\u001b[0m\u001b[1;33m\u001b[0m\u001b[0m\n\u001b[0;32m    101\u001b[0m \u001b[1;33m\u001b[0m\u001b[0m\n\u001b[1;32m--> 102\u001b[1;33m     \u001b[1;32mreturn\u001b[0m \u001b[0marray\u001b[0m\u001b[1;33m(\u001b[0m\u001b[0ma\u001b[0m\u001b[1;33m,\u001b[0m \u001b[0mdtype\u001b[0m\u001b[1;33m,\u001b[0m \u001b[0mcopy\u001b[0m\u001b[1;33m=\u001b[0m\u001b[1;32mFalse\u001b[0m\u001b[1;33m,\u001b[0m \u001b[0morder\u001b[0m\u001b[1;33m=\u001b[0m\u001b[0morder\u001b[0m\u001b[1;33m)\u001b[0m\u001b[1;33m\u001b[0m\u001b[1;33m\u001b[0m\u001b[0m\n\u001b[0m\u001b[0;32m    103\u001b[0m \u001b[1;33m\u001b[0m\u001b[0m\n\u001b[0;32m    104\u001b[0m \u001b[1;33m\u001b[0m\u001b[0m\n",
      "\u001b[1;32mh5py\\_objects.pyx\u001b[0m in \u001b[0;36mh5py._objects.with_phil.wrapper\u001b[1;34m()\u001b[0m\n",
      "\u001b[1;32mh5py\\_objects.pyx\u001b[0m in \u001b[0;36mh5py._objects.with_phil.wrapper\u001b[1;34m()\u001b[0m\n",
      "\u001b[1;32mC:\\tools\\Anaconda3\\lib\\site-packages\\h5py\\_hl\\dataset.py\u001b[0m in \u001b[0;36m__array__\u001b[1;34m(self, dtype)\u001b[0m\n\u001b[0;32m    770\u001b[0m             \u001b[1;32mreturn\u001b[0m \u001b[0marr\u001b[0m\u001b[1;33m\u001b[0m\u001b[1;33m\u001b[0m\u001b[0m\n\u001b[0;32m    771\u001b[0m \u001b[1;33m\u001b[0m\u001b[0m\n\u001b[1;32m--> 772\u001b[1;33m         \u001b[0mself\u001b[0m\u001b[1;33m.\u001b[0m\u001b[0mread_direct\u001b[0m\u001b[1;33m(\u001b[0m\u001b[0marr\u001b[0m\u001b[1;33m)\u001b[0m\u001b[1;33m\u001b[0m\u001b[1;33m\u001b[0m\u001b[0m\n\u001b[0m\u001b[0;32m    773\u001b[0m         \u001b[1;32mreturn\u001b[0m \u001b[0marr\u001b[0m\u001b[1;33m\u001b[0m\u001b[1;33m\u001b[0m\u001b[0m\n\u001b[0;32m    774\u001b[0m \u001b[1;33m\u001b[0m\u001b[0m\n",
      "\u001b[1;32mC:\\tools\\Anaconda3\\lib\\site-packages\\h5py\\_hl\\dataset.py\u001b[0m in \u001b[0;36mread_direct\u001b[1;34m(self, dest, source_sel, dest_sel)\u001b[0m\n\u001b[0;32m    731\u001b[0m \u001b[1;33m\u001b[0m\u001b[0m\n\u001b[0;32m    732\u001b[0m             \u001b[1;32mfor\u001b[0m \u001b[0mmspace\u001b[0m \u001b[1;32min\u001b[0m \u001b[0mdest_sel\u001b[0m\u001b[1;33m.\u001b[0m\u001b[0mbroadcast\u001b[0m\u001b[1;33m(\u001b[0m\u001b[0msource_sel\u001b[0m\u001b[1;33m.\u001b[0m\u001b[0mmshape\u001b[0m\u001b[1;33m)\u001b[0m\u001b[1;33m:\u001b[0m\u001b[1;33m\u001b[0m\u001b[1;33m\u001b[0m\u001b[0m\n\u001b[1;32m--> 733\u001b[1;33m                 \u001b[0mself\u001b[0m\u001b[1;33m.\u001b[0m\u001b[0mid\u001b[0m\u001b[1;33m.\u001b[0m\u001b[0mread\u001b[0m\u001b[1;33m(\u001b[0m\u001b[0mmspace\u001b[0m\u001b[1;33m,\u001b[0m \u001b[0mfspace\u001b[0m\u001b[1;33m,\u001b[0m \u001b[0mdest\u001b[0m\u001b[1;33m,\u001b[0m \u001b[0mdxpl\u001b[0m\u001b[1;33m=\u001b[0m\u001b[0mself\u001b[0m\u001b[1;33m.\u001b[0m\u001b[0m_dxpl\u001b[0m\u001b[1;33m)\u001b[0m\u001b[1;33m\u001b[0m\u001b[1;33m\u001b[0m\u001b[0m\n\u001b[0m\u001b[0;32m    734\u001b[0m \u001b[1;33m\u001b[0m\u001b[0m\n\u001b[0;32m    735\u001b[0m     \u001b[1;32mdef\u001b[0m \u001b[0mwrite_direct\u001b[0m\u001b[1;33m(\u001b[0m\u001b[0mself\u001b[0m\u001b[1;33m,\u001b[0m \u001b[0msource\u001b[0m\u001b[1;33m,\u001b[0m \u001b[0msource_sel\u001b[0m\u001b[1;33m=\u001b[0m\u001b[1;32mNone\u001b[0m\u001b[1;33m,\u001b[0m \u001b[0mdest_sel\u001b[0m\u001b[1;33m=\u001b[0m\u001b[1;32mNone\u001b[0m\u001b[1;33m)\u001b[0m\u001b[1;33m:\u001b[0m\u001b[1;33m\u001b[0m\u001b[1;33m\u001b[0m\u001b[0m\n",
      "\u001b[1;32mh5py\\_objects.pyx\u001b[0m in \u001b[0;36mh5py._objects.with_phil.wrapper\u001b[1;34m()\u001b[0m\n",
      "\u001b[1;32mh5py\\_objects.pyx\u001b[0m in \u001b[0;36mh5py._objects.with_phil.wrapper\u001b[1;34m()\u001b[0m\n",
      "\u001b[1;32mh5py\\h5d.pyx\u001b[0m in \u001b[0;36mh5py.h5d.DatasetID.read\u001b[1;34m()\u001b[0m\n",
      "\u001b[1;32mh5py\\_proxy.pyx\u001b[0m in \u001b[0;36mh5py._proxy.dset_rw\u001b[1;34m()\u001b[0m\n",
      "\u001b[1;32mh5py\\_proxy.pyx\u001b[0m in \u001b[0;36mh5py._proxy.H5PY_H5Dread\u001b[1;34m()\u001b[0m\n",
      "\u001b[1;31mOSError\u001b[0m: Can't read data (file read failed: time = Fri Apr 21 20:49:26 2023\n, filename = 'G:/My Drive/master thesis/code/dl-4-tsc-mtl/results/ucr/GunPoint/fcn/fcn_mt_ae_itr_/pointwise/best_model.hdf5', file descriptor = 4, errno = 22, error message = 'Invalid argument', buf = 0000021C94DA1FF0, total read size = 655360, bytes this sub-read = 655360, bytes actually read = 18446744073709551615, offset = 1336696)"
     ]
    }
   ],
   "source": [
    "path = 'G:/My Drive/master thesis/code/dl-4-tsc-mtl/results/ucr/GunPoint/fcn/fcn_mt_ae_itr_/pointwise/best_model.hdf5'\n",
    "model = keras.models.load_model(path,compile=False)"
   ]
  },
  {
   "cell_type": "code",
   "execution_count": 76,
   "id": "1ce7ded8",
   "metadata": {},
   "outputs": [
    {
     "name": "stdout",
     "output_type": "stream",
     "text": [
      "SHAPE (150,)\n"
     ]
    },
    {
     "data": {
      "text/plain": [
       "2"
      ]
     },
     "execution_count": 76,
     "metadata": {},
     "output_type": "execute_result"
    },
    {
     "data": {
      "image/png": "[encoded data removed]",
      "text/plain": [
       "<Figure size 432x288 with 1 Axes>"
      ]
     },
     "metadata": {
      "needs_background": "light"
     },
     "output_type": "display_data"
    }
   ],
   "source": [
    "from utils.utils import read_dataset\n",
    "plt.plot(att[0][0][1])\n",
    "x = att[0][0][1]\n",
    "data_p = 'G:/My Drive/master thesis/code/xai-tsc'\n",
    "archive = 'ucr'\n",
    "dataset_name = 'GunPoint'\n",
    "data_source = ''\n",
    "xt = read_dataset(data_p, archive_name, dataset_name,  data_source)['GunPoint'][0]\n",
    "plt.plot(xt[0])\n",
    "print(\"SHAPE\",xt[0,:].flatten().shape)\n",
    "pred = model.predict(xt)\n",
    "len(pred[0][1])"
   ]
  },
  {
   "cell_type": "code",
   "execution_count": 127,
   "id": "ca1b4c8c",
   "metadata": {},
   "outputs": [
    {
     "data": {
      "text/plain": [
       "<matplotlib.collections.PathCollection at 0x21ca088db80>"
      ]
     },
     "execution_count": 127,
     "metadata": {},
     "output_type": "execute_result"
    },
    {
     "data": {
      "image/png": "[encoded data removed]",
      "text/plain": [
       "<Figure size 432x288 with 1 Axes>"
      ]
     },
     "metadata": {
      "needs_background": "light"
     },
     "output_type": "display_data"
    }
   ],
   "source": [
    "%matplotlib inline\n",
    "\n",
    "plt.scatter(np.arange(len(att_test[0][1])),att_test[0][1],c=att_test[0][2]*100,cmap='jet', marker='.', s=2, vmin=-100, vmax=100, linewidths=2.0)"
   ]
  },
  {
   "cell_type": "code",
   "execution_count": 90,
   "id": "ecae331c",
   "metadata": {},
   "outputs": [
    {
     "data": {
      "text/plain": [
       "(50, 150)"
      ]
     },
     "execution_count": 90,
     "metadata": {},
     "output_type": "execute_result"
    }
   ],
   "source": [
    "def create_pointwise_explanation(attributions):\n",
    "    output = []\n",
    "    for split in attributions:\n",
    "        explanations = []\n",
    "        for ts in split: \n",
    "            x_values = ts[1]\n",
    "            attributions = ts[2]\n",
    "            explanations.append(np.concatenate((np.array([x_values]),attributions), axis=None))    \n",
    "        output.append(np.array(explanations))\n",
    "    return output\n",
    "\n",
    "create_pointwise_explanation(att)[0][:,150:].shape\n"
   ]
  },
  {
   "cell_type": "code",
   "execution_count": 159,
   "id": "22c17e50",
   "metadata": {},
   "outputs": [],
   "source": [
    "def save_explanations(data, root_dir, archive_name, appendix, dataset_name):\n",
    "    train_explanation,test_explanation = data\n",
    "    print(train_explanation.shape, test_explanation.shape)\n",
    "    dir_path = root_dir + '/archives/' + archive_name + '/' + dataset_name + '/' + appendix + '/' \n",
    "    create_directory(dir_path)\n",
    "    np.savetxt(dir_path + dataset_name + \"_TRAIN\", train_explanation, delimiter=',')\n",
    "    np.savetxt(dir_path + dataset_name + \"_TEST\", test_explanation, delimiter=',')\n",
    "    print(\"Successfully created explanation done.\")"
   ]
  },
  {
   "cell_type": "code",
   "execution_count": 82,
   "id": "aa4838d4",
   "metadata": {},
   "outputs": [],
   "source": [
    "#G:\\My Drive\\master thesis\\code\\xai-tsc\\results\\ucr\\GunPoint\\fcn\\fcn_mt_ae_itr_\\pointwise\\last_model.hdf5\n",
    "\n",
    "model05 = keras.models.load_model(\"G:/My Drive/master thesis/code/xai-tsc/results/ucr/GunPoint/fcn/fcn_mt_ae_itr_0.5/pointwise/best_model.hdf5\",compile=False)"
   ]
  },
  {
   "cell_type": "code",
   "execution_count": 83,
   "id": "33313773",
   "metadata": {},
   "outputs": [],
   "source": [
    "model00 = keras.models.load_model(\"G:/My Drive/master thesis/code/xai-tsc/results/ucr/GunPoint/fcn/fcn_mt_ae_itr_0/pointwise/best_model.hdf5\",compile=False)"
   ]
  },
  {
   "cell_type": "code",
   "execution_count": 90,
   "id": "6f0236ee",
   "metadata": {},
   "outputs": [],
   "source": [
    "modeld = keras.models.load_model(\"G:/My Drive/master thesis/code/xai-tsc/results/ucr/GunPoint/fcn/fcn_mt_dense_itr_/pointwise/best_model.hdf5\",compile=False)"
   ]
  },
  {
   "cell_type": "code",
   "execution_count": null,
   "id": "da8cb86a",
   "metadata": {},
   "outputs": [],
   "source": []
  },
  {
   "cell_type": "code",
   "execution_count": 95,
   "id": "5dc7e7d6",
   "metadata": {},
   "outputs": [
    {
     "data": {
      "text/plain": [
       "(array([[ 1.        , -0.12093848],\n",
       "        [-0.12093848,  1.        ]]),\n",
       " array([[ 1.        , -0.07191523],\n",
       "        [-0.07191523,  1.        ]]),\n",
       " array([[1.       , 0.5820025],\n",
       "        [0.5820025, 1.       ]]))"
      ]
     },
     "execution_count": 95,
     "metadata": {},
     "output_type": "execute_result"
    }
   ],
   "source": [
    "\n",
    "\n",
    "x = data[:, :150]\n",
    "y_att = data[:,150:]\n",
    "\n",
    "pred_ts_0 = model05.predict(data[:,150:][:3])[1][0].flatten()\n",
    "pred_ts_0s = model00.predict(data[:,150:][:3])[1][0].flatten()\n",
    "pred_ts_0d = modeld.predict(data[:,150:][:3])[1][0].flatten()\n",
    "np.corrcoef(y_att[ts],pred_ts_0),np.corrcoef(y_att[ts],pred_ts_0s),np.corrcoef(y_att[ts],pred_ts_0d)"
   ]
  },
  {
   "cell_type": "code",
   "execution_count": 128,
   "id": "18262879",
   "metadata": {},
   "outputs": [
    {
     "name": "stdout",
     "output_type": "stream",
     "text": [
      "0.385416684769506 0.27306478888195385 0.6486186062184436\n"
     ]
    },
    {
     "data": {
      "text/plain": [
       "<matplotlib.collections.PathCollection at 0x21ca386e550>"
      ]
     },
     "execution_count": 128,
     "metadata": {},
     "output_type": "execute_result"
    },
    {
     "data": {
      "image/png": "[encoded data removed]",
      "text/plain": [
       "<Figure size 1440x360 with 5 Axes>"
      ]
     },
     "metadata": {
      "needs_background": "light"
     },
     "output_type": "display_data"
    }
   ],
   "source": [
    "%matplotlib inline\n",
    "ts = 0\n",
    "#plt.plot(x[ts],c=\"red\")\n",
    "y_pred = model05.predict(x)[1][0].flatten()\n",
    "y_pred0 = model00.predict(x)[1][0].flatten()\n",
    "y_predd = modeld.predict(x)[1][0].flatten()\n",
    "fig, axes = plt.subplots(nrows=1, ncols=5, figsize=(20, 5))\n",
    "print(np.corrcoef(y_att[ts],pred_ts_0)[1][0],np.corrcoef(y_att[ts],pred_ts_0s)[1][0],np.corrcoef(y_att[ts],pred_ts_0d)[1][0])\n",
    "\n",
    "axes[0].scatter(np.arange(len(x[ts])),x[ts],c=y_att[ts]*100,cmap='jet', marker='.', s=2, vmin=-100, vmax=100, linewidths=2.0)\n",
    "axes[1].scatter(np.arange(len(x[ts])),x[ts],c=y_pred*100,cmap='jet', marker='.', s=2, vmin=-100, vmax=100, linewidths=2.0)\n",
    "axes[2].scatter(np.arange(len(x[ts])),x[ts],c=y_pred0*100,cmap='jet', marker='.', s=2, vmin=-100, vmax=100, linewidths=2.0)\n",
    "axes[3].scatter(np.arange(len(x[ts])),x[ts],c=y_predd*100,cmap='jet', marker='.', s=2, vmin=-100, vmax=100, linewidths=2.0)\n",
    "axes[4].scatter(np.arange(len(att_test[0][1])),att_test[0][1],c=att_test[0][2]*100,cmap='jet', marker='.', s=2, vmin=-100, vmax=100, linewidths=2.0)"
   ]
  },
  {
   "cell_type": "code",
   "execution_count": null,
   "id": "a8334111",
   "metadata": {},
   "outputs": [],
   "source": []
  },
  {
   "cell_type": "code",
   "execution_count": 134,
   "id": "da7253b1",
   "metadata": {},
   "outputs": [
    {
     "data": {
      "text/plain": [
       "(150, 150)"
      ]
     },
     "execution_count": 134,
     "metadata": {},
     "output_type": "execute_result"
    }
   ],
   "source": [
    "data[:, 150:].shape"
   ]
  },
  {
   "cell_type": "code",
   "execution_count": 94,
   "id": "b2375b27",
   "metadata": {},
   "outputs": [
    {
     "name": "stdout",
     "output_type": "stream",
     "text": [
      "(150, 150)\n"
     ]
    }
   ],
   "source": [
    "og = data = np.loadtxt(\"G:/My Drive/master thesis/code/xai-tsc/archives/ucr/GunPoint/GunPoint_TEST\", delimiter=',')\n",
    "data = np.loadtxt(\"G:/My Drive/master thesis/code/xai-tsc/archives/ucr/GunPoint/pointwise/GunPoint_TEST\", delimiter=',')\n",
    "print(data[:, 150:].shape)"
   ]
  },
  {
   "cell_type": "code",
   "execution_count": 138,
   "id": "bdfe8006",
   "metadata": {},
   "outputs": [
    {
     "data": {
      "text/plain": [
       "(150, 150)"
      ]
     },
     "execution_count": 138,
     "metadata": {},
     "output_type": "execute_result"
    }
   ],
   "source": [
    "og[:,1:].shape"
   ]
  },
  {
   "cell_type": "code",
   "execution_count": 12,
   "id": "3b3a330b",
   "metadata": {},
   "outputs": [
    {
     "ename": "NameError",
     "evalue": "name 'data' is not defined",
     "output_type": "error",
     "traceback": [
      "\u001b[1;31m---------------------------------------------------------------------------\u001b[0m",
      "\u001b[1;31mNameError\u001b[0m                                 Traceback (most recent call last)",
      "\u001b[1;32m<ipython-input-12-e6f5dfc53121>\u001b[0m in \u001b[0;36m<module>\u001b[1;34m\u001b[0m\n\u001b[1;32m----> 1\u001b[1;33m \u001b[0mprint\u001b[0m\u001b[1;33m(\u001b[0m\u001b[0mdata\u001b[0m\u001b[1;33m[\u001b[0m\u001b[1;33m:\u001b[0m\u001b[1;33m,\u001b[0m \u001b[1;36m150\u001b[0m\u001b[1;33m:\u001b[0m\u001b[1;33m]\u001b[0m\u001b[1;33m)\u001b[0m\u001b[1;33m\u001b[0m\u001b[1;33m\u001b[0m\u001b[0m\n\u001b[0m",
      "\u001b[1;31mNameError\u001b[0m: name 'data' is not defined"
     ]
    }
   ],
   "source": [
    "print(data[:, 150:])"
   ]
  }
 ],
 "metadata": {
  "kernelspec": {
   "display_name": "Python 3",
   "language": "python",
   "name": "python3"
  },
  "language_info": {
   "codemirror_mode": {
    "name": "ipython",
    "version": 3
   },
   "file_extension": ".py",
   "mimetype": "text/x-python",
   "name": "python",
   "nbconvert_exporter": "python",
   "pygments_lexer": "ipython3",
   "version": "3.8.8"
  }
 },
 "nbformat": 4,
 "nbformat_minor": 5
}
