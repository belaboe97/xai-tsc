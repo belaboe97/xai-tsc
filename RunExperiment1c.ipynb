{
 "cells": [
  {
   "cell_type": "code",
   "execution_count": 1,
   "metadata": {},
   "outputs": [
    {
     "ename": "NameError",
     "evalue": "name 'stl_results_fcn' is not defined",
     "output_type": "error",
     "traceback": [
      "\u001b[1;31m---------------------------------------------------------------------------\u001b[0m",
      "\u001b[1;31mNameError\u001b[0m                                 Traceback (most recent call last)",
      "\u001b[1;32mg:\\Meine Ablage\\master thesis\\code\\xai-tsc\\RunExperiment1c.ipynb Cell 1\u001b[0m line \u001b[0;36m4\n\u001b[0;32m      <a href='vscode-notebook-cell:/g%3A/Meine%20Ablage/master%20thesis/code/xai-tsc/RunExperiment1c.ipynb#W0sZmlsZQ%3D%3D?line=1'>2</a>\u001b[0m results_experiment_2_fcn \u001b[39m=\u001b[39m pd\u001b[39m.\u001b[39mread_csv(\u001b[39m\"\u001b[39m\u001b[39mresults_csv/Experiment1a/test_results_classification_fcn.csv\u001b[39m\u001b[39m\"\u001b[39m)\n\u001b[0;32m      <a href='vscode-notebook-cell:/g%3A/Meine%20Ablage/master%20thesis/code/xai-tsc/RunExperiment1c.ipynb#W0sZmlsZQ%3D%3D?line=2'>3</a>\u001b[0m results_experiment_3_fcn \u001b[39m=\u001b[39m pd\n\u001b[1;32m----> <a href='vscode-notebook-cell:/g%3A/Meine%20Ablage/master%20thesis/code/xai-tsc/RunExperiment1c.ipynb#W0sZmlsZQ%3D%3D?line=3'>4</a>\u001b[0m merged_fcn_df \u001b[39m=\u001b[39m stl_results_fcn\u001b[39m.\u001b[39mmerge(results_experiment_1_fcn,how\u001b[39m=\u001b[39m\u001b[39m'\u001b[39m\u001b[39minner\u001b[39m\u001b[39m'\u001b[39m, on\u001b[39m=\u001b[39m[\u001b[39m'\u001b[39m\u001b[39mdataset\u001b[39m\u001b[39m'\u001b[39m])\n",
      "\u001b[1;31mNameError\u001b[0m: name 'stl_results_fcn' is not defined"
     ]
    }
   ],
   "source": [
    "import pandas as pd\n",
    "results_experiment_2_fcn = pd.read_csv(\"results_csv/Experiment1a/test_results_classification_fcn.csv\")\n",
    "results_experiment_3_fcn = pd.read_csv(\"results_csv/Experiment1a/test_results_classification_fcn.csv\")\n",
    "merged_fcn_df = results_experiment_3_fcn.merge(results_experiment_2_fcn,how='inner', on=['dataset'])"
   ]
  }
 ],
 "metadata": {
  "kernelspec": {
   "display_name": "xai-tsc",
   "language": "python",
   "name": "python3"
  },
  "language_info": {
   "codemirror_mode": {
    "name": "ipython",
    "version": 3
   },
   "file_extension": ".py",
   "mimetype": "text/x-python",
   "name": "python",
   "nbconvert_exporter": "python",
   "pygments_lexer": "ipython3",
   "version": "3.10.11"
  }
 },
 "nbformat": 4,
 "nbformat_minor": 2
}
