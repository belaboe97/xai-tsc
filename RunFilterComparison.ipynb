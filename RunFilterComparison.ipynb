{
 "cells": [
  {
   "cell_type": "code",
   "execution_count": 52,
   "metadata": {},
   "outputs": [],
   "source": [
    "import pandas as pd \n",
    "import os\n",
    "from utils.explanations import minmax_norm\n",
    "from utils.utils import read_dataset\n",
    "from utils.constants import CAM_LAYERS\n",
    "import tensorflow.keras as keras\n",
    "import tensorflow as tf\n",
    "import numpy as np\n",
    "from utils.explanations import calculate_cam_attributions\n",
    "import matplotlib.pyplot as plt\n",
    "\n",
    "import tensorflow_addons as tfa\n",
    "#from keras_contrib.layers.normalization.instancenormalization import InstanceNormalization\n",
    "from keras.utils import CustomObjectScope\n",
    "def load_model(root_dir, archive_name, dataset_name, classifier, data_source): \n",
    "    with CustomObjectScope({'InstanceNormalization':tfa.layers.InstanceNormalization()}):\n",
    "        model_path = f'{root_dir}/results/{archive_name}/{dataset_name}/' \\\n",
    "                                                + f'{classifier.split(\"_\")[0]}/{classifier}/{data_source}/' \\\n",
    "                                                + f'best_model.hdf5'\n",
    "        model =keras.models.load_model(model_path ,compile=False)\n",
    "        return model\n",
    "\n",
    "\n",
    "\n",
    "root_dir ='G:/Meine Ablage/master thesis/code/xai-tsc'\n",
    "archive_name = 'ucr'\n",
    "classifier = 'fcn_1.0'\n",
    "dataset_name = 'GunPoint'\n",
    "data_source = 'original'\n",
    "\n",
    "data = read_dataset(root_dir, 'ucr', dataset_name,  data_source, 1)[dataset_name]\n",
    "\n",
    "base_model = load_model(root_dir, archive_name, dataset_name, classifier, data_source)\n",
    "\n",
    "#G:\\Meine Ablage\\master thesis\\code\\xai-tsc\\results\\ucr\\GunPoint\\fcn\\fcn_mt_dense_0.5d\n",
    "\n",
    "classifier = 'fcn_mt_dense_0.0'\n",
    "data_source = 'fcn_raw'\n",
    "dataset_name = 'GunPoint'\n",
    "data_source = 'fcn_raw_mse'\n",
    "\n",
    "sigmoid_model =  load_model(root_dir, archive_name, dataset_name, classifier, data_source)"
   ]
  },
  {
   "cell_type": "code",
   "execution_count": 53,
   "metadata": {},
   "outputs": [],
   "source": [
    "from utils.constants import CAM_LAYERS\n",
    "from utils.explanations import get_layer_index\n",
    "\n",
    "\n",
    "bact = CAM_LAYERS[classifier.split(\"_\")[0]][\"gap_layer\"]\n",
    "bact = get_layer_index(base_model, bact)\n",
    "\n",
    "sact = CAM_LAYERS[classifier.split(\"_\")[0]][\"gap_layer\"]\n",
    "sact = get_layer_index(sigmoid_model, sact)\n",
    "\n",
    "bnew_input_layer = base_model.inputs\n",
    "bnew_output_layer = [base_model.layers[bact].output]\n",
    "bew_feed_forward = keras.backend.function(bnew_input_layer, bnew_output_layer)\n",
    "\n",
    "\n",
    "sew_input_layer = sigmoid_model.inputs\n",
    "sew_output_layer = [sigmoid_model.layers[sact].output]\n",
    "sew_feed_forward = keras.backend.function(sew_input_layer, sew_output_layer)\n",
    "\n",
    "\n",
    "ts = data[0]\n",
    "\n",
    "[bconv_out] = bew_feed_forward([ts])\n",
    "[sconv_out] = sew_feed_forward([ts])"
   ]
  },
  {
   "cell_type": "code",
   "execution_count": 54,
   "metadata": {},
   "outputs": [
    {
     "name": "stdout",
     "output_type": "stream",
     "text": [
      "[[ 1.         -0.02135652]\n",
      " [-0.02135652  1.        ]] 0.08917169168714735\n"
     ]
    }
   ],
   "source": [
    "mean_corr = 0\n",
    "highest_filter_corr = 0\n",
    "for i in range(128):\n",
    "    #print(np.corrcoef(bconv_out[0][i],sconv_out[0][i]))\n",
    "    mean_corr += np.corrcoef(bconv_out[0][i],sconv_out[0][i])\n",
    "    for j in range(128):\n",
    "        #print(np.corrcoef(bconv_out[0][i],sconv_out[0][i]))\n",
    "        if np.corrcoef(bconv_out[0][i],sconv_out[0][i])[0,1] > highest_filter_corr:\n",
    "            highest_filter_corr = np.corrcoef(bconv_out[0][i],sconv_out[0][i])[0,1] \n",
    "\n",
    "\n",
    "print(mean_corr / 128, highest_filter_corr)"
   ]
  }
 ],
 "metadata": {
  "kernelspec": {
   "display_name": "xai-tsc",
   "language": "python",
   "name": "python3"
  },
  "language_info": {
   "codemirror_mode": {
    "name": "ipython",
    "version": 3
   },
   "file_extension": ".py",
   "mimetype": "text/x-python",
   "name": "python",
   "nbconvert_exporter": "python",
   "pygments_lexer": "ipython3",
   "version": "3.10.11"
  },
  "orig_nbformat": 4
 },
 "nbformat": 4,
 "nbformat_minor": 2
}
