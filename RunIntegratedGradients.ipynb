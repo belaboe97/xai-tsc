{
 "cells": [
  {
   "cell_type": "code",
   "execution_count": 31,
   "metadata": {},
   "outputs": [],
   "source": [
    "import pandas as pd \n",
    "import os\n",
    "from utils.explanations import minmax_norm\n",
    "from utils.utils import read_dataset\n",
    "import tensorflow.keras as keras\n",
    "import tensorflow as tf\n",
    "import numpy as np\n",
    "from utils.explanations import calculate_cam_attributions\n",
    "import matplotlib.pyplot as plt\n",
    "\n",
    "import tensorflow_addons as tfa\n",
    "#from keras_contrib.layers.normalization.instancenormalization import InstanceNormalization\n",
    "from keras.utils import CustomObjectScope\n",
    "\n",
    "data_p = 'G:/Meine Ablage/master thesis/code/xai-tsc'\n",
    "archive = 'ucr'\n",
    "dataset_name = 'GunPoint'\n",
    "data_source = 'original'\n",
    "ylen = 1\n",
    "data = read_dataset(data_p, archive, dataset_name,  data_source, ylen)[dataset_name]\n",
    "data_source = 'fcn_raw'\n",
    "ylen = len(data[0][0])\n",
    "\n",
    "data_1 = read_dataset(data_p, archive, dataset_name,  data_source, ylen)[dataset_name]\n",
    "\n",
    "\n",
    "def load_model(root_dir, archive_name, dataset_name, classifier, data_source): \n",
    "    with CustomObjectScope({'InstanceNormalization':tfa.layers.InstanceNormalization()}):\n",
    "        model_path = f'{root_dir}/results/{archive_name}/{dataset_name}/' \\\n",
    "                                                + f'{classifier.split(\"_\")[0]}/{classifier}/{data_source}/' \\\n",
    "                                                + f'last_model.hdf5'\n",
    "        model =keras.models.load_model(model_path ,compile=False)\n",
    "        return model\n",
    "\n",
    "\n",
    "root_dir ='G:/Meine Ablage/master thesis/code/xai-tsc'\n",
    "archive_name = 'ucr'\n",
    "classifier = 'fcn_mt_dense_0.5'\n",
    "data_source = 'fcn_raw_mse'\n",
    "dataset_name = 'GunPoint'\n",
    "\n",
    "x,y,_,_=data\n",
    "x1,y1,_,_ = data_1\n",
    "model = load_model(root_dir, archive_name, dataset_name, classifier, data_source)\n",
    "\n",
    "model(x)\n",
    "y = y-1"
   ]
  },
  {
   "cell_type": "code",
   "execution_count": 33,
   "metadata": {},
   "outputs": [],
   "source": [
    "#tf.nn.softmax(y1[0])\n",
    "#plt.plot(y1[0])\n",
    "#plt.plot(tf.nn.softmax(y1[10]))"
   ]
  },
  {
   "cell_type": "code",
   "execution_count": 3,
   "metadata": {},
   "outputs": [],
   "source": [
    "from scipy.interpolate import interp1d\n",
    "def prepare_visualize_attribution(ts,attribution):\n",
    "    max_length = 2000    \n",
    "    #prepare values\n",
    "    minimum = np.min(attribution)\n",
    "    cas = attribution - minimum\n",
    "    cas = cas / max(cas)\n",
    "    cas = cas * 100\n",
    "    xv= np.linspace(0, len(ts) - 1, max_length, endpoint=True)\n",
    "    f = interp1d(range(len(ts)),ts)\n",
    "    yv = f(xv)\n",
    "    f = interp1d(range(len(ts)),cas)\n",
    "    cas = f(xv).astype(int)\n",
    "    return xv,yv,cas"
   ]
  },
  {
   "cell_type": "code",
   "execution_count": 36,
   "metadata": {},
   "outputs": [
    {
     "name": "stdout",
     "output_type": "stream",
     "text": [
      "0\n"
     ]
    },
    {
     "ename": "RuntimeError",
     "evalue": "in user code:\n\n    File \"C:\\Users\\boent\\AppData\\Local\\Temp\\ipykernel_75268\\2819316446.py\", line 50, in integrated_gradients  *\n        gradient_batch = compute_gradients(series=interpolated_path_input_batch,task=task)\n    File \"C:\\Users\\boent\\AppData\\Local\\Temp\\ipykernel_75268\\2819316446.py\", line 16, in compute_gradients  *\n        logits = model.predict(series)[task]\n    File \"c:\\Users\\boent\\anaconda3\\envs\\xai-tsc\\lib\\site-packages\\keras\\utils\\traceback_utils.py\", line 70, in error_handler  **\n        raise e.with_traceback(filtered_tb) from None\n    File \"c:\\Users\\boent\\anaconda3\\envs\\xai-tsc\\lib\\site-packages\\keras\\engine\\training.py\", line 3958, in _disallow_inside_tf_function\n        raise RuntimeError(error_msg)\n\n    RuntimeError: Detected a call to `Model.predict` inside a `tf.function`. `Model.predict is a high-level endpoint that manages its own `tf.function`. Please move the call to `Model.predict` outside of all enclosing `tf.function`s. Note that you can call a `Model` directly on `Tensor`s inside a `tf.function` like: `model(x)`.\n",
     "output_type": "error",
     "traceback": [
      "\u001b[1;31m---------------------------------------------------------------------------\u001b[0m",
      "\u001b[1;31mRuntimeError\u001b[0m                              Traceback (most recent call last)",
      "Cell \u001b[1;32mIn[36], line 84\u001b[0m\n\u001b[0;32m     81\u001b[0m baseline \u001b[39m=\u001b[39m tf\u001b[39m.\u001b[39mzeros(\u001b[39mlen\u001b[39m(x[\u001b[39m0\u001b[39m]))\u001b[39m#avg#tf.zeros(len(x[0]))#avg#tf.zeros(150)\u001b[39;00m\n\u001b[0;32m     82\u001b[0m series \u001b[39m=\u001b[39m x[ts]\n\u001b[1;32m---> 84\u001b[0m ig_att \u001b[39m=\u001b[39m integrated_gradients(baseline,series\u001b[39m.\u001b[39;49mastype(\u001b[39m'\u001b[39;49m\u001b[39mfloat32\u001b[39;49m\u001b[39m'\u001b[39;49m),task\u001b[39m=\u001b[39;49m\u001b[39m0\u001b[39;49m)\n\u001b[0;32m     86\u001b[0m idx \u001b[39m=\u001b[39m \u001b[39m1\u001b[39m\n\u001b[0;32m     88\u001b[0m cam_att \u001b[39m=\u001b[39m calculate_cam_attributions(root_dir, archive_name, classifier, dataset_name, data_source)[idx]\n",
      "File \u001b[1;32mc:\\Users\\boent\\anaconda3\\envs\\xai-tsc\\lib\\site-packages\\tensorflow\\python\\util\\traceback_utils.py:153\u001b[0m, in \u001b[0;36mfilter_traceback.<locals>.error_handler\u001b[1;34m(*args, **kwargs)\u001b[0m\n\u001b[0;32m    151\u001b[0m \u001b[39mexcept\u001b[39;00m \u001b[39mException\u001b[39;00m \u001b[39mas\u001b[39;00m e:\n\u001b[0;32m    152\u001b[0m   filtered_tb \u001b[39m=\u001b[39m _process_traceback_frames(e\u001b[39m.\u001b[39m__traceback__)\n\u001b[1;32m--> 153\u001b[0m   \u001b[39mraise\u001b[39;00m e\u001b[39m.\u001b[39mwith_traceback(filtered_tb) \u001b[39mfrom\u001b[39;00m \u001b[39mNone\u001b[39;00m\n\u001b[0;32m    154\u001b[0m \u001b[39mfinally\u001b[39;00m:\n\u001b[0;32m    155\u001b[0m   \u001b[39mdel\u001b[39;00m filtered_tb\n",
      "File \u001b[1;32m~\\AppData\\Local\\Temp\\__autograph_generated_filevov_rciq.py:35\u001b[0m, in \u001b[0;36mouter_factory.<locals>.inner_factory.<locals>.tf__integrated_gradients\u001b[1;34m(baseline, series, m_steps, batch_size, task)\u001b[0m\n\u001b[0;32m     33\u001b[0m alpha \u001b[39m=\u001b[39m ag__\u001b[39m.\u001b[39mUndefined(\u001b[39m'\u001b[39m\u001b[39malpha\u001b[39m\u001b[39m'\u001b[39m)\n\u001b[0;32m     34\u001b[0m from_ \u001b[39m=\u001b[39m ag__\u001b[39m.\u001b[39mUndefined(\u001b[39m'\u001b[39m\u001b[39mfrom_\u001b[39m\u001b[39m'\u001b[39m)\n\u001b[1;32m---> 35\u001b[0m ag__\u001b[39m.\u001b[39;49mfor_stmt(ag__\u001b[39m.\u001b[39;49mconverted_call(ag__\u001b[39m.\u001b[39;49mld(tf)\u001b[39m.\u001b[39;49mrange, (\u001b[39m0\u001b[39;49m, ag__\u001b[39m.\u001b[39;49mconverted_call(ag__\u001b[39m.\u001b[39;49mld(\u001b[39mlen\u001b[39;49m), (ag__\u001b[39m.\u001b[39;49mld(alphas),), \u001b[39mNone\u001b[39;49;00m, fscope), ag__\u001b[39m.\u001b[39;49mld(batch_size)), \u001b[39mNone\u001b[39;49;00m, fscope), \u001b[39mNone\u001b[39;49;00m, loop_body, get_state, set_state, (\u001b[39m'\u001b[39;49m\u001b[39mgradient_batches\u001b[39;49m\u001b[39m'\u001b[39;49m,), {\u001b[39m'\u001b[39;49m\u001b[39miterate_names\u001b[39;49m\u001b[39m'\u001b[39;49m: \u001b[39m'\u001b[39;49m\u001b[39malpha\u001b[39;49m\u001b[39m'\u001b[39;49m})\n\u001b[0;32m     36\u001b[0m total_gradients \u001b[39m=\u001b[39m ag__\u001b[39m.\u001b[39mconverted_call(ag__\u001b[39m.\u001b[39mld(gradient_batches)\u001b[39m.\u001b[39mstack, (), \u001b[39mNone\u001b[39;00m, fscope)\n\u001b[0;32m     37\u001b[0m avg_gradients \u001b[39m=\u001b[39m ag__\u001b[39m.\u001b[39mconverted_call(ag__\u001b[39m.\u001b[39mld(integral_approximation), (), \u001b[39mdict\u001b[39m(gradients\u001b[39m=\u001b[39mag__\u001b[39m.\u001b[39mld(total_gradients)), fscope)\n",
      "File \u001b[1;32m~\\AppData\\Local\\Temp\\__autograph_generated_filevov_rciq.py:27\u001b[0m, in \u001b[0;36mouter_factory.<locals>.inner_factory.<locals>.tf__integrated_gradients.<locals>.loop_body\u001b[1;34m(itr)\u001b[0m\n\u001b[0;32m     25\u001b[0m alpha_batch \u001b[39m=\u001b[39m ag__\u001b[39m.\u001b[39mld(alphas)[ag__\u001b[39m.\u001b[39mld(from_):ag__\u001b[39m.\u001b[39mld(to)]\n\u001b[0;32m     26\u001b[0m interpolated_path_input_batch \u001b[39m=\u001b[39m ag__\u001b[39m.\u001b[39mconverted_call(ag__\u001b[39m.\u001b[39mld(interpolate_series), (), \u001b[39mdict\u001b[39m(baseline\u001b[39m=\u001b[39mag__\u001b[39m.\u001b[39mld(baseline), series\u001b[39m=\u001b[39mag__\u001b[39m.\u001b[39mld(series), alphas\u001b[39m=\u001b[39mag__\u001b[39m.\u001b[39mld(alpha_batch)), fscope)\n\u001b[1;32m---> 27\u001b[0m gradient_batch \u001b[39m=\u001b[39m ag__\u001b[39m.\u001b[39;49mconverted_call(ag__\u001b[39m.\u001b[39;49mld(compute_gradients), (), \u001b[39mdict\u001b[39;49m(series\u001b[39m=\u001b[39;49mag__\u001b[39m.\u001b[39;49mld(interpolated_path_input_batch), task\u001b[39m=\u001b[39;49mag__\u001b[39m.\u001b[39;49mld(task)), fscope)\n\u001b[0;32m     28\u001b[0m gradient_batches \u001b[39m=\u001b[39m ag__\u001b[39m.\u001b[39mconverted_call(ag__\u001b[39m.\u001b[39mld(gradient_batches)\u001b[39m.\u001b[39mscatter, (ag__\u001b[39m.\u001b[39mconverted_call(ag__\u001b[39m.\u001b[39mld(tf)\u001b[39m.\u001b[39mrange, (ag__\u001b[39m.\u001b[39mld(from_), ag__\u001b[39m.\u001b[39mld(to)), \u001b[39mNone\u001b[39;00m, fscope), ag__\u001b[39m.\u001b[39mld(gradient_batch)), \u001b[39mNone\u001b[39;00m, fscope)\n",
      "File \u001b[1;32m~\\AppData\\Local\\Temp\\__autograph_generated_file4fsqlep8.py:12\u001b[0m, in \u001b[0;36mouter_factory.<locals>.inner_factory.<locals>.tf__compute_gradients\u001b[1;34m(series, task)\u001b[0m\n\u001b[0;32m     10\u001b[0m \u001b[39mwith\u001b[39;00m ag__\u001b[39m.\u001b[39mld(tf)\u001b[39m.\u001b[39mGradientTape() \u001b[39mas\u001b[39;00m tape:\n\u001b[0;32m     11\u001b[0m     ag__\u001b[39m.\u001b[39mconverted_call(ag__\u001b[39m.\u001b[39mld(tape)\u001b[39m.\u001b[39mwatch, (ag__\u001b[39m.\u001b[39mld(series),), \u001b[39mNone\u001b[39;00m, fscope)\n\u001b[1;32m---> 12\u001b[0m     logits \u001b[39m=\u001b[39m ag__\u001b[39m.\u001b[39;49mconverted_call(ag__\u001b[39m.\u001b[39;49mld(model)\u001b[39m.\u001b[39;49mpredict, (ag__\u001b[39m.\u001b[39;49mld(series),), \u001b[39mNone\u001b[39;49;00m, fscope)[ag__\u001b[39m.\u001b[39mld(task)]\n\u001b[0;32m     13\u001b[0m     ag__\u001b[39m.\u001b[39mld(\u001b[39mprint\u001b[39m)(\u001b[39m'\u001b[39m\u001b[39mLOgits\u001b[39m\u001b[39m'\u001b[39m, ag__\u001b[39m.\u001b[39mld(logits))\n\u001b[0;32m     14\u001b[0m \u001b[39mtry\u001b[39;00m:\n",
      "File \u001b[1;32mc:\\Users\\boent\\anaconda3\\envs\\xai-tsc\\lib\\site-packages\\keras\\utils\\traceback_utils.py:70\u001b[0m, in \u001b[0;36mfilter_traceback.<locals>.error_handler\u001b[1;34m(*args, **kwargs)\u001b[0m\n\u001b[0;32m     67\u001b[0m     filtered_tb \u001b[39m=\u001b[39m _process_traceback_frames(e\u001b[39m.\u001b[39m__traceback__)\n\u001b[0;32m     68\u001b[0m     \u001b[39m# To get the full stack trace, call:\u001b[39;00m\n\u001b[0;32m     69\u001b[0m     \u001b[39m# `tf.debugging.disable_traceback_filtering()`\u001b[39;00m\n\u001b[1;32m---> 70\u001b[0m     \u001b[39mraise\u001b[39;00m e\u001b[39m.\u001b[39mwith_traceback(filtered_tb) \u001b[39mfrom\u001b[39;00m \u001b[39mNone\u001b[39;00m\n\u001b[0;32m     71\u001b[0m \u001b[39mfinally\u001b[39;00m:\n\u001b[0;32m     72\u001b[0m     \u001b[39mdel\u001b[39;00m filtered_tb\n",
      "File \u001b[1;32mc:\\Users\\boent\\anaconda3\\envs\\xai-tsc\\lib\\site-packages\\keras\\engine\\training.py:3958\u001b[0m, in \u001b[0;36m_disallow_inside_tf_function\u001b[1;34m(method_name)\u001b[0m\n\u001b[0;32m   3949\u001b[0m \u001b[39mif\u001b[39;00m tf\u001b[39m.\u001b[39minside_function():\n\u001b[0;32m   3950\u001b[0m     error_msg \u001b[39m=\u001b[39m (\n\u001b[0;32m   3951\u001b[0m         \u001b[39m\"\u001b[39m\u001b[39mDetected a call to `Model.\u001b[39m\u001b[39m{method_name}\u001b[39;00m\u001b[39m` inside a `tf.function`. \u001b[39m\u001b[39m\"\u001b[39m\n\u001b[0;32m   3952\u001b[0m         \u001b[39m\"\u001b[39m\u001b[39m`Model.\u001b[39m\u001b[39m{method_name}\u001b[39;00m\u001b[39m is a high-level endpoint that manages its \u001b[39m\u001b[39m\"\u001b[39m\n\u001b[1;32m   (...)\u001b[0m\n\u001b[0;32m   3956\u001b[0m         \u001b[39m\"\u001b[39m\u001b[39m`model(x)`.\u001b[39m\u001b[39m\"\u001b[39m\n\u001b[0;32m   3957\u001b[0m     )\u001b[39m.\u001b[39mformat(method_name\u001b[39m=\u001b[39mmethod_name)\n\u001b[1;32m-> 3958\u001b[0m     \u001b[39mraise\u001b[39;00m \u001b[39mRuntimeError\u001b[39;00m(error_msg)\n",
      "\u001b[1;31mRuntimeError\u001b[0m: in user code:\n\n    File \"C:\\Users\\boent\\AppData\\Local\\Temp\\ipykernel_75268\\2819316446.py\", line 50, in integrated_gradients  *\n        gradient_batch = compute_gradients(series=interpolated_path_input_batch,task=task)\n    File \"C:\\Users\\boent\\AppData\\Local\\Temp\\ipykernel_75268\\2819316446.py\", line 16, in compute_gradients  *\n        logits = model.predict(series)[task]\n    File \"c:\\Users\\boent\\anaconda3\\envs\\xai-tsc\\lib\\site-packages\\keras\\utils\\traceback_utils.py\", line 70, in error_handler  **\n        raise e.with_traceback(filtered_tb) from None\n    File \"c:\\Users\\boent\\anaconda3\\envs\\xai-tsc\\lib\\site-packages\\keras\\engine\\training.py\", line 3958, in _disallow_inside_tf_function\n        raise RuntimeError(error_msg)\n\n    RuntimeError: Detected a call to `Model.predict` inside a `tf.function`. `Model.predict is a high-level endpoint that manages its own `tf.function`. Please move the call to `Model.predict` outside of all enclosing `tf.function`s. Note that you can call a `Model` directly on `Tensor`s inside a `tf.function` like: `model(x)`.\n"
     ]
    },
    {
     "data": {
      "text/plain": [
       "<Figure size 640x480 with 0 Axes>"
      ]
     },
     "metadata": {},
     "output_type": "display_data"
    },
    {
     "data": {
      "image/png": "[encoded data removed]",
      "text/plain": [
       "<Figure size 2000x500 with 4 Axes>"
      ]
     },
     "metadata": {},
     "output_type": "display_data"
    }
   ],
   "source": [
    "%matplotlib inline\n",
    "import tensorflow as tf \n",
    "def interpolate_series(baseline,\n",
    "                       series,\n",
    "                       alphas):\n",
    "  alphas_x = alphas[:,tf.newaxis]\n",
    "  baseline_x = tf.expand_dims(baseline, axis=0)\n",
    "  input_x = tf.expand_dims(series, axis=0)\n",
    "  delta = tf.expand_dims((series - baseline),axis=0)\n",
    "  series = baseline_x +  alphas_x * delta\n",
    "  return series\n",
    "\n",
    "def compute_gradients(series,task):\n",
    "  with tf.GradientTape() as tape:\n",
    "    tape.watch(series)\n",
    "    logits = model(series)[task]\n",
    "    print(\"LOgits\",logits)\n",
    "  return tape.gradient(logits, series)\n",
    "\n",
    "def integral_approximation(gradients):\n",
    "  # riemann_trapezoidal\n",
    "  grads = (gradients[:-1] + gradients[1:]) / tf.constant(2.0)\n",
    "  integrated_gradients = tf.math.reduce_mean(grads, axis=0)\n",
    "  return integrated_gradients\n",
    "\n",
    "@tf.function\n",
    "def integrated_gradients(baseline,\n",
    "                         series,\n",
    "                         m_steps=50,\n",
    "                         batch_size=32,\n",
    "                         task = 1):\n",
    "  # 1. Generate alphas.\n",
    "  alphas = tf.linspace(start=0.0, stop=1.0, num=m_steps+1)\n",
    "\n",
    "  # Initialize TensorArray outside loop to collect gradients.    \n",
    "  gradient_batches = tf.TensorArray(tf.float32, size=m_steps+1)\n",
    "\n",
    "  # Iterate alphas range and batch computation for speed, memory efficiency, and scaling to larger m_steps.\n",
    "  for alpha in tf.range(0, len(alphas), batch_size):\n",
    "    from_ = alpha\n",
    "    to = tf.minimum(from_ + batch_size, len(alphas))\n",
    "    alpha_batch = alphas[from_:to]\n",
    "\n",
    "    # 2. Generate interpolated inputs between baseline and input.\n",
    "    interpolated_path_input_batch = interpolate_series(baseline=baseline,\n",
    "                                                       series=series,\n",
    "                                                       alphas=alpha_batch)\n",
    "\n",
    "    # 3. Compute gradients between model outputs and interpolated inputs.\n",
    "    gradient_batch = compute_gradients(series=interpolated_path_input_batch,task=task)\n",
    "\n",
    "    # Write batch indices and gradients to extend TensorArray.\n",
    "    gradient_batches = gradient_batches.scatter(tf.range(from_, to), gradient_batch)    \n",
    "\n",
    "  # Stack path gradients together row-wise into single tensor.\n",
    "  total_gradients = gradient_batches.stack()\n",
    "\n",
    "  # 4. Integral approximation through averaging gradients.\n",
    "  avg_gradients = integral_approximation(gradients=total_gradients)\n",
    "\n",
    "  # 5. Scale integrated gradients with respect to input.\n",
    "  integrated_gradients = (series - baseline) * avg_gradients\n",
    "\n",
    "  return integrated_gradients\n",
    "\n",
    "plt.figure()\n",
    "\n",
    "fig,ax = plt.subplots(nrows=2,ncols=2, figsize=(20,5))\n",
    "\n",
    "prediction=model(x)[1] \n",
    "\n",
    "for ts in range(3): \n",
    "  #\n",
    "  # ts = 15\n",
    "\n",
    "  avg = np.average(x, axis=0)\n",
    "  avg = tf.convert_to_tensor(avg, dtype = np.float64)\n",
    "\n",
    "  mean = np.median(x[ts])\n",
    "  print(int(mean))\n",
    "  baseline = tf.zeros(len(x[0]))#avg#tf.zeros(len(x[0]))#avg#tf.zeros(150)\n",
    "  series = x[ts]\n",
    "\n",
    "  ig_att = integrated_gradients(baseline,series.astype('float32'),task=0)\n",
    "\n",
    "  idx = 1\n",
    "\n",
    "  cam_att = calculate_cam_attributions(root_dir, archive_name, classifier, dataset_name, data_source)[idx]\n",
    "  cam_att = cam_att[ts][2]\n",
    "\n",
    "  cam_vis = prepare_visualize_attribution(x[ts],cam_att)\n",
    "  #curr_vis = prepare_visualize_attribution(x[ts], y1[ts])\n",
    "  ig_vis = prepare_visualize_attribution(x[ts],ig_att)\n",
    "  #print(np.corrcoef(value,cam_att))\n",
    "\n",
    "  #plt.scatter(ig_vis[0],ig_vis[1],c=ig_vis[2], cmap='jet',  vmin=0,vmax=100)\n",
    "  pred_vis = prepare_visualize_attribution(x[ts],prediction[ts])\n",
    "\n",
    "\n",
    "\n",
    "  ax[0][0].scatter(cam_vis[0],cam_vis[1],c=cam_vis[2], cmap='jet', vmin=0,vmax=100)\n",
    "  ax[0][1].scatter(ig_vis[0],ig_vis[1],c=ig_vis[2], cmap='jet',  vmin=0,vmax=100)\n",
    "  ax[1][0].scatter(pred_vis[0],pred_vis[1],c=pred_vis[2], cmap='jet', vmin=0,vmax=100)\n",
    "  ax[1][1].scatter(pred_vis[0],pred_vis[1],c=pred_vis[2], cmap='jet',  vmin=0,vmax=100)\n",
    "  #ax[2].scatter(curr_vis[0],curr_vis[1],c=curr_vis[2], cmap='jet')\n",
    "\n",
    "\n",
    "#print(np.corrcoef(cam_att,pred_vis[0]))\n",
    "plt.tight_layout()\n",
    "plt.show()"
   ]
  },
  {
   "cell_type": "code",
   "execution_count": 8,
   "metadata": {},
   "outputs": [
    {
     "data": {
      "text/plain": [
       "array([[1.        , 0.04300832],\n",
       "       [0.04300832, 1.        ]])"
      ]
     },
     "execution_count": 8,
     "metadata": {},
     "output_type": "execute_result"
    }
   ],
   "source": [
    "np.corrcoef(ig_att,prediction[ts])"
   ]
  },
  {
   "cell_type": "code",
   "execution_count": 9,
   "metadata": {},
   "outputs": [
    {
     "name": "stdout",
     "output_type": "stream",
     "text": [
      "[0.]\n"
     ]
    }
   ],
   "source": [
    "print(y[ts])"
   ]
  },
  {
   "cell_type": "code",
   "execution_count": 121,
   "metadata": {},
   "outputs": [
    {
     "name": "stdout",
     "output_type": "stream",
     "text": [
      "1/1 [==============================] - 0s 17ms/step\n",
      "[[9.905484e-04 9.990094e-01]]\n"
     ]
    },
    {
     "data": {
      "text/plain": [
       "[<matplotlib.lines.Line2D at 0x2234f14af20>]"
      ]
     },
     "execution_count": 121,
     "metadata": {},
     "output_type": "execute_result"
    },
    {
     "data": {
      "image/png": "[encoded data removed]",
      "text/plain": [
       "<Figure size 640x480 with 1 Axes>"
      ]
     },
     "metadata": {},
     "output_type": "display_data"
    }
   ],
   "source": [
    "att_type = ig_att\n",
    "keep = 0.95\n",
    "sorted = (np.argsort(att_type)[::-1][int(len(att_type)*keep):])\n",
    "\n",
    "supp_x = x[ts].copy()\n",
    "supp_x[sorted] = 0\n",
    "supp_x = np.expand_dims(supp_x,axis=0)\n",
    "\n",
    "print(model.predict(supp_x))\n",
    "\n",
    "plt.plot(supp_x.T)"
   ]
  },
  {
   "cell_type": "code",
   "execution_count": 167,
   "metadata": {},
   "outputs": [
    {
     "data": {
      "text/plain": [
       "1645"
      ]
     },
     "execution_count": 167,
     "metadata": {},
     "output_type": "execute_result"
    }
   ],
   "source": [
    "len(ig_vis[2][ig_vis[2]<50])"
   ]
  },
  {
   "cell_type": "code",
   "execution_count": 62,
   "metadata": {},
   "outputs": [
    {
     "data": {
      "text/plain": [
       "array([-2.03207229e+00, -1.44007541e+00,  1.10518397e-01,  5.55619619e-01,\n",
       "        5.50262708e-01,  5.90089668e-01,  5.11317340e-01,  4.99121594e-01,\n",
       "        4.78800408e-01,  4.43015744e-01,  4.14235061e-01,  4.19502594e-01,\n",
       "        4.54197712e-01,  4.85848765e-01,  5.04312037e-01,  5.09782731e-01,\n",
       "        5.06846271e-01,  5.02328016e-01,  4.98578825e-01,  4.98920293e-01,\n",
       "        5.02563639e-01,  5.06731786e-01,  5.10576323e-01,  5.14474282e-01,\n",
       "        5.17080883e-01,  5.21110183e-01,  5.25982175e-01,  5.29913048e-01,\n",
       "        5.31850770e-01,  5.31172847e-01,  5.29053311e-01,  5.28641122e-01,\n",
       "        5.32617478e-01,  5.41244425e-01,  5.54708850e-01,  5.69967030e-01,\n",
       "        5.82533002e-01,  5.89720861e-01,  5.91515941e-01,  5.90078029e-01,\n",
       "        5.88457959e-01,  5.87357380e-01,  5.84981769e-01,  5.79008153e-01,\n",
       "        5.64390447e-01,  5.37422591e-01,  5.07192760e-01,  5.00210484e-01,\n",
       "        5.25761299e-01, -8.62014538e-03, -4.80519164e+00, -1.07570759e+01,\n",
       "       -1.48761916e+01, -1.59201721e+01, -1.48486485e+01, -1.36811600e+01,\n",
       "       -1.28802765e+01, -1.16998137e+01, -9.76887595e+00, -3.13183932e+00,\n",
       "        1.06402663e+01,  2.33024721e+01,  2.41153782e+01,  1.45719600e+01,\n",
       "        7.98596000e+00,  5.00792342e+00,  4.79348863e+00,  4.73519471e+00,\n",
       "        3.49182044e+00,  8.11474611e-01, -1.50410293e+00, -2.76738662e+00,\n",
       "       -3.59906563e+00, -4.09989912e+00, -4.37989795e+00, -4.54510515e+00,\n",
       "       -4.67188187e+00, -4.74046028e+00, -4.69511295e+00, -4.58034165e+00,\n",
       "       -4.46349372e+00, -4.44076943e+00, -4.51232627e+00, -4.63431563e+00,\n",
       "       -4.75665129e+00, -4.84430319e+00, -4.99138560e+00, -5.35784551e+00,\n",
       "       -6.01468867e+00, -6.87231715e+00, -7.49049114e+00, -7.70283019e+00,\n",
       "       -7.35337154e+00, -5.36910718e+00,  1.21647773e+00,  8.53053316e+00,\n",
       "        1.45411990e+01,  1.88927042e+01,  2.21655865e+01,  2.36630562e+01,\n",
       "        3.04265306e+01,  3.59054912e+01,  3.67028114e+01,  3.54879962e+01,\n",
       "        3.45853595e+01,  3.37186115e+01,  3.23981937e+01,  2.88022971e+01,\n",
       "        2.50762499e+01,  2.01384333e+01,  1.35084216e+01,  7.16407111e+00,\n",
       "        1.39636783e+00, -3.47188957e-01, -2.14174541e+00, -3.82953614e+00,\n",
       "       -3.87402789e+00, -2.64260280e+00, -8.68510529e-01,  8.03797888e-02,\n",
       "        3.61073523e-01,  5.47193786e-01,  5.95668077e-01,  6.03483124e-01,\n",
       "        6.05083995e-01,  6.04808855e-01,  6.06668830e-01,  6.08502513e-01,\n",
       "        6.08190345e-01,  6.00945649e-01,  5.86056601e-01,  5.76941866e-01,\n",
       "        5.74151663e-01,  5.74229866e-01,  5.75409258e-01,  5.74762525e-01,\n",
       "        5.70097828e-01,  5.64148445e-01,  5.60024241e-01,  5.60562640e-01,\n",
       "        5.65518383e-01,  5.71300156e-01,  5.75357748e-01,  5.64374506e-01,\n",
       "        4.88139553e-01,  3.74708810e-01,  2.59667238e-02, -9.22600753e+00,\n",
       "       -2.13086800e+01, -1.17265025e+01])"
      ]
     },
     "execution_count": 62,
     "metadata": {},
     "output_type": "execute_result"
    }
   ],
   "source": [
    "y1[ts]"
   ]
  },
  {
   "cell_type": "code",
   "execution_count": 53,
   "metadata": {},
   "outputs": [
    {
     "name": "stdout",
     "output_type": "stream",
     "text": [
      "[-0.96433  -0.96426  -0.96477  -0.96309  -0.96376  -0.96239  -0.962\n",
      " -0.96154  -0.96097  -0.95563  -0.95475  -0.95381  -0.94986  -0.94671\n",
      " -0.95005  -0.9431   -0.91262  -0.8506   -0.76758  -0.67859  -0.62965\n",
      " -0.61139  -0.61473  -0.62927  -0.62442  -0.59615  -0.57529  -0.56127\n",
      " -0.53517  -0.50789  -0.48563  -0.4736   -0.45091  -0.41557  -0.38558\n",
      " -0.32147  -0.2364   -0.10262   0.05185   0.23966   0.46068   0.62007\n",
      "  0.76559   0.90351   1.0267    1.1392    1.2382    1.3085    1.3628\n",
      "  1.4004    1.416     1.4184    1.4134    1.4135    1.4175    1.4203\n",
      "  1.4264    1.4337    1.4329    1.4278    1.4338    1.4325    1.419\n",
      "  1.4285    1.4263    1.425     1.4297    1.4332    1.4302    1.4345\n",
      "  1.4328    1.4421    1.4423    1.4477    1.4479    1.4439    1.4439\n",
      "  1.443     1.4451    1.4387    1.4352    1.4276    1.4273    1.4128\n",
      "  1.3831    1.3373    1.2889    1.2196    1.1309    1.0266    0.88836\n",
      "  0.73476   0.54673   0.37844   0.20131   0.023965 -0.11019  -0.25447\n",
      " -0.36629  -0.46337  -0.52737  -0.57171  -0.5831   -0.59468  -0.5976\n",
      " -0.59542  -0.59632  -0.59625  -0.60199  -0.60367  -0.61166  -0.6185\n",
      " -0.62601  -0.64033  -0.65848  -0.6801   -0.70876  -0.75329  -0.80226\n",
      " -0.86268  -0.9376   -1.0069   -1.0437   -1.0535   -1.0494   -1.0334\n",
      " -1.0129   -0.98906  -0.94572  -0.9321   -0.92059  -0.91764  -0.91162\n",
      " -0.91136  -0.90945  -0.9071   -0.9043   -0.90275  -0.89897  -0.89763\n",
      " -0.8967   -0.89367  -0.89184  -0.8933   -0.89113  -0.89047  -0.88998\n",
      " -0.89085  -0.89034  -0.89375 ]\n"
     ]
    }
   ],
   "source": [
    "print(cam_att)"
   ]
  },
  {
   "cell_type": "code",
   "execution_count": 36,
   "metadata": {},
   "outputs": [
    {
     "data": {
      "text/plain": [
       "array([-0.64443 , -0.6454  , -0.64706 , -0.64749 , -0.64691 , -0.64388 ,\n",
       "       -0.63973 , -0.63809 , -0.6353  , -0.63538 , -0.63411 , -0.63372 ,\n",
       "       -0.63205 , -0.63228 , -0.62956 , -0.6287  , -0.62747 , -0.62409 ,\n",
       "       -0.62038 , -0.61557 , -0.61236 , -0.60895 , -0.60814 , -0.60875 ,\n",
       "       -0.60932 , -0.60964 , -0.61068 , -0.61113 , -0.61108 , -0.61171 ,\n",
       "       -0.61088 , -0.60945 , -0.60894 , -0.60689 , -0.60496 , -0.60258 ,\n",
       "       -0.60001 , -0.59801 , -0.59754 , -0.59777 , -0.59699 , -0.59715 ,\n",
       "       -0.59554 , -0.59359 , -0.59578 , -0.59911 , -0.59121 , -0.56584 ,\n",
       "       -0.50726 , -0.47291 , -0.39633 , -0.33415 , -0.2     , -0.084494,\n",
       "        0.10084 ,  0.31489 ,  0.52512 ,  0.69455 ,  0.80781 ,  0.92774 ,\n",
       "        1.0859  ,  1.2465  ,  1.4187  ,  1.5884  ,  1.7182  ,  1.8249  ,\n",
       "        1.8472  ,  1.8518  ,  1.8724  ,  1.8872  ,  1.8986  ,  1.9094  ,\n",
       "        1.9125  ,  1.9097  ,  1.9175  ,  1.919   ,  1.919   ,  1.9252  ,\n",
       "        1.9172  ,  1.92    ,  1.9212  ,  1.9229  ,  1.9149  ,  1.9197  ,\n",
       "        1.9002  ,  1.8759  ,  1.8251  ,  1.7656  ,  1.6632  ,  1.5312  ,\n",
       "        1.3838  ,  1.2475  ,  1.1144  ,  0.97499 ,  0.86271 ,  0.72754 ,\n",
       "        0.62537 ,  0.46326 ,  0.22508 , -0.012778, -0.23727 , -0.37892 ,\n",
       "       -0.49682 , -0.61293 , -0.71133 , -0.76952 , -0.80119 , -0.81305 ,\n",
       "       -0.8142  , -0.80859 , -0.79895 , -0.78046 , -0.76326 , -0.75208 ,\n",
       "       -0.73252 , -0.72218 , -0.71058 , -0.7005  , -0.69251 , -0.68554 ,\n",
       "       -0.67507 , -0.66984 , -0.66321 , -0.65961 , -0.65295 , -0.64982 ,\n",
       "       -0.6472  , -0.6455  , -0.64535 , -0.64491 , -0.64518 , -0.64599 ,\n",
       "       -0.64499 , -0.64382 , -0.64296 , -0.64283 , -0.64348 , -0.64357 ,\n",
       "       -0.64187 , -0.64157 , -0.64114 , -0.64143 , -0.63927 , -0.6378  ,\n",
       "       -0.63768 , -0.63526 , -0.63549 , -0.63493 , -0.6345  , -0.6316  ])"
      ]
     },
     "execution_count": 36,
     "metadata": {},
     "output_type": "execute_result"
    }
   ],
   "source": []
  }
 ],
 "metadata": {
  "kernelspec": {
   "display_name": "xai-tsc",
   "language": "python",
   "name": "python3"
  },
  "language_info": {
   "codemirror_mode": {
    "name": "ipython",
    "version": 3
   },
   "file_extension": ".py",
   "mimetype": "text/x-python",
   "name": "python",
   "nbconvert_exporter": "python",
   "pygments_lexer": "ipython3",
   "version": "3.10.11"
  },
  "orig_nbformat": 4
 },
 "nbformat": 4,
 "nbformat_minor": 2
}
