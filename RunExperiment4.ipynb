{
 "cells": [
  {
   "cell_type": "code",
   "execution_count": 2,
   "metadata": {},
   "outputs": [
    {
     "name": "stderr",
     "output_type": "stream",
     "text": [
      "C:\\Users\\boent\\AppData\\Local\\Temp\\ipykernel_35284\\2523738701.py:44: FutureWarning: The frame.append method is deprecated and will be removed from pandas in a future version. Use pandas.concat instead.\n",
      "  stl_results_fcn = stl_results_fcn.append(stl_results_fcn_i)\n",
      "C:\\Users\\boent\\AppData\\Local\\Temp\\ipykernel_35284\\2523738701.py:44: FutureWarning: The frame.append method is deprecated and will be removed from pandas in a future version. Use pandas.concat instead.\n",
      "  stl_results_fcn = stl_results_fcn.append(stl_results_fcn_i)\n"
     ]
    }
   ],
   "source": [
    "import os \n",
    "import pandas as pd\n",
    "\n",
    "ITERATIONS = 1\n",
    "columns=[\"dataset\", \"mtl\", 'gamma', \"accuracy\", \"precision\", \"recall\", \"duration\"]\n",
    "stl_results_fcn = pd.DataFrame(columns=columns)\n",
    "stl_results_res = pd.DataFrame(columns=columns)\n",
    "\n",
    "\n",
    "\n",
    "for idx, dataset in enumerate(['GunPoint','ECG200']):#, 'Beef', 'GunPoint']):#,'Beef']):#enumerate(os.listdir('./archives/ucr')):\n",
    "\n",
    "    bac = 0; acc=0; precision=0; recall=0; duration=0\n",
    "\n",
    "    for classifier in ['ae_iter']: \n",
    "\n",
    "        for gamma in [0.5]:\n",
    "\n",
    "            stl_results_fcn_i = pd.DataFrame(columns=columns)\n",
    "            stl_results_res_i = pd.DataFrame(columns=columns)\n",
    "\n",
    "            for itr in range(ITERATIONS): \n",
    "                fcn_model = pd.read_csv(f'./results/ucr/{dataset}/experiment_4/fcn/fcn_mt_{classifier}_{gamma}_{itr}/{\"fcn_ig_norm\"}/df_best_model.csv')\n",
    "                fcn_metrics = pd.read_csv(f'./results/ucr/{dataset}/experiment_4/fcn/fcn_mt_{classifier}_{gamma}_{itr}/{\"fcn_ig_norm\"}/task1_df_metrics.csv')\n",
    "                #res_model = pd.read_csv(f'./results/ucr/{dataset}/experiment_3/resnet/resnet_mt_{classifier}_{gamma}_{itr}/{\"resnet_ig_raw\"}/df_best_model.csv')\n",
    "                #res_metrics = pd.read_csv(f'./results/ucr/{dataset}/experiment_3/resnet/resnet_mt_{classifier}_{gamma}_{itr}/{\"resnet_ig_raw\"}/task1_df_metrics.csv')\n",
    "\n",
    "            \n",
    "                fcn_vals = [fcn_metrics[\"accuracy\"].values[0], fcn_metrics[\"precision\"].values[0],\n",
    "                            fcn_metrics[\"recall\"].values[0], fcn_metrics[\"duration\"].values[0]] \n",
    "                #res_vals = [res_metrics[\"accuracy\"].values[0], res_metrics[\"precision\"].values[0],\n",
    "                #            res_metrics[\"recall\"].values[0], res_metrics[\"duration\"].values[0]] \n",
    "                #Read STL results for FCN classifier\n",
    "                if itr == 0:\n",
    "                    stl_results_fcn_i.loc[idx] = [dataset,classifier,gamma] + fcn_vals\n",
    "                    #stl_results_res_i.loc[idx] = [dataset,classifier,gamma] + res_vals\n",
    "                else:\n",
    "                    stl_results_fcn_i.loc[idx, columns[3:]] += fcn_vals\n",
    "                    #stl_results_res_i.loc[idx, columns[3:]] += res_vals\n",
    "\n",
    "            stl_results_fcn_i.loc[idx, columns[3:]] /= ITERATIONS\n",
    "            #stl_results_res_i.loc[idx, columns[3:]] /= ITERATIONS\n",
    "\n",
    "            stl_results_fcn = stl_results_fcn.append(stl_results_fcn_i)\n",
    "            #stl_results_res = stl_results_res.append(stl_results_res_i)\n",
    "\n",
    "#G:\\Meine Ablage\\master thesis\\code/xai-tsc\\results\\ucr\\Beef\\experiment_4\\fcn\\fcn_mt_ae_iter_0.75_0\\fcn_ig_raw\\df_best_model.csv\n",
    "#/results/ucr/Coffee/experiment_4/fcn/fcn_mt_ae_iter_0.75_0/fcn_ig_raw/df_best_model.csv'\n",
    "\n",
    "#./results/ucr/Beef/experiment_4/fcn/fcn_mt_test_0.75_0/fcn_ig_raw/df_best_model.csv'\n",
    "# results\\ucr\\Coffee/experiment_4/fcn\\fcn_mt_test_0.75_0\\fcn_ig_raw\n"
   ]
  },
  {
   "cell_type": "code",
   "execution_count": 1,
   "metadata": {},
   "outputs": [
    {
     "ename": "NameError",
     "evalue": "name 'stl_results_fcn' is not defined",
     "output_type": "error",
     "traceback": [
      "\u001b[1;31m---------------------------------------------------------------------------\u001b[0m",
      "\u001b[1;31mNameError\u001b[0m                                 Traceback (most recent call last)",
      "Cell \u001b[1;32mIn[1], line 1\u001b[0m\n\u001b[1;32m----> 1\u001b[0m stl_results_fcn\n",
      "\u001b[1;31mNameError\u001b[0m: name 'stl_results_fcn' is not defined"
     ]
    }
   ],
   "source": [
    "stl_results_fcn"
   ]
  },
  {
   "cell_type": "code",
   "execution_count": 526,
   "metadata": {},
   "outputs": [
    {
     "data": {
      "text/html": [
       "<div>\n",
       "<style scoped>\n",
       "    .dataframe tbody tr th:only-of-type {\n",
       "        vertical-align: middle;\n",
       "    }\n",
       "\n",
       "    .dataframe tbody tr th {\n",
       "        vertical-align: top;\n",
       "    }\n",
       "\n",
       "    .dataframe thead th {\n",
       "        text-align: right;\n",
       "    }\n",
       "</style>\n",
       "<table border=\"1\" class=\"dataframe\">\n",
       "  <thead>\n",
       "    <tr style=\"text-align: right;\">\n",
       "      <th></th>\n",
       "      <th>dataset</th>\n",
       "      <th>mtl</th>\n",
       "      <th>gamma</th>\n",
       "      <th>accuracy</th>\n",
       "      <th>precision</th>\n",
       "      <th>recall</th>\n",
       "      <th>duration</th>\n",
       "    </tr>\n",
       "  </thead>\n",
       "  <tbody>\n",
       "  </tbody>\n",
       "</table>\n",
       "</div>"
      ],
      "text/plain": [
       "Empty DataFrame\n",
       "Columns: [dataset, mtl, gamma, accuracy, precision, recall, duration]\n",
       "Index: []"
      ]
     },
     "execution_count": 526,
     "metadata": {},
     "output_type": "execute_result"
    }
   ],
   "source": [
    "stl_results_res"
   ]
  },
  {
   "attachments": {},
   "cell_type": "markdown",
   "metadata": {},
   "source": [
    "### Calculate Custom Metrics for Attribution Method\n"
   ]
  },
  {
   "cell_type": "code",
   "execution_count": 172,
   "metadata": {},
   "outputs": [
    {
     "name": "stdout",
     "output_type": "stream",
     "text": [
      "ECG200\n",
      "fcn_mt_ae_iter\n",
      "fcn\n",
      "Calculate\n",
      "G:/Meine Ablage/master thesis/code/xai-tsc/results/ucr/ECG200//experiment_4/fcn/fcn_mt_ae_iter_0.5_0/fcn_ig_norm/last_model.hdf5\n",
      "4/4 [==============================] - 0s 13ms/step\n",
      "4/4 [==============================] - 0s 17ms/step\n",
      "pred 1 (100, 96)\n",
      "4/4 [==============================] - 0s 18ms/step\n",
      "{'ECG200_ae': {'model': 'fcn_mt_ae_iter', 'pm1': 0.6715660649791317, 'pm2': 0.42715445594383944, 'pm3': 0.4719869797273421, 'mm1': 0.007802018881151145, 'mm2': 0.012258182463701814}}\n",
      "pred 3 (100, 96)\n",
      "4/4 [==============================] - 0s 19ms/step\n"
     ]
    }
   ],
   "source": [
    "import tensorflow_addons as tfa\n",
    "from utils.explanations import integrated_gradients\n",
    "from keras.utils import CustomObjectScope\n",
    "import tensorflow.keras as keras\n",
    "import tensorflow as tf\n",
    "import os\n",
    "from utils.explanations import minmax_norm\n",
    "from utils.explanations import calculate_ig_attributions\n",
    "from sklearn.metrics import mean_absolute_error, mean_squared_error\n",
    "from utils.utils import read_dataset\n",
    "from sklearn.preprocessing import normalize\n",
    "import numpy as np\n",
    "\n",
    "\n",
    "\n",
    "# Load model to calculate custom metrics \n",
    "def load_model(root_dir, archive_name, dataset_name, classifier, data_source): \n",
    "    with CustomObjectScope({'InstanceNormalization':tfa.layers.InstanceNormalization()}):\n",
    "        model_path = f'{root_dir}/results/{archive_name}/{dataset_name}/' \\\n",
    "                                                + f'{classifier.split(\"_\")[0]}/{classifier}/{data_source}/' \\\n",
    "                                                + f'best_model.hdf5'\n",
    "        model =keras.models.load_model(model_path ,compile=False)\n",
    "        return model\n",
    "    \n",
    "\n",
    "def norm(values): \n",
    "    if not type(values) == np.ndarray:\n",
    "        return normalize(values.numpy().reshape(1,-1))[0]\n",
    "    else: \n",
    "        return normalize(values.reshape(1,-1))[0]\n",
    "    \n",
    "#define shared trunk\n",
    "network = 'resnet' \n",
    "    \n",
    "#store custom metrics for model\n",
    "models_train  = dict()\n",
    "models_test   = dict()\n",
    "# Loop over data\n",
    "\n",
    "archive = 'ucr'\n",
    "dataset_name = 'ECG2000'\n",
    "data_p = 'G:/Meine Ablage/master thesis/code/xai-tsc'\n",
    "\n",
    "itr=0\n",
    "gamma = 0.5\n",
    "for idx, dataset in enumerate(['ECG200']):#, 'Beef', 'GunPoint']):#,'Beef']):\n",
    "    print(dataset)\n",
    "    ylen = 1\n",
    "    #Just for now:\n",
    "\n",
    "    data = read_dataset(data_p, archive, dataset, 'original', ylen)[dataset]\n",
    "    #assertion,each ts has same length\n",
    "    ylen = len(data[0][0])\n",
    "\n",
    "    for model in ['fcn_mt_ae_iter']: #'fcn_mt_linear']: #['fcn_mt_ae','fcn_mt_conv', 'fcn_mt_linear']: 'fcn_mt_ae_iter',\n",
    "        model_type = model.split('_')[0] \n",
    "        print(model)\n",
    "        try: \n",
    "\n",
    "\n",
    "            #Load initial values after STL training\n",
    "            #cam_data_stl = read_dataset(data_p, archive, dataset, 'fcn_cam_raw', ylen)[dataset]\n",
    "            print(model_type)\n",
    "            original_data = read_dataset(data_p, archive, dataset, f'{model_type}_ig_norm', ylen)[dataset]\n",
    "            \n",
    "            #Load required models\n",
    "            #cam_link = f'./results/ucr/{dataset}/fcn/fcn_mt_ae_0.0/fcn_cam_raw/best_model.hdf5'\n",
    "            #ucr\\GunPoint\\experiment_1\\fcn\\fcn_mt_ae_0\\fcn_ig_raw\n",
    "        \n",
    "            ig_link  = f'./results/ucr/{dataset}/experiment_4/{model_type}/{model}_{gamma}_{itr}/{model_type}_ig_norm/last_model.hdf5'\n",
    "            #f'./results/ucr/{dataset}/experiment_1/fcn/fcn_{itr}/original/\n",
    "            #cam_model =keras.models.load_model(cam_link ,compile=False)\n",
    "            ig_model = keras.models.load_model(ig_link ,compile=False)\n",
    "\n",
    "            #Calculate new  attributions\n",
    "            print(\"Calculate\")\n",
    "\n",
    "\n",
    "            ig_attributions = calculate_ig_attributions(data_p, archive, f\"{model}_{gamma}_{itr}\", dataset, \n",
    "                                                        f\"{model_type}_ig_norm\", task=1, experiment=4, model=\"last\")\n",
    "            # train and test data\n",
    "            # 1,3 are the labels:  \n",
    "            for t in [1,3]:#,3]:#,3]:\n",
    "\n",
    "                if t == 1: \n",
    "                    ig_data_stl  = np.loadtxt(f'./results/ucr/{dataset}/experiment_4/{model_type}/{model}_{gamma}_{itr}/{model_type}_ig_norm/499_ig_train', delimiter=',')\n",
    "                else: \n",
    "                    ig_data_stl  = np.loadtxt(f'./results/ucr/{dataset}/experiment_4/{model_type}/{model}_{gamma}_{itr}/{model_type}_ig_norm/499_ig_test', delimiter=',')\n",
    "                \n",
    "                tc = t \n",
    "                #Pearson and mse [p,m]\n",
    "                pm1 = 0; pm2 = 0; pm3=0; mm1 = 0; mm2 = 0\n",
    "                #predict values for all timeseries \n",
    "                print(\"pred\", t, data[t-1].shape)\n",
    "\n",
    "                pred = ig_model.predict(data[t-1])\n",
    "                #run loop\n",
    "                for ts in range(len(data[t])):                \n",
    "                    #small workaround\n",
    "                    #structure of attributions 0 --> train 1 --> test set\n",
    "                    pm1 += np.corrcoef(pred[1][ts].flatten(),ig_data_stl[ts])[0,1]\n",
    "                    pm2 += np.corrcoef(pred[1][ts].flatten(),norm(ig_attributions[0 if t == 1 else 1][ts][2]))[0,1]\n",
    "                    pm3 += np.corrcoef(ig_data_stl[ts],norm(ig_attributions[0 if t == 1 else 1][ts][2]))[0,1]\n",
    "                    mm1 += mean_squared_error(norm(pred[1][ts].flatten()),norm(ig_data_stl[ts]))\n",
    "                    mm2 += mean_squared_error(norm(pred[1][ts].flatten()),norm(ig_attributions[0 if t == 1 else 1][ts][2]))\n",
    "                #Init for model \n",
    "                l = len(data[t])\n",
    "                if t == 1: \n",
    "                    #f'{dataset}_{model.split(\"_\")[-1]}'\n",
    "                    models_train[f'{dataset}_{model.split(\"_\")[-2]}'] = {\"model\" : model, \"pm1\":pm1/l,\"pm2\": pm2/l, \"pm3\" : pm3/l,\n",
    "                                                                         \"mm1\":mm1/l, \"mm2\": mm2/l}\n",
    "                    print(models_train)\n",
    "                else: \n",
    "                    models_test[f'{dataset}_{model.split(\"_\")[-2]}'] = {\"model\" : model, \"pm1\":pm1/l,\"pm2\": pm2/l, \"pm3\" : pm3/l,\n",
    "                                                                         \"mm1\":mm1/l, \"mm2\": mm2/l}\n",
    "        except Exception as e: \n",
    "            print(dataset,\"error\", e)\n",
    "            pass\n",
    "\n",
    "\n",
    "#./results/ucr/GunPoint/experiment_1/resnet/resnet_mt_conv_0/resnet_ig_raw/last_model.hdf5 \n",
    "#G:/Meine Ablage\\master thesis\\code\\xai-tsc\\results\\ucr\\Coffee\\experiment_3\\fcn\\fcn_mt_conv_cas_0.75_0\\fcn_ig_raw\\last_model.hdf5\n",
    "#G:/Meine Ablage/master thesis/code/xai-tsc/results/ucr/Coffee//experiment_3/fcn/fcn_mt_conv_cas_0.75/fcn_ig_raw/last_model.hdf5\n",
    "#results\\ucr\\Beef\\experiment_4\\fcn\\fcn_mt_test_0.75_0\\fcn_ig_raw\\last_model.hdf5\n",
    "#results/ucr/Beef/experiment_4/fcn/fcn_mt_test_0.75_1/fcn_ig_raw/last_model.hdf5"
   ]
  },
  {
   "cell_type": "code",
   "execution_count": 173,
   "metadata": {},
   "outputs": [
    {
     "data": {
      "text/html": [
       "<div>\n",
       "<style scoped>\n",
       "    .dataframe tbody tr th:only-of-type {\n",
       "        vertical-align: middle;\n",
       "    }\n",
       "\n",
       "    .dataframe tbody tr th {\n",
       "        vertical-align: top;\n",
       "    }\n",
       "\n",
       "    .dataframe thead th {\n",
       "        text-align: right;\n",
       "    }\n",
       "</style>\n",
       "<table border=\"1\" class=\"dataframe\">\n",
       "  <thead>\n",
       "    <tr style=\"text-align: right;\">\n",
       "      <th></th>\n",
       "      <th>mm1</th>\n",
       "      <th>mm2</th>\n",
       "      <th>model</th>\n",
       "      <th>pm1</th>\n",
       "      <th>pm2</th>\n",
       "      <th>pm3</th>\n",
       "    </tr>\n",
       "  </thead>\n",
       "  <tbody>\n",
       "    <tr>\n",
       "      <th>ECG200_ae</th>\n",
       "      <td>0.007802</td>\n",
       "      <td>0.012258</td>\n",
       "      <td>fcn_mt_ae_iter</td>\n",
       "      <td>0.671566</td>\n",
       "      <td>0.427154</td>\n",
       "      <td>0.471987</td>\n",
       "    </tr>\n",
       "  </tbody>\n",
       "</table>\n",
       "</div>"
      ],
      "text/plain": [
       "                mm1       mm2           model       pm1       pm2       pm3\n",
       "ECG200_ae  0.007802  0.012258  fcn_mt_ae_iter  0.671566  0.427154  0.471987"
      ]
     },
     "metadata": {},
     "output_type": "display_data"
    },
    {
     "data": {
      "text/html": [
       "<div>\n",
       "<style scoped>\n",
       "    .dataframe tbody tr th:only-of-type {\n",
       "        vertical-align: middle;\n",
       "    }\n",
       "\n",
       "    .dataframe tbody tr th {\n",
       "        vertical-align: top;\n",
       "    }\n",
       "\n",
       "    .dataframe thead th {\n",
       "        text-align: right;\n",
       "    }\n",
       "</style>\n",
       "<table border=\"1\" class=\"dataframe\">\n",
       "  <thead>\n",
       "    <tr style=\"text-align: right;\">\n",
       "      <th></th>\n",
       "      <th>mm1</th>\n",
       "      <th>mm2</th>\n",
       "      <th>model</th>\n",
       "      <th>pm1</th>\n",
       "      <th>pm2</th>\n",
       "      <th>pm3</th>\n",
       "    </tr>\n",
       "  </thead>\n",
       "  <tbody>\n",
       "    <tr>\n",
       "      <th>ECG200_ae</th>\n",
       "      <td>0.011382</td>\n",
       "      <td>0.014065</td>\n",
       "      <td>fcn_mt_ae_iter</td>\n",
       "      <td>0.492578</td>\n",
       "      <td>0.339209</td>\n",
       "      <td>0.377922</td>\n",
       "    </tr>\n",
       "  </tbody>\n",
       "</table>\n",
       "</div>"
      ],
      "text/plain": [
       "                mm1       mm2           model       pm1       pm2       pm3\n",
       "ECG200_ae  0.011382  0.014065  fcn_mt_ae_iter  0.492578  0.339209  0.377922"
      ]
     },
     "metadata": {},
     "output_type": "display_data"
    }
   ],
   "source": [
    "display(pd.DataFrame(models_train).T)\n",
    "display(pd.DataFrame(models_test).T)"
   ]
  },
  {
   "cell_type": "code",
   "execution_count": 23,
   "metadata": {},
   "outputs": [
    {
     "name": "stdout",
     "output_type": "stream",
     "text": [
      "500\n"
     ]
    },
    {
     "data": {
      "image/png": "[encoded data removed]",
      "text/plain": [
       "<Figure size 640x480 with 1 Axes>"
      ]
     },
     "metadata": {},
     "output_type": "display_data"
    }
   ],
   "source": [
    "%matplotlib inline\n",
    "import matplotlib.pyplot as plt\n",
    "import numpy as np\n",
    "itr = 1\n",
    "dataset = 'ECG200'\n",
    "model = 'fcn_mt_nn_iter'\n",
    "model_type = 'fcn'\n",
    "gamma  = 0.75\n",
    "\n",
    "#./results/ucr/GunPoint/experiment_4/resnet/resnet_mt_ae_iter_0.5_1/resnet_ig_norm/test1198_loss\n",
    "#results\\ucr\\GunPoint\\experiment_4\\resnet\\resnet_mt_nn_iter_0.5_1\\resnet_ig_norm\\test1198_Val_Loss\n",
    "lo = ep_loss = np.loadtxt(f'./results/ucr/{dataset}/experiment_4/{model_type}/{model}_{gamma}_{itr}/{model_type}_ig_norm/test499_loss', delimiter=',')\n",
    "ep_loss = np.loadtxt(f'./results/ucr/{dataset}/experiment_4/{model_type}/{model}_{gamma}_{itr}/{model_type}_ig_norm/test499_val_loss', delimiter=',')\n",
    "\n",
    "plt.plot(lo)\n",
    "plt.plot(ep_loss)\n",
    "\n",
    "print(len(ep_loss))\n"
   ]
  },
  {
   "cell_type": "code",
   "execution_count": 21,
   "metadata": {},
   "outputs": [
    {
     "name": "stdout",
     "output_type": "stream",
     "text": [
      "150\n"
     ]
    },
    {
     "data": {
      "image/png": "[encoded data removed]",
      "text/plain": [
       "<Figure size 640x480 with 1 Axes>"
      ]
     },
     "metadata": {},
     "output_type": "display_data"
    }
   ],
   "source": [
    "%matplotlib inline\n",
    "import pandas as pd\n",
    "pd.DataFrame(models_test).T\n",
    "\n",
    "ts = 30\n",
    "print(len(ig_data_stl))\n",
    "#plt.plot(ig_data_stl[ts])\n",
    "plt.plot(norm(ig_attributions[1][ts][2]))\n",
    "plt.plot(pred[1][ts])\n",
    "#np.corrcoef(pred[1][ts],norm(ig_attributions[0][ts][2]))\n",
    "plt.show()\n"
   ]
  },
  {
   "cell_type": "code",
   "execution_count": 185,
   "metadata": {},
   "outputs": [
    {
     "ename": "SyntaxError",
     "evalue": "expected ':' (641250888.py, line 13)",
     "output_type": "error",
     "traceback": [
      "\u001b[1;36m  Cell \u001b[1;32mIn[185], line 13\u001b[1;36m\u001b[0m\n\u001b[1;33m    for model, model_type in [['']['resnet_mt_ae_iter', 'resnet'], ['resnet_mt_nn_iter', 'resnet']]\u001b[0m\n\u001b[1;37m                                                                                                   ^\u001b[0m\n\u001b[1;31mSyntaxError\u001b[0m\u001b[1;31m:\u001b[0m expected ':'\n"
     ]
    }
   ],
   "source": [
    "#itr = 4\n",
    "#dataset = 'GunPoint'\n",
    "#model = 'fcn_mt_ae_iter'\n",
    "#model_type = 'fcn'\n",
    "#gamma  = 0.75\n",
    "\n",
    "itr = 0\n",
    "dataset = 'ECG200'\n",
    "model = 'resnet_mt_nn_iter'\n",
    "model_type = 'resnet'\n",
    "gamma  = 0.5\n",
    "\n",
    "fig, axes = plt.subplots(nrows=1, ncols=4, figsize=(20, 5))\n",
    "for idx, [model, model_type] in enumerate([['fcn_mt_ae_iter', 'fcn'], ['fcn_mt_nn_iter','fcn'], ['resnet_mt_ae_iter', 'resnet'], ['resnet_mt_nn_iter', 'resnet']]):\n",
    "\n",
    "    m3_train = np.loadtxt(f'./results/ucr/{dataset}/experiment_4/{model_type}/{model}_{gamma}_{itr}/{model_type}_ig_norm/m3_score_train', delimiter=',')\n",
    "    m3_test = ep_loss = np.loadtxt(f'./results/ucr/{dataset}/experiment_4/{model_type}/{model}_{gamma}_{itr}/{model_type}_ig_norm/m3_score_test', delimiter=',')\n",
    "    m1_score_train =  np.loadtxt(f'./results/ucr/{dataset}/experiment_4/{model_type}/{model}_{gamma}_{itr}/{model_type}_ig_norm/m1_score_train', delimiter=',')\n",
    "    m1_score_test =  np.loadtxt(f'./results/ucr/{dataset}/experiment_4/{model_type}/{model}_{gamma}_{itr}/{model_type}_ig_norm/m1_score_test', delimiter=',')\n",
    "    acc = np.loadtxt(f'./results/ucr/{dataset}/experiment_4/{model_type}/{model}_{gamma}_{itr}/{model_type}_ig_norm/499_acc', delimiter=',')\n",
    "    val_acc = np.loadtxt(f'./results/ucr/{dataset}/experiment_4/{model_type}/{model}_{gamma}_{itr}/{model_type}_ig_norm/499_val_acc', delimiter=',')\n",
    "    epochs = np.loadtxt(f'./results/ucr/{dataset}/experiment_4/{model_type}/{model}_{gamma}_{itr}/{model_type}_ig_norm/epochs_update', delimiter=',')\n",
    "\n",
    "print(\"epochs\",epochs)\n",
    "axes.plot(epochs,m3_train,  label=\"m3 score train\")\n",
    "plt.plot(epochs,m3_test,  label=\"m3 score test\")\n",
    "\n",
    "plt.plot(epochs,m1_score_train, label=\"m1 score train\")\n",
    "plt.plot(epochs,m1_score_test,  label=\"m2 score test\")\n",
    "plt.plot(epochs,acc[epochs.astype(int)], label=\"acc score train\")\n",
    "plt.plot(epochs,val_acc[epochs.astype(int)], label=\"val score train\")\n",
    "#plt.plot(acc)\n",
    "#plt.plot(val_acc)\n",
    "plt.legend()"
   ]
  },
  {
   "cell_type": "code",
   "execution_count": 524,
   "metadata": {},
   "outputs": [
    {
     "name": "stdout",
     "output_type": "stream",
     "text": [
      "tf.Tensor(\n",
      "[0. 0. 0. 0. 0. 0. 0. 0. 0. 0. 0. 0. 0. 0. 0. 0. 0. 0. 0. 0. 0. 0. 0. 0.\n",
      " 0. 0. 0. 0. 0. 0. 0. 0. 0. 0. 0. 0. 0. 0. 0. 0. 0. 0. 0. 0. 0. 0. 0. 0.\n",
      " 0. 0. 0. 0. 0. 0. 0. 0. 0. 0. 0. 0. 0. 0. 0. 0. 0. 0. 0. 0. 0. 0. 0. 0.\n",
      " 0. 0. 0. 0. 0. 0. 0. 0. 0. 0. 0. 0. 0. 0. 0. 0. 0. 0. 0. 0. 0. 0. 0. 0.\n",
      " 0. 0. 0. 0. 0. 0. 0. 0. 0. 0. 0. 0. 0. 0. 0. 0. 0. 0. 0. 0. 0. 0. 0. 0.\n",
      " 0. 0. 0. 0. 0. 0. 0. 0. 0. 0. 0. 0. 0. 0. 0. 0. 0. 0. 0. 0. 0. 0. 0. 0.\n",
      " 0. 0. 0. 0. 0. 0.], shape=(150,), dtype=float32)\n",
      "WARNING:tensorflow:Model was constructed with shape (None, 140, 1) for input KerasTensor(type_spec=TensorSpec(shape=(None, 140, 1), dtype=tf.float32, name='input_1'), name='input_1', description=\"created by layer 'input_1'\"), but it was called on an input with incompatible shape (None, 1, 1).\n",
      "5/5 [==============================] - 1s 6ms/step\n",
      "[9.2516065e-04 9.9898875e-01 8.3621919e-05 2.2497682e-06 9.2110035e-08]\n"
     ]
    },
    {
     "ename": "ValueError",
     "evalue": "in user code:\n\n    File \"g:\\Meine Ablage\\master thesis\\code\\xai-tsc\\utils\\explanations.py\", line 151, in integrated_gradients  *\n        gradient_batch = compute_gradients(series=interpolated_path_input_batch,\n    File \"g:\\Meine Ablage\\master thesis\\code\\xai-tsc\\utils\\explanations.py\", line 105, in compute_gradients  *\n        logits = model(series)\n    File \"c:\\Users\\boent\\anaconda3\\envs\\xai-tsc\\lib\\site-packages\\keras\\utils\\traceback_utils.py\", line 70, in error_handler  **\n        raise e.with_traceback(filtered_tb) from None\n    File \"c:\\Users\\boent\\anaconda3\\envs\\xai-tsc\\lib\\site-packages\\keras\\engine\\input_spec.py\", line 295, in assert_input_compatibility\n        raise ValueError(\n\n    ValueError: Input 0 of layer \"model\" is incompatible with the layer: expected shape=(None, 140, 1), found shape=(None, 150)\n",
     "output_type": "error",
     "traceback": [
      "\u001b[1;31m---------------------------------------------------------------------------\u001b[0m",
      "\u001b[1;31mValueError\u001b[0m                                Traceback (most recent call last)",
      "Cell \u001b[1;32mIn[524], line 17\u001b[0m\n\u001b[0;32m     14\u001b[0m la \u001b[39m=\u001b[39m np\u001b[39m.\u001b[39margmax(npr[\u001b[39m0\u001b[39m][\u001b[39m0\u001b[39m])\n\u001b[0;32m     15\u001b[0m \u001b[39m#pärint(la)\u001b[39;00m\n\u001b[1;32m---> 17\u001b[0m raatt \u001b[39m=\u001b[39m integrated_gradients(ig_model,baseline,random_data\u001b[39m.\u001b[39;49mastype(\u001b[39m'\u001b[39;49m\u001b[39mfloat32\u001b[39;49m\u001b[39m'\u001b[39;49m),\n\u001b[0;32m     18\u001b[0m \t\t\t\t\t\t\t\t\t\t\t\t\tnp\u001b[39m.\u001b[39;49margmax(npr[\u001b[39m0\u001b[39;49m][idx]),\n\u001b[0;32m     19\u001b[0m \t\t\t\t\t\t\t\t\t\t\t\t\ttask\u001b[39m=\u001b[39;49m\u001b[39m1\u001b[39;49m)\n\u001b[0;32m     21\u001b[0m attss \u001b[39m=\u001b[39m  npr[\u001b[39m1\u001b[39m]\u001b[39m.\u001b[39mflatten()\n\u001b[0;32m     22\u001b[0m \u001b[39mprint\u001b[39m(np\u001b[39m.\u001b[39mcorrcoef(attss,raatt))\n",
      "File \u001b[1;32mc:\\Users\\boent\\anaconda3\\envs\\xai-tsc\\lib\\site-packages\\tensorflow\\python\\util\\traceback_utils.py:153\u001b[0m, in \u001b[0;36mfilter_traceback.<locals>.error_handler\u001b[1;34m(*args, **kwargs)\u001b[0m\n\u001b[0;32m    151\u001b[0m \u001b[39mexcept\u001b[39;00m \u001b[39mException\u001b[39;00m \u001b[39mas\u001b[39;00m e:\n\u001b[0;32m    152\u001b[0m   filtered_tb \u001b[39m=\u001b[39m _process_traceback_frames(e\u001b[39m.\u001b[39m__traceback__)\n\u001b[1;32m--> 153\u001b[0m   \u001b[39mraise\u001b[39;00m e\u001b[39m.\u001b[39mwith_traceback(filtered_tb) \u001b[39mfrom\u001b[39;00m \u001b[39mNone\u001b[39;00m\n\u001b[0;32m    154\u001b[0m \u001b[39mfinally\u001b[39;00m:\n\u001b[0;32m    155\u001b[0m   \u001b[39mdel\u001b[39;00m filtered_tb\n",
      "File \u001b[1;32m~\\AppData\\Local\\Temp\\__autograph_generated_filetmdoavgl.py:35\u001b[0m, in \u001b[0;36mouter_factory.<locals>.inner_factory.<locals>.tf__integrated_gradients\u001b[1;34m(model, baseline, series, target_class, m_steps, batch_size, task)\u001b[0m\n\u001b[0;32m     33\u001b[0m gradient_batch \u001b[39m=\u001b[39m ag__\u001b[39m.\u001b[39mUndefined(\u001b[39m'\u001b[39m\u001b[39mgradient_batch\u001b[39m\u001b[39m'\u001b[39m)\n\u001b[0;32m     34\u001b[0m from_ \u001b[39m=\u001b[39m ag__\u001b[39m.\u001b[39mUndefined(\u001b[39m'\u001b[39m\u001b[39mfrom_\u001b[39m\u001b[39m'\u001b[39m)\n\u001b[1;32m---> 35\u001b[0m ag__\u001b[39m.\u001b[39;49mfor_stmt(ag__\u001b[39m.\u001b[39;49mconverted_call(ag__\u001b[39m.\u001b[39;49mld(tf)\u001b[39m.\u001b[39;49mrange, (\u001b[39m0\u001b[39;49m, ag__\u001b[39m.\u001b[39;49mconverted_call(ag__\u001b[39m.\u001b[39;49mld(\u001b[39mlen\u001b[39;49m), (ag__\u001b[39m.\u001b[39;49mld(alphas),), \u001b[39mNone\u001b[39;49;00m, fscope), ag__\u001b[39m.\u001b[39;49mld(batch_size)), \u001b[39mNone\u001b[39;49;00m, fscope), \u001b[39mNone\u001b[39;49;00m, loop_body, get_state, set_state, (\u001b[39m'\u001b[39;49m\u001b[39mgradient_batches\u001b[39;49m\u001b[39m'\u001b[39;49m,), {\u001b[39m'\u001b[39;49m\u001b[39miterate_names\u001b[39;49m\u001b[39m'\u001b[39;49m: \u001b[39m'\u001b[39;49m\u001b[39malpha\u001b[39;49m\u001b[39m'\u001b[39;49m})\n\u001b[0;32m     36\u001b[0m total_gradients \u001b[39m=\u001b[39m ag__\u001b[39m.\u001b[39mconverted_call(ag__\u001b[39m.\u001b[39mld(gradient_batches)\u001b[39m.\u001b[39mstack, (), \u001b[39mNone\u001b[39;00m, fscope)\n\u001b[0;32m     37\u001b[0m avg_gradients \u001b[39m=\u001b[39m ag__\u001b[39m.\u001b[39mconverted_call(ag__\u001b[39m.\u001b[39mld(integral_approximation), (), \u001b[39mdict\u001b[39m(gradients\u001b[39m=\u001b[39mag__\u001b[39m.\u001b[39mld(total_gradients)), fscope)\n",
      "File \u001b[1;32m~\\AppData\\Local\\Temp\\__autograph_generated_filetmdoavgl.py:27\u001b[0m, in \u001b[0;36mouter_factory.<locals>.inner_factory.<locals>.tf__integrated_gradients.<locals>.loop_body\u001b[1;34m(itr)\u001b[0m\n\u001b[0;32m     25\u001b[0m alpha_batch \u001b[39m=\u001b[39m ag__\u001b[39m.\u001b[39mld(alphas)[ag__\u001b[39m.\u001b[39mld(from_):ag__\u001b[39m.\u001b[39mld(to)]\n\u001b[0;32m     26\u001b[0m interpolated_path_input_batch \u001b[39m=\u001b[39m ag__\u001b[39m.\u001b[39mconverted_call(ag__\u001b[39m.\u001b[39mld(interpolate_series), (), \u001b[39mdict\u001b[39m(baseline\u001b[39m=\u001b[39mag__\u001b[39m.\u001b[39mld(baseline), series\u001b[39m=\u001b[39mag__\u001b[39m.\u001b[39mld(series), alphas\u001b[39m=\u001b[39mag__\u001b[39m.\u001b[39mld(alpha_batch)), fscope)\n\u001b[1;32m---> 27\u001b[0m gradient_batch \u001b[39m=\u001b[39m ag__\u001b[39m.\u001b[39;49mconverted_call(ag__\u001b[39m.\u001b[39;49mld(compute_gradients), (), \u001b[39mdict\u001b[39;49m(series\u001b[39m=\u001b[39;49mag__\u001b[39m.\u001b[39;49mld(interpolated_path_input_batch), model\u001b[39m=\u001b[39;49mag__\u001b[39m.\u001b[39;49mld(model), target_class_idx\u001b[39m=\u001b[39;49mag__\u001b[39m.\u001b[39;49mld(target_class), task\u001b[39m=\u001b[39;49mag__\u001b[39m.\u001b[39;49mld(task)), fscope)\n\u001b[0;32m     28\u001b[0m gradient_batches \u001b[39m=\u001b[39m ag__\u001b[39m.\u001b[39mconverted_call(ag__\u001b[39m.\u001b[39mld(gradient_batches)\u001b[39m.\u001b[39mscatter, (ag__\u001b[39m.\u001b[39mconverted_call(ag__\u001b[39m.\u001b[39mld(tf)\u001b[39m.\u001b[39mrange, (ag__\u001b[39m.\u001b[39mld(from_), ag__\u001b[39m.\u001b[39mld(to)), \u001b[39mNone\u001b[39;00m, fscope), ag__\u001b[39m.\u001b[39mld(gradient_batch)), \u001b[39mNone\u001b[39;00m, fscope)\n",
      "File \u001b[1;32m~\\AppData\\Local\\Temp\\__autograph_generated_fileyonkxm5j.py:12\u001b[0m, in \u001b[0;36mouter_factory.<locals>.inner_factory.<locals>.tf__compute_gradients\u001b[1;34m(series, model, target_class_idx, task)\u001b[0m\n\u001b[0;32m     10\u001b[0m \u001b[39mwith\u001b[39;00m ag__\u001b[39m.\u001b[39mld(tf)\u001b[39m.\u001b[39mGradientTape() \u001b[39mas\u001b[39;00m tape:\n\u001b[0;32m     11\u001b[0m     ag__\u001b[39m.\u001b[39mconverted_call(ag__\u001b[39m.\u001b[39mld(tape)\u001b[39m.\u001b[39mwatch, (ag__\u001b[39m.\u001b[39mld(series),), \u001b[39mNone\u001b[39;00m, fscope)\n\u001b[1;32m---> 12\u001b[0m     logits \u001b[39m=\u001b[39m ag__\u001b[39m.\u001b[39;49mconverted_call(ag__\u001b[39m.\u001b[39;49mld(model), (ag__\u001b[39m.\u001b[39;49mld(series),), \u001b[39mNone\u001b[39;49;00m, fscope)\n\u001b[0;32m     14\u001b[0m     \u001b[39mdef\u001b[39;00m \u001b[39mget_state_2\u001b[39m():\n\u001b[0;32m     15\u001b[0m         \u001b[39mreturn\u001b[39;00m (logits,)\n",
      "File \u001b[1;32mc:\\Users\\boent\\anaconda3\\envs\\xai-tsc\\lib\\site-packages\\keras\\utils\\traceback_utils.py:70\u001b[0m, in \u001b[0;36mfilter_traceback.<locals>.error_handler\u001b[1;34m(*args, **kwargs)\u001b[0m\n\u001b[0;32m     67\u001b[0m     filtered_tb \u001b[39m=\u001b[39m _process_traceback_frames(e\u001b[39m.\u001b[39m__traceback__)\n\u001b[0;32m     68\u001b[0m     \u001b[39m# To get the full stack trace, call:\u001b[39;00m\n\u001b[0;32m     69\u001b[0m     \u001b[39m# `tf.debugging.disable_traceback_filtering()`\u001b[39;00m\n\u001b[1;32m---> 70\u001b[0m     \u001b[39mraise\u001b[39;00m e\u001b[39m.\u001b[39mwith_traceback(filtered_tb) \u001b[39mfrom\u001b[39;00m \u001b[39mNone\u001b[39;00m\n\u001b[0;32m     71\u001b[0m \u001b[39mfinally\u001b[39;00m:\n\u001b[0;32m     72\u001b[0m     \u001b[39mdel\u001b[39;00m filtered_tb\n",
      "File \u001b[1;32mc:\\Users\\boent\\anaconda3\\envs\\xai-tsc\\lib\\site-packages\\keras\\engine\\input_spec.py:295\u001b[0m, in \u001b[0;36massert_input_compatibility\u001b[1;34m(input_spec, inputs, layer_name)\u001b[0m\n\u001b[0;32m    293\u001b[0m \u001b[39mif\u001b[39;00m spec_dim \u001b[39mis\u001b[39;00m \u001b[39mnot\u001b[39;00m \u001b[39mNone\u001b[39;00m \u001b[39mand\u001b[39;00m dim \u001b[39mis\u001b[39;00m \u001b[39mnot\u001b[39;00m \u001b[39mNone\u001b[39;00m:\n\u001b[0;32m    294\u001b[0m     \u001b[39mif\u001b[39;00m spec_dim \u001b[39m!=\u001b[39m dim:\n\u001b[1;32m--> 295\u001b[0m         \u001b[39mraise\u001b[39;00m \u001b[39mValueError\u001b[39;00m(\n\u001b[0;32m    296\u001b[0m             \u001b[39mf\u001b[39m\u001b[39m'\u001b[39m\u001b[39mInput \u001b[39m\u001b[39m{\u001b[39;00minput_index\u001b[39m}\u001b[39;00m\u001b[39m of layer \u001b[39m\u001b[39m\"\u001b[39m\u001b[39m{\u001b[39;00mlayer_name\u001b[39m}\u001b[39;00m\u001b[39m\"\u001b[39m\u001b[39m is \u001b[39m\u001b[39m'\u001b[39m\n\u001b[0;32m    297\u001b[0m             \u001b[39m\"\u001b[39m\u001b[39mincompatible with the layer: \u001b[39m\u001b[39m\"\u001b[39m\n\u001b[0;32m    298\u001b[0m             \u001b[39mf\u001b[39m\u001b[39m\"\u001b[39m\u001b[39mexpected shape=\u001b[39m\u001b[39m{\u001b[39;00mspec\u001b[39m.\u001b[39mshape\u001b[39m}\u001b[39;00m\u001b[39m, \u001b[39m\u001b[39m\"\u001b[39m\n\u001b[0;32m    299\u001b[0m             \u001b[39mf\u001b[39m\u001b[39m\"\u001b[39m\u001b[39mfound shape=\u001b[39m\u001b[39m{\u001b[39;00mdisplay_shape(x\u001b[39m.\u001b[39mshape)\u001b[39m}\u001b[39;00m\u001b[39m\"\u001b[39m\n\u001b[0;32m    300\u001b[0m         )\n",
      "\u001b[1;31mValueError\u001b[0m: in user code:\n\n    File \"g:\\Meine Ablage\\master thesis\\code\\xai-tsc\\utils\\explanations.py\", line 151, in integrated_gradients  *\n        gradient_batch = compute_gradients(series=interpolated_path_input_batch,\n    File \"g:\\Meine Ablage\\master thesis\\code\\xai-tsc\\utils\\explanations.py\", line 105, in compute_gradients  *\n        logits = model(series)\n    File \"c:\\Users\\boent\\anaconda3\\envs\\xai-tsc\\lib\\site-packages\\keras\\utils\\traceback_utils.py\", line 70, in error_handler  **\n        raise e.with_traceback(filtered_tb) from None\n    File \"c:\\Users\\boent\\anaconda3\\envs\\xai-tsc\\lib\\site-packages\\keras\\engine\\input_spec.py\", line 295, in assert_input_compatibility\n        raise ValueError(\n\n    ValueError: Input 0 of layer \"model\" is incompatible with the layer: expected shape=(None, 140, 1), found shape=(None, 150)\n"
     ]
    }
   ],
   "source": [
    "baseline = tf.zeros(150)\n",
    "\n",
    "\t\t\t\t\t\n",
    "print(baseline)\n",
    "\n",
    "\n",
    "from utils.explanations import integrated_gradients\n",
    "random_data = np.random.randn(150)\n",
    "random_data_batch = np.expand_dims(random_data,axis=1)\n",
    "#print(random_data)\n",
    "npr = ig_model.predict(random_data_batch)\n",
    "\n",
    "print(npr[0][0])\n",
    "la = np.argmax(npr[0][0])\n",
    "#pärint(la)\n",
    "\n",
    "raatt = integrated_gradients(ig_model,baseline,random_data.astype('float32'),\n",
    "\t\t\t\t\t\t\t\t\t\t\t\t\tnp.argmax(npr[0][idx]),\n",
    "\t\t\t\t\t\t\t\t\t\t\t\t\ttask=1)\n",
    "\n",
    "attss =  npr[1].flatten()\n",
    "print(np.corrcoef(attss,raatt))\n",
    "plt.plot(norm(attss))\n",
    "plt.plot(norm(raatt))\n"
   ]
  },
  {
   "cell_type": "code",
   "execution_count": 7,
   "metadata": {},
   "outputs": [
    {
     "ename": "ValueError",
     "evalue": "in user code:\n\n    File \"c:\\Users\\boent\\anaconda3\\envs\\xai-tsc\\lib\\site-packages\\keras\\engine\\training.py\", line 2041, in predict_function  *\n        return step_function(self, iterator)\n    File \"c:\\Users\\boent\\anaconda3\\envs\\xai-tsc\\lib\\site-packages\\keras\\engine\\training.py\", line 2027, in step_function  **\n        outputs = model.distribute_strategy.run(run_step, args=(data,))\n    File \"c:\\Users\\boent\\anaconda3\\envs\\xai-tsc\\lib\\site-packages\\keras\\engine\\training.py\", line 2015, in run_step  **\n        outputs = model.predict_step(data)\n    File \"c:\\Users\\boent\\anaconda3\\envs\\xai-tsc\\lib\\site-packages\\keras\\engine\\training.py\", line 1983, in predict_step\n        return self(x, training=False)\n    File \"c:\\Users\\boent\\anaconda3\\envs\\xai-tsc\\lib\\site-packages\\keras\\utils\\traceback_utils.py\", line 70, in error_handler\n        raise e.with_traceback(filtered_tb) from None\n    File \"c:\\Users\\boent\\anaconda3\\envs\\xai-tsc\\lib\\site-packages\\keras\\engine\\input_spec.py\", line 295, in assert_input_compatibility\n        raise ValueError(\n\n    ValueError: Input 0 of layer \"model\" is incompatible with the layer: expected shape=(None, 150, 1), found shape=(None, 96)\n",
     "output_type": "error",
     "traceback": [
      "\u001b[1;31m---------------------------------------------------------------------------\u001b[0m",
      "\u001b[1;31mValueError\u001b[0m                                Traceback (most recent call last)",
      "Cell \u001b[1;32mIn[7], line 6\u001b[0m\n\u001b[0;32m      4\u001b[0m link \u001b[39m=\u001b[39m\u001b[39m\"\u001b[39m\u001b[39mresults/ucr/GunPoint/experiment_2/resnet/resnet_mt_ae_0.5_0/resnet_ig_norm/best_model.hdf5\u001b[39m\u001b[39m\"\u001b[39m\n\u001b[0;32m      5\u001b[0m loaded_model \u001b[39m=\u001b[39m keras\u001b[39m.\u001b[39mmodels\u001b[39m.\u001b[39mload_model(link,\u001b[39mcompile\u001b[39m\u001b[39m=\u001b[39m\u001b[39mFalse\u001b[39;00m)\n\u001b[1;32m----> 6\u001b[0m loaded_model\u001b[39m.\u001b[39;49mpredict(original_data[\u001b[39m2\u001b[39;49m])[\u001b[39m1\u001b[39m]\n",
      "File \u001b[1;32mc:\\Users\\boent\\anaconda3\\envs\\xai-tsc\\lib\\site-packages\\keras\\utils\\traceback_utils.py:70\u001b[0m, in \u001b[0;36mfilter_traceback.<locals>.error_handler\u001b[1;34m(*args, **kwargs)\u001b[0m\n\u001b[0;32m     67\u001b[0m     filtered_tb \u001b[39m=\u001b[39m _process_traceback_frames(e\u001b[39m.\u001b[39m__traceback__)\n\u001b[0;32m     68\u001b[0m     \u001b[39m# To get the full stack trace, call:\u001b[39;00m\n\u001b[0;32m     69\u001b[0m     \u001b[39m# `tf.debugging.disable_traceback_filtering()`\u001b[39;00m\n\u001b[1;32m---> 70\u001b[0m     \u001b[39mraise\u001b[39;00m e\u001b[39m.\u001b[39mwith_traceback(filtered_tb) \u001b[39mfrom\u001b[39;00m \u001b[39mNone\u001b[39;00m\n\u001b[0;32m     71\u001b[0m \u001b[39mfinally\u001b[39;00m:\n\u001b[0;32m     72\u001b[0m     \u001b[39mdel\u001b[39;00m filtered_tb\n",
      "File \u001b[1;32m~\\AppData\\Local\\Temp\\__autograph_generated_filegj0k7dqd.py:15\u001b[0m, in \u001b[0;36mouter_factory.<locals>.inner_factory.<locals>.tf__predict_function\u001b[1;34m(iterator)\u001b[0m\n\u001b[0;32m     13\u001b[0m \u001b[39mtry\u001b[39;00m:\n\u001b[0;32m     14\u001b[0m     do_return \u001b[39m=\u001b[39m \u001b[39mTrue\u001b[39;00m\n\u001b[1;32m---> 15\u001b[0m     retval_ \u001b[39m=\u001b[39m ag__\u001b[39m.\u001b[39mconverted_call(ag__\u001b[39m.\u001b[39mld(step_function), (ag__\u001b[39m.\u001b[39mld(\u001b[39mself\u001b[39m), ag__\u001b[39m.\u001b[39mld(iterator)), \u001b[39mNone\u001b[39;00m, fscope)\n\u001b[0;32m     16\u001b[0m \u001b[39mexcept\u001b[39;00m:\n\u001b[0;32m     17\u001b[0m     do_return \u001b[39m=\u001b[39m \u001b[39mFalse\u001b[39;00m\n",
      "\u001b[1;31mValueError\u001b[0m: in user code:\n\n    File \"c:\\Users\\boent\\anaconda3\\envs\\xai-tsc\\lib\\site-packages\\keras\\engine\\training.py\", line 2041, in predict_function  *\n        return step_function(self, iterator)\n    File \"c:\\Users\\boent\\anaconda3\\envs\\xai-tsc\\lib\\site-packages\\keras\\engine\\training.py\", line 2027, in step_function  **\n        outputs = model.distribute_strategy.run(run_step, args=(data,))\n    File \"c:\\Users\\boent\\anaconda3\\envs\\xai-tsc\\lib\\site-packages\\keras\\engine\\training.py\", line 2015, in run_step  **\n        outputs = model.predict_step(data)\n    File \"c:\\Users\\boent\\anaconda3\\envs\\xai-tsc\\lib\\site-packages\\keras\\engine\\training.py\", line 1983, in predict_step\n        return self(x, training=False)\n    File \"c:\\Users\\boent\\anaconda3\\envs\\xai-tsc\\lib\\site-packages\\keras\\utils\\traceback_utils.py\", line 70, in error_handler\n        raise e.with_traceback(filtered_tb) from None\n    File \"c:\\Users\\boent\\anaconda3\\envs\\xai-tsc\\lib\\site-packages\\keras\\engine\\input_spec.py\", line 295, in assert_input_compatibility\n        raise ValueError(\n\n    ValueError: Input 0 of layer \"model\" is incompatible with the layer: expected shape=(None, 150, 1), found shape=(None, 96)\n"
     ]
    }
   ],
   "source": [
    "from tensorflow import keras\n",
    "\n",
    "\n",
    "link =\"results/ucr/GunPoint/experiment_2/resnet/resnet_mt_ae_0.5_0/resnet_ig_norm/best_model.hdf5\"\n",
    "loaded_model = keras.models.load_model(link,compile=False)\n",
    "loaded_model.predict(original_data[2])[1]"
   ]
  },
  {
   "cell_type": "code",
   "execution_count": 1,
   "metadata": {},
   "outputs": [
    {
     "ename": "NameError",
     "evalue": "name 'loaded_model' is not defined",
     "output_type": "error",
     "traceback": [
      "\u001b[1;31m---------------------------------------------------------------------------\u001b[0m",
      "\u001b[1;31mNameError\u001b[0m                                 Traceback (most recent call last)",
      "Cell \u001b[1;32mIn[1], line 2\u001b[0m\n\u001b[0;32m      1\u001b[0m ts \u001b[39m=\u001b[39m \u001b[39m10\u001b[39m\n\u001b[1;32m----> 2\u001b[0m pred \u001b[39m=\u001b[39m loaded_model\u001b[39m.\u001b[39mpredict(original_data[\u001b[39m2\u001b[39m])[\u001b[39m1\u001b[39m]\n\u001b[0;32m      3\u001b[0m plt\u001b[39m.\u001b[39mplot(original_data[\u001b[39m3\u001b[39m][ts])\n\u001b[0;32m      4\u001b[0m plt\u001b[39m.\u001b[39mplot(pred[ts]\u001b[39m.\u001b[39mflatten())\n",
      "\u001b[1;31mNameError\u001b[0m: name 'loaded_model' is not defined"
     ]
    }
   ],
   "source": [
    "ts = 10\n",
    "pred = loaded_model.predict(original_data[2])[1]\n",
    "plt.plot(original_data[3][ts])\n",
    "plt.plot(pred[ts].flatten())\n",
    "\n",
    "\n",
    "count = 0\n",
    "for ts in range(100):\n",
    "    count += np.corrcoef(original_data[3][ts],pred[ts].flatten())\n",
    "\n",
    "print(count/100)"
   ]
  },
  {
   "cell_type": "code",
   "execution_count": 542,
   "metadata": {},
   "outputs": [
    {
     "name": "stdout",
     "output_type": "stream",
     "text": [
      "4/4 [==============================] - 0s 12ms/step\n"
     ]
    },
    {
     "data": {
      "text/plain": [
       "[<matplotlib.lines.Line2D at 0x275661c80a0>]"
      ]
     },
     "execution_count": 542,
     "metadata": {},
     "output_type": "execute_result"
    },
    {
     "data": {
      "image/png": "[encoded data removed]",
      "text/plain": [
       "<Figure size 640x480 with 1 Axes>"
      ]
     },
     "metadata": {},
     "output_type": "display_data"
    }
   ],
   "source": [
    "plt.plot(loaded_model.predict(original_data[0])[1])"
   ]
  },
  {
   "cell_type": "code",
   "execution_count": 595,
   "metadata": {},
   "outputs": [
    {
     "name": "stdout",
     "output_type": "stream",
     "text": [
      "./results/ucr/GunPoint/experiment_4/resnet/resnet_mt_ae_iter_0.5_0/resnet_ig_norm/last_model.hdf5\n"
     ]
    },
    {
     "ename": "FileNotFoundError",
     "evalue": "results/ucr/GunPoint/experiment_4/resnet/resnet_mt_ae_iter_0.5_1/resnet_ig_norm/test1202_TEST not found.",
     "output_type": "error",
     "traceback": [
      "\u001b[1;31m---------------------------------------------------------------------------\u001b[0m",
      "\u001b[1;31mFileNotFoundError\u001b[0m                         Traceback (most recent call last)",
      "Cell \u001b[1;32mIn[595], line 17\u001b[0m\n\u001b[0;32m     14\u001b[0m og_data \u001b[39m=\u001b[39m read_dataset(data_p, archive, dataset, \u001b[39m'\u001b[39m\u001b[39moriginal\u001b[39m\u001b[39m'\u001b[39m, \u001b[39m1\u001b[39m)[dataset]\n\u001b[0;32m     15\u001b[0m original_data \u001b[39m=\u001b[39m read_dataset(data_p, archive, dataset, \u001b[39mf\u001b[39m\u001b[39m'\u001b[39m\u001b[39m{\u001b[39;00mmodel_type\u001b[39m}\u001b[39;00m\u001b[39m_ig_norm\u001b[39m\u001b[39m'\u001b[39m, ylen)[dataset]\n\u001b[1;32m---> 17\u001b[0m atts \u001b[39m=\u001b[39m np\u001b[39m.\u001b[39;49mloadtxt(\u001b[39mf\u001b[39;49m\u001b[39m\"\u001b[39;49m\u001b[39mresults/ucr/\u001b[39;49m\u001b[39m{\u001b[39;49;00mdataset\u001b[39m}\u001b[39;49;00m\u001b[39m/experiment_4/resnet/resnet_mt_ae_iter_0.5_1/resnet_ig_norm/test1202_TEST\u001b[39;49m\u001b[39m\"\u001b[39;49m, delimiter\u001b[39m=\u001b[39;49m\u001b[39m'\u001b[39;49m\u001b[39m,\u001b[39;49m\u001b[39m'\u001b[39;49m)\n\u001b[0;32m     18\u001b[0m pred \u001b[39m=\u001b[39m loaded_model\u001b[39m.\u001b[39mpredict(original_data[\u001b[39m2\u001b[39m])[\u001b[39m1\u001b[39m]\n\u001b[0;32m     20\u001b[0m \u001b[39mprint\u001b[39m(np\u001b[39m.\u001b[39mcorrcoef(atts[ts],pred[ts]\u001b[39m.\u001b[39mflatten()))\n",
      "File \u001b[1;32mc:\\Users\\boent\\anaconda3\\envs\\xai-tsc\\lib\\site-packages\\numpy\\lib\\npyio.py:1356\u001b[0m, in \u001b[0;36mloadtxt\u001b[1;34m(fname, dtype, comments, delimiter, converters, skiprows, usecols, unpack, ndmin, encoding, max_rows, quotechar, like)\u001b[0m\n\u001b[0;32m   1353\u001b[0m \u001b[39mif\u001b[39;00m \u001b[39misinstance\u001b[39m(delimiter, \u001b[39mbytes\u001b[39m):\n\u001b[0;32m   1354\u001b[0m     delimiter \u001b[39m=\u001b[39m delimiter\u001b[39m.\u001b[39mdecode(\u001b[39m'\u001b[39m\u001b[39mlatin1\u001b[39m\u001b[39m'\u001b[39m)\n\u001b[1;32m-> 1356\u001b[0m arr \u001b[39m=\u001b[39m _read(fname, dtype\u001b[39m=\u001b[39;49mdtype, comment\u001b[39m=\u001b[39;49mcomment, delimiter\u001b[39m=\u001b[39;49mdelimiter,\n\u001b[0;32m   1357\u001b[0m             converters\u001b[39m=\u001b[39;49mconverters, skiplines\u001b[39m=\u001b[39;49mskiprows, usecols\u001b[39m=\u001b[39;49musecols,\n\u001b[0;32m   1358\u001b[0m             unpack\u001b[39m=\u001b[39;49munpack, ndmin\u001b[39m=\u001b[39;49mndmin, encoding\u001b[39m=\u001b[39;49mencoding,\n\u001b[0;32m   1359\u001b[0m             max_rows\u001b[39m=\u001b[39;49mmax_rows, quote\u001b[39m=\u001b[39;49mquotechar)\n\u001b[0;32m   1361\u001b[0m \u001b[39mreturn\u001b[39;00m arr\n",
      "File \u001b[1;32mc:\\Users\\boent\\anaconda3\\envs\\xai-tsc\\lib\\site-packages\\numpy\\lib\\npyio.py:975\u001b[0m, in \u001b[0;36m_read\u001b[1;34m(fname, delimiter, comment, quote, imaginary_unit, usecols, skiplines, max_rows, converters, ndmin, unpack, dtype, encoding)\u001b[0m\n\u001b[0;32m    973\u001b[0m     fname \u001b[39m=\u001b[39m os\u001b[39m.\u001b[39mfspath(fname)\n\u001b[0;32m    974\u001b[0m \u001b[39mif\u001b[39;00m \u001b[39misinstance\u001b[39m(fname, \u001b[39mstr\u001b[39m):\n\u001b[1;32m--> 975\u001b[0m     fh \u001b[39m=\u001b[39m np\u001b[39m.\u001b[39;49mlib\u001b[39m.\u001b[39;49m_datasource\u001b[39m.\u001b[39;49mopen(fname, \u001b[39m'\u001b[39;49m\u001b[39mrt\u001b[39;49m\u001b[39m'\u001b[39;49m, encoding\u001b[39m=\u001b[39;49mencoding)\n\u001b[0;32m    976\u001b[0m     \u001b[39mif\u001b[39;00m encoding \u001b[39mis\u001b[39;00m \u001b[39mNone\u001b[39;00m:\n\u001b[0;32m    977\u001b[0m         encoding \u001b[39m=\u001b[39m \u001b[39mgetattr\u001b[39m(fh, \u001b[39m'\u001b[39m\u001b[39mencoding\u001b[39m\u001b[39m'\u001b[39m, \u001b[39m'\u001b[39m\u001b[39mlatin1\u001b[39m\u001b[39m'\u001b[39m)\n",
      "File \u001b[1;32mc:\\Users\\boent\\anaconda3\\envs\\xai-tsc\\lib\\site-packages\\numpy\\lib\\_datasource.py:193\u001b[0m, in \u001b[0;36mopen\u001b[1;34m(path, mode, destpath, encoding, newline)\u001b[0m\n\u001b[0;32m    156\u001b[0m \u001b[39m\u001b[39m\u001b[39m\"\"\"\u001b[39;00m\n\u001b[0;32m    157\u001b[0m \u001b[39mOpen `path` with `mode` and return the file object.\u001b[39;00m\n\u001b[0;32m    158\u001b[0m \n\u001b[1;32m   (...)\u001b[0m\n\u001b[0;32m    189\u001b[0m \n\u001b[0;32m    190\u001b[0m \u001b[39m\"\"\"\u001b[39;00m\n\u001b[0;32m    192\u001b[0m ds \u001b[39m=\u001b[39m DataSource(destpath)\n\u001b[1;32m--> 193\u001b[0m \u001b[39mreturn\u001b[39;00m ds\u001b[39m.\u001b[39;49mopen(path, mode, encoding\u001b[39m=\u001b[39;49mencoding, newline\u001b[39m=\u001b[39;49mnewline)\n",
      "File \u001b[1;32mc:\\Users\\boent\\anaconda3\\envs\\xai-tsc\\lib\\site-packages\\numpy\\lib\\_datasource.py:533\u001b[0m, in \u001b[0;36mDataSource.open\u001b[1;34m(self, path, mode, encoding, newline)\u001b[0m\n\u001b[0;32m    530\u001b[0m     \u001b[39mreturn\u001b[39;00m _file_openers[ext](found, mode\u001b[39m=\u001b[39mmode,\n\u001b[0;32m    531\u001b[0m                               encoding\u001b[39m=\u001b[39mencoding, newline\u001b[39m=\u001b[39mnewline)\n\u001b[0;32m    532\u001b[0m \u001b[39melse\u001b[39;00m:\n\u001b[1;32m--> 533\u001b[0m     \u001b[39mraise\u001b[39;00m \u001b[39mFileNotFoundError\u001b[39;00m(\u001b[39mf\u001b[39m\u001b[39m\"\u001b[39m\u001b[39m{\u001b[39;00mpath\u001b[39m}\u001b[39;00m\u001b[39m not found.\u001b[39m\u001b[39m\"\u001b[39m)\n",
      "\u001b[1;31mFileNotFoundError\u001b[0m: results/ucr/GunPoint/experiment_4/resnet/resnet_mt_ae_iter_0.5_1/resnet_ig_norm/test1202_TEST not found."
     ]
    }
   ],
   "source": [
    "%matplotlib inline\n",
    "\n",
    "import matplotlib.pyplot as plt\n",
    "\n",
    "\n",
    "dataset = 'GunPoint'\n",
    "\n",
    "print(f'./results/ucr/{dataset}/experiment_4/{model_type}/{model}_{gamma}_{itr}/{model_type}_ig_norm/last_model.hdf5')\n",
    "ig_link  = f'./results/ucr/{dataset}/experiment_4/{model_type}/{model}_{gamma}_{itr}/{model_type}_ig_norm/last_model.hdf5'\n",
    "loaded_model = keras.models.load_model(ig_link ,compile=False)\n",
    "\n",
    "ts = 15\n",
    "ylen = 150\n",
    "og_data = read_dataset(data_p, archive, dataset, 'original', 1)[dataset]\n",
    "original_data = read_dataset(data_p, archive, dataset, f'{model_type}_ig_norm', ylen)[dataset]\n",
    "\n",
    "atts = np.loadtxt(f\"results/ucr/{dataset}/experiment_4/resnet/resnet_mt_ae_iter_0.5_1/resnet_ig_norm/test1202_TEST\", delimiter=',')\n",
    "pred = loaded_model.predict(original_data[2])[1]\n",
    "\n",
    "print(np.corrcoef(atts[ts],pred[ts].flatten()))\n",
    "#plt.plot(original_data[0][ts])\n",
    "plt.plot(atts[ts])\n",
    "plt.plot(pred[ts].flatten())\n",
    "plt.show()"
   ]
  },
  {
   "cell_type": "code",
   "execution_count": 638,
   "metadata": {},
   "outputs": [
    {
     "ename": "ValueError",
     "evalue": "in user code:\n\n    File \"c:\\Users\\boent\\anaconda3\\envs\\xai-tsc\\lib\\site-packages\\keras\\engine\\training.py\", line 2041, in predict_function  *\n        return step_function(self, iterator)\n    File \"c:\\Users\\boent\\anaconda3\\envs\\xai-tsc\\lib\\site-packages\\keras\\engine\\training.py\", line 2027, in step_function  **\n        outputs = model.distribute_strategy.run(run_step, args=(data,))\n    File \"c:\\Users\\boent\\anaconda3\\envs\\xai-tsc\\lib\\site-packages\\keras\\engine\\training.py\", line 2015, in run_step  **\n        outputs = model.predict_step(data)\n    File \"c:\\Users\\boent\\anaconda3\\envs\\xai-tsc\\lib\\site-packages\\keras\\engine\\training.py\", line 1983, in predict_step\n        return self(x, training=False)\n    File \"c:\\Users\\boent\\anaconda3\\envs\\xai-tsc\\lib\\site-packages\\keras\\utils\\traceback_utils.py\", line 70, in error_handler\n        raise e.with_traceback(filtered_tb) from None\n    File \"c:\\Users\\boent\\anaconda3\\envs\\xai-tsc\\lib\\site-packages\\keras\\engine\\input_spec.py\", line 295, in assert_input_compatibility\n        raise ValueError(\n\n    ValueError: Input 0 of layer \"model\" is incompatible with the layer: expected shape=(None, 96, 1), found shape=(None, 150)\n",
     "output_type": "error",
     "traceback": [
      "\u001b[1;31m---------------------------------------------------------------------------\u001b[0m",
      "\u001b[1;31mValueError\u001b[0m                                Traceback (most recent call last)",
      "Cell \u001b[1;32mIn[638], line 7\u001b[0m\n\u001b[0;32m      4\u001b[0m \u001b[39m#results/ucr/GunPoint/experiment_1/resnet/resnet_mt_nn_0/resnet_ig_norm/best_model.hdf5'\u001b[39;00m\n\u001b[0;32m      5\u001b[0m \u001b[39m#f'results/ucr/GunPoint/experiment_2/resnet/resnet_mt_nn_0.5_0/resnet_ig_norm/best_model.hdf5'\u001b[39;00m\n\u001b[0;32m      6\u001b[0m loaded_model \u001b[39m=\u001b[39m keras\u001b[39m.\u001b[39mmodels\u001b[39m.\u001b[39mload_model(ig_link ,\u001b[39mcompile\u001b[39m\u001b[39m=\u001b[39m\u001b[39mFalse\u001b[39;00m)\n\u001b[1;32m----> 7\u001b[0m pred \u001b[39m=\u001b[39m loaded_model\u001b[39m.\u001b[39;49mpredict(original_data[\u001b[39m2\u001b[39;49m])\n",
      "File \u001b[1;32mc:\\Users\\boent\\anaconda3\\envs\\xai-tsc\\lib\\site-packages\\keras\\utils\\traceback_utils.py:70\u001b[0m, in \u001b[0;36mfilter_traceback.<locals>.error_handler\u001b[1;34m(*args, **kwargs)\u001b[0m\n\u001b[0;32m     67\u001b[0m     filtered_tb \u001b[39m=\u001b[39m _process_traceback_frames(e\u001b[39m.\u001b[39m__traceback__)\n\u001b[0;32m     68\u001b[0m     \u001b[39m# To get the full stack trace, call:\u001b[39;00m\n\u001b[0;32m     69\u001b[0m     \u001b[39m# `tf.debugging.disable_traceback_filtering()`\u001b[39;00m\n\u001b[1;32m---> 70\u001b[0m     \u001b[39mraise\u001b[39;00m e\u001b[39m.\u001b[39mwith_traceback(filtered_tb) \u001b[39mfrom\u001b[39;00m \u001b[39mNone\u001b[39;00m\n\u001b[0;32m     71\u001b[0m \u001b[39mfinally\u001b[39;00m:\n\u001b[0;32m     72\u001b[0m     \u001b[39mdel\u001b[39;00m filtered_tb\n",
      "File \u001b[1;32m~\\AppData\\Local\\Temp\\__autograph_generated_file3iahavh3.py:15\u001b[0m, in \u001b[0;36mouter_factory.<locals>.inner_factory.<locals>.tf__predict_function\u001b[1;34m(iterator)\u001b[0m\n\u001b[0;32m     13\u001b[0m \u001b[39mtry\u001b[39;00m:\n\u001b[0;32m     14\u001b[0m     do_return \u001b[39m=\u001b[39m \u001b[39mTrue\u001b[39;00m\n\u001b[1;32m---> 15\u001b[0m     retval_ \u001b[39m=\u001b[39m ag__\u001b[39m.\u001b[39mconverted_call(ag__\u001b[39m.\u001b[39mld(step_function), (ag__\u001b[39m.\u001b[39mld(\u001b[39mself\u001b[39m), ag__\u001b[39m.\u001b[39mld(iterator)), \u001b[39mNone\u001b[39;00m, fscope)\n\u001b[0;32m     16\u001b[0m \u001b[39mexcept\u001b[39;00m:\n\u001b[0;32m     17\u001b[0m     do_return \u001b[39m=\u001b[39m \u001b[39mFalse\u001b[39;00m\n",
      "\u001b[1;31mValueError\u001b[0m: in user code:\n\n    File \"c:\\Users\\boent\\anaconda3\\envs\\xai-tsc\\lib\\site-packages\\keras\\engine\\training.py\", line 2041, in predict_function  *\n        return step_function(self, iterator)\n    File \"c:\\Users\\boent\\anaconda3\\envs\\xai-tsc\\lib\\site-packages\\keras\\engine\\training.py\", line 2027, in step_function  **\n        outputs = model.distribute_strategy.run(run_step, args=(data,))\n    File \"c:\\Users\\boent\\anaconda3\\envs\\xai-tsc\\lib\\site-packages\\keras\\engine\\training.py\", line 2015, in run_step  **\n        outputs = model.predict_step(data)\n    File \"c:\\Users\\boent\\anaconda3\\envs\\xai-tsc\\lib\\site-packages\\keras\\engine\\training.py\", line 1983, in predict_step\n        return self(x, training=False)\n    File \"c:\\Users\\boent\\anaconda3\\envs\\xai-tsc\\lib\\site-packages\\keras\\utils\\traceback_utils.py\", line 70, in error_handler\n        raise e.with_traceback(filtered_tb) from None\n    File \"c:\\Users\\boent\\anaconda3\\envs\\xai-tsc\\lib\\site-packages\\keras\\engine\\input_spec.py\", line 295, in assert_input_compatibility\n        raise ValueError(\n\n    ValueError: Input 0 of layer \"model\" is incompatible with the layer: expected shape=(None, 96, 1), found shape=(None, 150)\n"
     ]
    }
   ],
   "source": [
    "\"results/ucr/Beef/experiment_2/fcn/fcn_mt_nn_0.5_0/fcn_ig_norm\"\n",
    "\n",
    "ig_link  = 'results/ucr/ECG200/experiment_2/resnet/resnet_mt_ae_0.5_0/resnet_ig_supr/best_model.hdf5'\n",
    "#results/ucr/GunPoint/experiment_1/resnet/resnet_mt_nn_0/resnet_ig_norm/best_model.hdf5'\n",
    "#f'results/ucr/GunPoint/experiment_2/resnet/resnet_mt_nn_0.5_0/resnet_ig_norm/best_model.hdf5'\n",
    "loaded_model = keras.models.load_model(ig_link ,compile=False)\n",
    "pred = loaded_model.predict(original_data[2])\n"
   ]
  },
  {
   "cell_type": "code",
   "execution_count": 56,
   "metadata": {},
   "outputs": [
    {
     "data": {
      "text/plain": [
       "[<matplotlib.lines.Line2D at 0x1c0c8afe320>]"
      ]
     },
     "execution_count": 56,
     "metadata": {},
     "output_type": "execute_result"
    },
    {
     "data": {
      "image/png": "[encoded data removed]",
      "text/plain": [
       "<Figure size 640x480 with 1 Axes>"
      ]
     },
     "metadata": {},
     "output_type": "display_data"
    }
   ],
   "source": [
    "ts = 35\n",
    "plt.plot(original_data[3][ts])\n",
    "plt.plot(pred[1][ts])"
   ]
  },
  {
   "cell_type": "code",
   "execution_count": 507,
   "metadata": {},
   "outputs": [
    {
     "data": {
      "text/plain": [
       "array([[1.        , 0.66883379],\n",
       "       [0.66883379, 1.        ]])"
      ]
     },
     "execution_count": 507,
     "metadata": {},
     "output_type": "execute_result"
    }
   ],
   "source": [
    "mean_cor = 0\n",
    "for ts in range(100): \n",
    "    mean_cor += np.corrcoef(atts[ts],pred[ts].flatten())\n",
    "\n",
    "mean_cor /100"
   ]
  },
  {
   "cell_type": "code",
   "execution_count": 493,
   "metadata": {},
   "outputs": [
    {
     "name": "stdout",
     "output_type": "stream",
     "text": [
      "4/4 [==============================] - 0s 47ms/step\n"
     ]
    }
   ],
   "source": [
    "atts = np.loadtxt(f\"results/ucr/{dataset}/experiment_4/resnet/resnet_mt_ae_iter_0.5_0/resnet_ig_norm/test502_TEST\", delimiter=',')\n",
    "pred = loaded_model.predict(original_data[2])[1]"
   ]
  },
  {
   "cell_type": "code",
   "execution_count": 502,
   "metadata": {},
   "outputs": [
    {
     "name": "stdout",
     "output_type": "stream",
     "text": [
      "[[1.         0.51485057]\n",
      " [0.51485057 1.        ]]\n"
     ]
    },
    {
     "data": {
      "image/png": "[encoded data removed]",
      "text/plain": [
       "<Figure size 640x480 with 1 Axes>"
      ]
     },
     "metadata": {},
     "output_type": "display_data"
    }
   ],
   "source": [
    "ts = 22\n",
    "\n",
    "print(np.corrcoef(atts[ts],pred[ts].flatten()))\n",
    "plt.plot(atts[ts])\n",
    "plt.plot(pred[ts].flatten())\n",
    "plt.show()"
   ]
  },
  {
   "cell_type": "code",
   "execution_count": 455,
   "metadata": {},
   "outputs": [
    {
     "name": "stdout",
     "output_type": "stream",
     "text": [
      "[[1.         0.51915802]\n",
      " [0.51915802 1.        ]]\n"
     ]
    },
    {
     "data": {
      "text/plain": [
       "[<matplotlib.lines.Line2D at 0x2756dd82fb0>]"
      ]
     },
     "execution_count": 455,
     "metadata": {},
     "output_type": "execute_result"
    },
    {
     "data": {
      "image/png": "[encoded data removed]",
      "text/plain": [
       "<Figure size 640x480 with 1 Axes>"
      ]
     },
     "metadata": {},
     "output_type": "display_data"
    }
   ],
   "source": [
    "ts = 29\n",
    "\n",
    "#print(np.corrcoef(atts[ts],pred[ts].flatten()))\n",
    "\n",
    "plt.plot(atts[ts])\n",
    "plt.plot(pred[ts].flatten())"
   ]
  },
  {
   "attachments": {},
   "cell_type": "markdown",
   "metadata": {},
   "source": [
    "#### CHeck model Behaviour under suppression Test"
   ]
  },
  {
   "cell_type": "code",
   "execution_count": 232,
   "metadata": {},
   "outputs": [
    {
     "name": "stdout",
     "output_type": "stream",
     "text": [
      "G:/Meine Ablage/master thesis/code/xai-tsc/results/ucr/ECG200//experiment_1/resnet/resnet_0/original/best_model.hdf5\n",
      "4/4 [==============================] - 1s 17ms/step\n",
      "4/4 [==============================] - 0s 10ms/step\n",
      "4/4 [==============================] - 0s 12ms/step\n",
      "4/4 [==============================] - 0s 12ms/step\n",
      "4/4 [==============================] - 0s 12ms/step\n",
      "4/4 [==============================] - 0s 11ms/step\n",
      "4/4 [==============================] - 0s 11ms/step\n",
      "4/4 [==============================] - 0s 11ms/step\n",
      "4/4 [==============================] - 0s 11ms/step\n",
      "4/4 [==============================] - 0s 12ms/step\n",
      "4/4 [==============================] - 0s 11ms/step\n",
      "4/4 [==============================] - 0s 12ms/step\n",
      "4/4 [==============================] - 0s 12ms/step\n"
     ]
    }
   ],
   "source": [
    "model = \"resnet\"\n",
    "dataset = \"ECG200\"\n",
    "\n",
    "og_data = read_dataset(data_p, archive, dataset, 'original', 1)[dataset]\n",
    "ig_attributions = calculate_ig_attributions(data_p, archive, f\"{model}_{itr}\", dataset, 'original', task=0, experiment=1)\n",
    "\n",
    "\n",
    "ig_link  = f'./results/ucr/{dataset}/experiment_1/{model_type}/{model}_{itr}/original/last_model.hdf5'\n",
    "#f'./results/ucr/{dataset}/experiment_1/fcn/fcn_{itr}/original/\n",
    "#cam_model =keras.models.load_model(cam_link ,compile=False)\n",
    "loaded_model = keras.models.load_model(ig_link ,compile=False)\n",
    "og_flips = []\n",
    "\n",
    "new_data =  og_data[3].flatten().copy()\n",
    "if dataset == 'ECG200':\n",
    "    new_data[new_data==-1] = 0\n",
    "    new_data[new_data==2] = 1\n",
    "else: \n",
    "    new_data -= 1\n",
    "    print(new_data)\n",
    "ogd = new_data\n",
    "for delete_rate in ([1,0.9,0.8,0.7,0.6,0.5,0.4,0.3,0.2,0.1,0][::-1]): \n",
    "    explanations = []\n",
    "    for a in range(2): \n",
    "        attr =  ig_attributions[a]\n",
    "        sup_array = []\n",
    "        for ts in range(len(attr)):\n",
    "            sorted_vals = np.argsort(attr[ts][2])[::-1][:int(len(attr[ts][2])*delete_rate)]\n",
    "            sup_x  = attr[ts][1].copy()\n",
    "            #print(sorted_vals[:idx])\n",
    "            #print(sorted_vals[:idx])\n",
    "            sup_x[sorted_vals] = 0 \n",
    "            # Indices of non-NaN values\n",
    "            #not_nan_indices = np.arange(len(sup_x))[~np.isnan(sup_x)]\n",
    "            # Linearly interpolate NaN values\n",
    "            #interpolated_array = np.interp(np.arange(len(sup_x)), not_nan_indices, sup_x[not_nan_indices])\n",
    "            sup_array.append([attr[ts][0],attr[ts][1],sup_x])\n",
    "        explanations.append(sup_array)\n",
    "\n",
    "\n",
    "    vals = [supr[2] for supr in explanations[1]]  \n",
    "\n",
    "    results = np.array([np.argmax(pr) for pr in loaded_model.predict(np.array(vals))]).flatten()\n",
    "    og_flips.append(list(ogd.flatten()==results).count(False))"
   ]
  },
  {
   "cell_type": "code",
   "execution_count": null,
   "metadata": {},
   "outputs": [],
   "source": []
  },
  {
   "cell_type": "code",
   "execution_count": 223,
   "metadata": {},
   "outputs": [
    {
     "data": {
      "text/plain": [
       "(array([0., 1., 1., 0., 0., 1., 0., 1., 1., 0., 0., 0., 1., 0., 0., 0., 0.,\n",
       "        1., 1., 1., 0., 1., 0., 0., 0., 1., 0., 0., 1., 0., 0., 1., 1., 0.,\n",
       "        0., 0., 0., 0., 0., 1., 0., 1., 0., 0., 1., 0., 1., 1., 0., 1., 1.,\n",
       "        1., 0., 1., 0., 0., 1., 1., 0., 1., 0., 1., 0., 0., 1., 0., 0., 1.,\n",
       "        1., 1., 1., 1., 1., 1., 1., 1., 1., 1., 1., 0., 0., 0., 1., 1., 1.,\n",
       "        1., 0., 1., 0., 0., 0., 1., 0., 1., 0., 0., 1., 1., 0., 0., 1., 0.,\n",
       "        0., 1., 1., 0., 0., 1., 0., 1., 1., 1., 0., 1., 0., 0., 1., 0., 0.,\n",
       "        1., 0., 1., 1., 1., 0., 1., 0., 0., 1., 1., 1., 1., 0., 0., 0., 1.,\n",
       "        0., 1., 0., 0., 1., 0., 0., 1., 0., 1., 0., 1., 1., 0.]),\n",
       " array([0, 0, 0, 0, 0, 0, 0, 0, 0, 0, 0, 0, 0, 0, 0, 0, 0, 0, 0, 0, 0, 0,\n",
       "        0, 0, 0, 0, 0, 0, 0, 0, 0, 0, 0, 0, 0, 0, 0, 0, 0, 0, 0, 0, 0, 0,\n",
       "        0, 0, 0, 0, 0, 0, 0, 0, 0, 0, 0, 0, 0, 0, 0, 0, 0, 0, 0, 0, 0, 0,\n",
       "        0, 0, 0, 0, 0, 0, 0, 0, 0, 0, 0, 0, 0, 0, 0, 0, 0, 0, 0, 0, 0, 0,\n",
       "        0, 0, 0, 0, 0, 0, 0, 0, 0, 0, 0, 0, 0, 0, 0, 0, 0, 0, 0, 0, 0, 0,\n",
       "        0, 0, 0, 0, 0, 0, 0, 0, 0, 0, 0, 0, 0, 0, 0, 0, 0, 0, 0, 0, 0, 0,\n",
       "        0, 0, 0, 0, 0, 0, 0, 0, 0, 0, 0, 0, 0, 0, 0, 0, 0, 0], dtype=int64))"
      ]
     },
     "execution_count": 223,
     "metadata": {},
     "output_type": "execute_result"
    }
   ],
   "source": [
    "#og_flips.append(list(ogd.flatten()==results).count(False))\n",
    "ogd.flatten(),results"
   ]
  },
  {
   "cell_type": "code",
   "execution_count": 184,
   "metadata": {},
   "outputs": [
    {
     "data": {
      "text/plain": [
       "(array([[-0.64789, -0.64199, -0.63819, ..., -0.64043, -0.63867, -0.63866],\n",
       "        [-0.64443, -0.6454 , -0.64706, ..., -0.63493, -0.6345 , -0.6316 ],\n",
       "        [-0.77835, -0.77828, -0.77715, ..., -0.7042 , -0.70761, -0.70712],\n",
       "        ...,\n",
       "        [-0.77913, -0.77838, -0.77574, ..., -0.50501, -0.50373, -0.50438],\n",
       "        [-0.70303, -0.70262, -0.7025 , ..., -0.64113, -0.64141, -0.64211],\n",
       "        [-1.4357 , -1.4323 , -1.4329 , ..., -1.4355 , -1.4353 , -1.4309 ]]),\n",
       " array([[2.],\n",
       "        [2.],\n",
       "        [1.],\n",
       "        [1.],\n",
       "        [2.],\n",
       "        [2.],\n",
       "        [2.],\n",
       "        [2.],\n",
       "        [2.],\n",
       "        [1.],\n",
       "        [1.],\n",
       "        [1.],\n",
       "        [1.],\n",
       "        [1.],\n",
       "        [2.],\n",
       "        [1.],\n",
       "        [2.],\n",
       "        [2.],\n",
       "        [1.],\n",
       "        [2.],\n",
       "        [1.],\n",
       "        [1.],\n",
       "        [1.],\n",
       "        [2.],\n",
       "        [1.],\n",
       "        [2.],\n",
       "        [1.],\n",
       "        [1.],\n",
       "        [2.],\n",
       "        [1.],\n",
       "        [1.],\n",
       "        [2.],\n",
       "        [2.],\n",
       "        [1.],\n",
       "        [2.],\n",
       "        [1.],\n",
       "        [2.],\n",
       "        [2.],\n",
       "        [2.],\n",
       "        [2.],\n",
       "        [2.],\n",
       "        [1.],\n",
       "        [1.],\n",
       "        [1.],\n",
       "        [2.],\n",
       "        [2.],\n",
       "        [1.],\n",
       "        [2.],\n",
       "        [1.],\n",
       "        [2.]]),\n",
       " array([[-1.125  , -1.1313 , -1.1383 , ..., -1.2127 , -1.2062 , -1.2184 ],\n",
       "        [-0.62696, -0.62592, -0.62754, ..., -0.61947, -0.61206, -0.60642],\n",
       "        [-2.0012 , -1.9996 , -1.9995 , ..., -0.81272, -1.0711 , -1.3234 ],\n",
       "        ...,\n",
       "        [-0.73801, -0.7363 , -0.73123, ..., -0.60965, -0.60862, -0.61218],\n",
       "        [-1.2651 , -1.2561 , -1.2594 , ..., -1.2    , -1.1934 , -1.1928 ],\n",
       "        [-1.4272 , -1.4083 , -1.3471 , ..., -1.1035 , -1.1531 , -1.222  ]]),\n",
       " array([[1.],\n",
       "        [2.],\n",
       "        [2.],\n",
       "        [1.],\n",
       "        [1.],\n",
       "        [2.],\n",
       "        [1.],\n",
       "        [2.],\n",
       "        [2.],\n",
       "        [1.],\n",
       "        [1.],\n",
       "        [1.],\n",
       "        [2.],\n",
       "        [1.],\n",
       "        [1.],\n",
       "        [1.],\n",
       "        [1.],\n",
       "        [2.],\n",
       "        [2.],\n",
       "        [2.],\n",
       "        [1.],\n",
       "        [2.],\n",
       "        [1.],\n",
       "        [1.],\n",
       "        [1.],\n",
       "        [2.],\n",
       "        [1.],\n",
       "        [1.],\n",
       "        [2.],\n",
       "        [1.],\n",
       "        [1.],\n",
       "        [2.],\n",
       "        [2.],\n",
       "        [1.],\n",
       "        [1.],\n",
       "        [1.],\n",
       "        [1.],\n",
       "        [1.],\n",
       "        [1.],\n",
       "        [2.],\n",
       "        [1.],\n",
       "        [2.],\n",
       "        [1.],\n",
       "        [1.],\n",
       "        [2.],\n",
       "        [1.],\n",
       "        [2.],\n",
       "        [2.],\n",
       "        [1.],\n",
       "        [2.],\n",
       "        [2.],\n",
       "        [2.],\n",
       "        [1.],\n",
       "        [2.],\n",
       "        [1.],\n",
       "        [1.],\n",
       "        [2.],\n",
       "        [2.],\n",
       "        [1.],\n",
       "        [2.],\n",
       "        [1.],\n",
       "        [2.],\n",
       "        [1.],\n",
       "        [1.],\n",
       "        [2.],\n",
       "        [1.],\n",
       "        [1.],\n",
       "        [2.],\n",
       "        [2.],\n",
       "        [2.],\n",
       "        [2.],\n",
       "        [2.],\n",
       "        [2.],\n",
       "        [2.],\n",
       "        [2.],\n",
       "        [2.],\n",
       "        [2.],\n",
       "        [2.],\n",
       "        [2.],\n",
       "        [1.],\n",
       "        [1.],\n",
       "        [1.],\n",
       "        [2.],\n",
       "        [2.],\n",
       "        [2.],\n",
       "        [2.],\n",
       "        [1.],\n",
       "        [2.],\n",
       "        [1.],\n",
       "        [1.],\n",
       "        [1.],\n",
       "        [2.],\n",
       "        [1.],\n",
       "        [2.],\n",
       "        [1.],\n",
       "        [1.],\n",
       "        [2.],\n",
       "        [2.],\n",
       "        [1.],\n",
       "        [1.],\n",
       "        [2.],\n",
       "        [1.],\n",
       "        [1.],\n",
       "        [2.],\n",
       "        [2.],\n",
       "        [1.],\n",
       "        [1.],\n",
       "        [2.],\n",
       "        [1.],\n",
       "        [2.],\n",
       "        [2.],\n",
       "        [2.],\n",
       "        [1.],\n",
       "        [2.],\n",
       "        [1.],\n",
       "        [1.],\n",
       "        [2.],\n",
       "        [1.],\n",
       "        [1.],\n",
       "        [2.],\n",
       "        [1.],\n",
       "        [2.],\n",
       "        [2.],\n",
       "        [2.],\n",
       "        [1.],\n",
       "        [2.],\n",
       "        [1.],\n",
       "        [1.],\n",
       "        [2.],\n",
       "        [2.],\n",
       "        [2.],\n",
       "        [2.],\n",
       "        [1.],\n",
       "        [1.],\n",
       "        [1.],\n",
       "        [2.],\n",
       "        [1.],\n",
       "        [2.],\n",
       "        [1.],\n",
       "        [1.],\n",
       "        [2.],\n",
       "        [1.],\n",
       "        [1.],\n",
       "        [2.],\n",
       "        [1.],\n",
       "        [2.],\n",
       "        [1.],\n",
       "        [2.],\n",
       "        [2.],\n",
       "        [1.]]))"
      ]
     },
     "execution_count": 184,
     "metadata": {},
     "output_type": "execute_result"
    }
   ],
   "source": [
    "og_data"
   ]
  },
  {
   "cell_type": "code",
   "execution_count": 233,
   "metadata": {},
   "outputs": [
    {
     "name": "stdout",
     "output_type": "stream",
     "text": [
      "G:/Meine Ablage/master thesis/code/xai-tsc/results/ucr/ECG200//experiment_4/resnet/resnet_mt_ae_iter_0.5_0/resnet_ig_norm/best_model.hdf5\n",
      "4/4 [==============================] - 1s 20ms/step\n",
      "4/4 [==============================] - 0s 21ms/step\n",
      "4/4 [==============================] - 1s 21ms/step\n",
      "[1 1 1 0 0 1 0 1 1 0 1 0 1 1 1 0 1 1 1 1 0 1 1 1 1 1 0 1 0 1 1 1 0 1 1 0 1\n",
      " 0 1 1 0 0 1 1 1 1 1 1 0 1 0 1 0 1 0 1 1 1 0 1 1 1 0 1 1 1 1 0 0 0 0 0 1 1\n",
      " 1 1 0 1 0 0 0 1 0 1 1 1 1 0 1 0 1 1 0 1 0 1 1 1 1 1]\n"
     ]
    }
   ],
   "source": [
    "model = \"resnet_mt_ae_iter\"\n",
    "\n",
    "ig_attributions = calculate_ig_attributions(data_p, archive, f\"{model}_{gamma}_{itr}\", dataset, f\"{model_type}_ig_norm\", task=1, experiment=4)\n",
    "ig_link  = f'./results/ucr/{dataset}/experiment_4/{model_type}/{model}_{gamma}_{itr}/resnet_ig_norm/last_model.hdf5'\n",
    "#f'./results/ucr/{dataset}/experiment_1/fcn/fcn_{itr}/original/\n",
    "#cam_model =keras.models.load_model(cam_link ,compile=False)\n",
    "loaded_model = keras.models.load_model(ig_link ,compile=False)\n",
    "delete_rate = 0.3\n",
    "\n",
    "explanations = []\n",
    "for a in range(2): \n",
    "    attr =  ig_attributions[a]\n",
    "    sup_array = []\n",
    "    for ts in range(len(attr)):\n",
    "        sorted_vals = np.argsort(attr[ts][2])[::-1][:int(len(attr[ts][2])*delete_rate)]\n",
    "        sup_x  = attr[ts][1].copy()\n",
    "        #print(sorted_vals[:idx])\n",
    "        #print(sorted_vals[:idx])\n",
    "        sup_x[sorted_vals] = 0 \n",
    "        # Indices of non-NaN values\n",
    "        #not_nan_indices = np.arange(len(sup_x))[~np.isnan(sup_x)]\n",
    "        # Linearly interpolate NaN values\n",
    "        #interpolated_array = np.interp(np.arange(len(sup_x)), not_nan_indices, sup_x[not_nan_indices])\n",
    "        sup_array.append([attr[ts][0],attr[ts][1],sup_x])\n",
    "    explanations.append(sup_array)\n",
    "\n",
    "\n",
    "vals = [supr[2] for supr in explanations[0]]  \n",
    "\n",
    "results1 = np.array([np.argmax(pr) for pr in loaded_model.predict(np.array(vals))[0]]).flatten()\n",
    "print(results1)"
   ]
  },
  {
   "cell_type": "code",
   "execution_count": 234,
   "metadata": {},
   "outputs": [
    {
     "name": "stdout",
     "output_type": "stream",
     "text": [
      "4/4 [==============================] - 1s 17ms/step\n",
      "4/4 [==============================] - 0s 21ms/step\n",
      "4/4 [==============================] - 0s 17ms/step\n",
      "[1 1 0 0 0 1 0 1 1 0 1 0 1 1 1 0 1 1 1 1 1 1 1 1 1 1 0 1 0 1 1 1 0 1 0 0 1\n",
      " 0 1 1 0 0 1 1 1 1 1 1 0 1 0 1 0 1 0 1 1 1 0 1 0 1 0 1 1 1 1 0 0 0 1 1 1 1\n",
      " 1 1 0 1 0 0 0 0 0 1 1 1 0 0 1 0 1 1 0 1 0 1 1 1 1 0]\n"
     ]
    }
   ],
   "source": [
    "model = \"resnet_mt_ae_iter\"\n",
    "\n",
    "\n",
    "#ig_attributions = calculate_ig_attributions(data_p, archive, f\"{model}_{gamma}_{itr}\", dataset, f\"{model_type}_ig_norm\", task=1, experiment=4)\n",
    "ig_link  = f'./results/ucr/{dataset}/experiment_4/{model_type}/{model}_{gamma}_{itr}/resnet_ig_norm/last_model.hdf5'\n",
    "#f'./results/ucr/{dataset}/experiment_1/fcn/fcn_{itr}/original/\n",
    "#cam_model =keras.models.load_model(cam_link ,compile=False)\n",
    "loaded_model = keras.models.load_model(ig_link ,compile=False)\n",
    "\n",
    "og_data = read_dataset(data_p, archive, dataset, 'original', 1)[dataset]\n",
    "x_train, y_train, x_test,y_test = og_data\n",
    "explanations = []\n",
    "delete_rate = 0.3\n",
    "for xval in [x_train,x_test]: \n",
    "    attr = loaded_model.predict(xval)[1] \n",
    "    #ig_attributions[a]\n",
    "    sup_array = []\n",
    "    for ts in range(len(attr)):\n",
    "        sorted_vals = np.argsort(attr[ts].flatten())[::-1][:int(len(attr[ts].flatten())*delete_rate)]\n",
    "        sup_x  = xval[ts].flatten().copy()\n",
    "        #print(sorted_vals[:idx])\n",
    "        #print(sorted_vals[:idx])\n",
    "        sup_x[sorted_vals] = 0 \n",
    "        # Indices of non-NaN values\n",
    "        #not_nan_indices = np.arange(len(sup_x))[~np.isnan(sup_x)]\n",
    "        # Linearly interpolate NaN values\n",
    "        #interpolated_array = np.interp(np.arange(len(sup_x)), not_nan_indices, sup_x[not_nan_indices])\n",
    "        sup_array.append([0,0,sup_x])\n",
    "    explanations.append(sup_array)\n",
    "\n",
    "\n",
    "vals = [supr[2] for supr in explanations[0]]  \n",
    "\n",
    "results2 = np.array([np.argmax(pr) for pr in loaded_model.predict(np.array(vals))[0]]).flatten()\n",
    "\n",
    "print(results2)"
   ]
  },
  {
   "cell_type": "code",
   "execution_count": 235,
   "metadata": {},
   "outputs": [
    {
     "name": "stdout",
     "output_type": "stream",
     "text": [
      "[1. 1. 1. 1. 0. 1. 1. 1. 1. 0. 0. 1. 0. 0. 0. 1. 1. 1. 0. 1. 0. 1. 1. 1.\n",
      " 1. 1. 0. 1. 0. 1. 1. 1. 0. 0. 1. 1. 1. 1. 0. 0. 1. 1. 0. 1. 1. 1. 1. 1.\n",
      " 1. 1. 1. 0. 0. 0. 0. 0. 1. 0. 0. 0. 0. 1. 1. 0. 0. 0. 1. 1. 1. 1. 1. 1.\n",
      " 1. 1. 1. 0. 1. 1. 1. 1. 1. 0. 1. 1. 0. 0. 0. 0. 1. 1. 1. 0. 1. 1. 1. 1.\n",
      " 1. 0. 0. 1.]\n",
      "G:/Meine Ablage/master thesis/code/xai-tsc/results/ucr/ECG200//experiment_4/resnet/resnet_mt_ae_iter_0.5_0/resnet_ig_norm/best_model.hdf5\n",
      "4/4 [==============================] - 1s 19ms/step\n",
      "4/4 [==============================] - 0s 22ms/step\n",
      "4/4 [==============================] - 1s 21ms/step\n",
      "4/4 [==============================] - 0s 20ms/step\n",
      "4/4 [==============================] - 0s 21ms/step\n",
      "4/4 [==============================] - 0s 21ms/step\n",
      "4/4 [==============================] - 0s 21ms/step\n",
      "4/4 [==============================] - 0s 21ms/step\n",
      "4/4 [==============================] - 0s 21ms/step\n",
      "4/4 [==============================] - 0s 21ms/step\n",
      "4/4 [==============================] - 0s 22ms/step\n",
      "4/4 [==============================] - 0s 22ms/step\n",
      "4/4 [==============================] - 0s 21ms/step\n",
      "4/4 [==============================] - 0s 22ms/step\n",
      "4/4 [==============================] - 0s 22ms/step\n",
      "4/4 [==============================] - 0s 21ms/step\n",
      "4/4 [==============================] - 0s 21ms/step\n",
      "4/4 [==============================] - 0s 22ms/step\n",
      "4/4 [==============================] - 0s 21ms/step\n",
      "4/4 [==============================] - 0s 21ms/step\n",
      "4/4 [==============================] - 0s 22ms/step\n",
      "4/4 [==============================] - 0s 22ms/step\n",
      "4/4 [==============================] - 0s 22ms/step\n",
      "4/4 [==============================] - 0s 28ms/step\n",
      "4/4 [==============================] - 0s 22ms/step\n",
      "4/4 [==============================] - 0s 22ms/step\n",
      "4/4 [==============================] - 0s 23ms/step\n",
      "4/4 [==============================] - 0s 24ms/step\n",
      "4/4 [==============================] - 0s 23ms/step\n",
      "4/4 [==============================] - 0s 23ms/step\n",
      "4/4 [==============================] - 0s 24ms/step\n",
      "4/4 [==============================] - 0s 23ms/step\n",
      "4/4 [==============================] - 0s 23ms/step\n",
      "4/4 [==============================] - 0s 22ms/step\n",
      "4/4 [==============================] - 0s 21ms/step\n",
      "4/4 [==============================] - 0s 22ms/step\n",
      "4/4 [==============================] - 0s 24ms/step\n",
      "4/4 [==============================] - 0s 25ms/step\n",
      "4/4 [==============================] - 0s 24ms/step\n",
      "4/4 [==============================] - 0s 24ms/step\n",
      "4/4 [==============================] - 0s 23ms/step\n",
      "4/4 [==============================] - 0s 24ms/step\n",
      "4/4 [==============================] - 0s 26ms/step\n",
      "4/4 [==============================] - 0s 24ms/step\n",
      "4/4 [==============================] - 0s 23ms/step\n",
      "4/4 [==============================] - 0s 23ms/step\n"
     ]
    }
   ],
   "source": [
    "model = \"resnet_mt_ae_iter\"\n",
    "dataset = \"ECG200\"\n",
    "ig_flips = []\n",
    "pred_flips = []\n",
    "\n",
    "og_data = read_dataset(data_p, archive, dataset, 'original', 1)[dataset]\n",
    "x_train, y_train, x_test,y_test = og_data\n",
    "\n",
    "new_data =  og_data[3].flatten().copy()\n",
    "if dataset == 'ECG200':\n",
    "    new_data[new_data==-1] = 0\n",
    "    new_data[new_data==2] = 1\n",
    "else: \n",
    "    new_data -= 1\n",
    "    print(new_data)\n",
    "ogd = new_data\n",
    "print(new_data)\n",
    "ig_attributions = calculate_ig_attributions(data_p, archive, f\"{model}_{gamma}_{itr}\", dataset, f\"{model_type}_ig_norm\", task=1, experiment=4)\n",
    "ig_link  = f'./results/ucr/{dataset}/experiment_4/{model_type}/{model}_{gamma}_{itr}/resnet_ig_norm/last_model.hdf5'\n",
    "#f'./results/ucr/{dataset}/experiment_1/fcn/fcn_{itr}/original/\n",
    "#cam_model =keras.models.load_model(cam_link ,compile=False)\n",
    "loaded_model = keras.models.load_model(ig_link ,compile=False)\n",
    "\n",
    "\n",
    "for delete_rate in ([1,0.9,0.8,0.7,0.6,0.5,0.4,0.3,0.2,0.1,0][::-1]): \n",
    "    explanations = []\n",
    "    for a in range(2): \n",
    "        attr =  ig_attributions[a]\n",
    "        sup_array = []\n",
    "        for ts in range(len(attr)):\n",
    "            sorted_vals = np.argsort(attr[ts][2])[::-1][:int(len(attr[ts][2])*delete_rate)]\n",
    "            sup_x  = attr[ts][1].copy()\n",
    "            #print(sorted_vals[:idx])\n",
    "            #print(sorted_vals[:idx])\n",
    "            sup_x[sorted_vals] = 0 \n",
    "            #print(sup_x)\n",
    "            # Indices of non-NaN values\n",
    "            #not_nan_indices = np.arange(len(sup_x))[~np.isnan(sup_x)]\n",
    "            # Linearly interpolate NaN values\n",
    "            #interpolated_array = np.interp(np.arange(len(sup_x)), not_nan_indices, sup_x[not_nan_indices])\n",
    "            sup_array.append([attr[ts][0],attr[ts][1],sup_x])\n",
    "        explanations.append(sup_array)\n",
    "\n",
    "    vals = [supr[2] for supr in explanations[1]]  \n",
    "\n",
    "    results1 = np.array([np.argmax(pr) for pr in loaded_model.predict(np.array(vals))[0]]).flatten()\n",
    "    ig_flips.append(list(ogd.flatten()==results1).count(False))\n",
    "\n",
    "    explanations = []\n",
    "    for xval in [x_train,x_test]: \n",
    "        attr = loaded_model.predict(xval)[1] \n",
    "        #ig_attributions[a]\n",
    "        sup_array = []\n",
    "        for ts in range(len(attr)):\n",
    "            sorted_vals = np.argsort(attr[ts].flatten())[::-1][:int(len(attr[ts].flatten())*delete_rate)]\n",
    "            sup_x  = xval[ts].flatten().copy()\n",
    "            #print(sorted_vals[:idx])\n",
    "            #print(sorted_vals[:idx])\n",
    "            sup_x[sorted_vals] = 0 \n",
    "            # Indices of non-NaN values\n",
    "            #not_nan_indices = np.arange(len(sup_x))[~np.isnan(sup_x)]\n",
    "            # Linearly interpolate NaN values\n",
    "            #interpolated_array = np.interp(np.arange(len(sup_x)), not_nan_indices, sup_x[not_nan_indices])\n",
    "            sup_array.append([0,0,sup_x])\n",
    "        explanations.append(sup_array)\n",
    "\n",
    "\n",
    "    vals = [supr[2] for supr in explanations[1]]  \n",
    "    results2 = np.array([np.argmax(pr) for pr in loaded_model.predict(np.array(vals))[0]]).flatten()\n",
    "    pred_flips.append(list(ogd.flatten()==results2).count(False))"
   ]
  },
  {
   "cell_type": "code",
   "execution_count": 147,
   "metadata": {},
   "outputs": [
    {
     "name": "stdout",
     "output_type": "stream",
     "text": [
      "[1. 1. 0. 0. 1. 1. 1. 1. 1. 0. 0. 0. 0. 0. 1. 0. 1. 1. 0. 1. 0. 0. 0. 1.\n",
      " 0. 1. 0. 0. 1. 0. 0. 1. 1. 0. 1. 0. 1. 1. 1. 1. 1. 0. 0. 0. 1. 1. 0. 1.\n",
      " 0. 1.] [1 1 1 1 1 1 1 1 1 1 1 1 1 1 1 1 1 1 1 1 1 1 1 1 1 1 1 1 1 1 1 1 1 1 1 1 1\n",
      " 1 1 1 1 1 1 1 1 1 1 1 1 1]\n"
     ]
    },
    {
     "data": {
      "text/plain": [
       "(24, 23, 25)"
      ]
     },
     "execution_count": 147,
     "metadata": {},
     "output_type": "execute_result"
    }
   ],
   "source": [
    "og_data = read_dataset(data_p, archive, dataset, 'original', 1)[dataset]\n",
    "\n",
    "new_data =  og_data[1].flatten().copy()\n",
    "new_data[new_data==1] = 0\n",
    "new_data[new_data==2] = 1\n",
    "ogd = new_data\n",
    "print(ogd.flatten(),results)\n",
    "list(ogd.flatten()==results).count(False),list(ogd.flatten()==results1).count(False),list(ogd.flatten()==results2).count(False)"
   ]
  },
  {
   "cell_type": "code",
   "execution_count": 148,
   "metadata": {},
   "outputs": [
    {
     "name": "stdout",
     "output_type": "stream",
     "text": [
      "(array([[-0.64789, -0.64199, -0.63819, ..., -0.64043, -0.63867, -0.63866],\n",
      "       [-0.64443, -0.6454 , -0.64706, ..., -0.63493, -0.6345 , -0.6316 ],\n",
      "       [-0.77835, -0.77828, -0.77715, ..., -0.7042 , -0.70761, -0.70712],\n",
      "       ...,\n",
      "       [-0.77913, -0.77838, -0.77574, ..., -0.50501, -0.50373, -0.50438],\n",
      "       [-0.70303, -0.70262, -0.7025 , ..., -0.64113, -0.64141, -0.64211],\n",
      "       [-1.4357 , -1.4323 , -1.4329 , ..., -1.4355 , -1.4353 , -1.4309 ]]), array([[2.],\n",
      "       [2.],\n",
      "       [1.],\n",
      "       [1.],\n",
      "       [2.],\n",
      "       [2.],\n",
      "       [2.],\n",
      "       [2.],\n",
      "       [2.],\n",
      "       [1.],\n",
      "       [1.],\n",
      "       [1.],\n",
      "       [1.],\n",
      "       [1.],\n",
      "       [2.],\n",
      "       [1.],\n",
      "       [2.],\n",
      "       [2.],\n",
      "       [1.],\n",
      "       [2.],\n",
      "       [1.],\n",
      "       [1.],\n",
      "       [1.],\n",
      "       [2.],\n",
      "       [1.],\n",
      "       [2.],\n",
      "       [1.],\n",
      "       [1.],\n",
      "       [2.],\n",
      "       [1.],\n",
      "       [1.],\n",
      "       [2.],\n",
      "       [2.],\n",
      "       [1.],\n",
      "       [2.],\n",
      "       [1.],\n",
      "       [2.],\n",
      "       [2.],\n",
      "       [2.],\n",
      "       [2.],\n",
      "       [2.],\n",
      "       [1.],\n",
      "       [1.],\n",
      "       [1.],\n",
      "       [2.],\n",
      "       [2.],\n",
      "       [1.],\n",
      "       [2.],\n",
      "       [1.],\n",
      "       [2.]]), array([[-1.125  , -1.1313 , -1.1383 , ..., -1.2127 , -1.2062 , -1.2184 ],\n",
      "       [-0.62696, -0.62592, -0.62754, ..., -0.61947, -0.61206, -0.60642],\n",
      "       [-2.0012 , -1.9996 , -1.9995 , ..., -0.81272, -1.0711 , -1.3234 ],\n",
      "       ...,\n",
      "       [-0.73801, -0.7363 , -0.73123, ..., -0.60965, -0.60862, -0.61218],\n",
      "       [-1.2651 , -1.2561 , -1.2594 , ..., -1.2    , -1.1934 , -1.1928 ],\n",
      "       [-1.4272 , -1.4083 , -1.3471 , ..., -1.1035 , -1.1531 , -1.222  ]]), array([[1.],\n",
      "       [2.],\n",
      "       [2.],\n",
      "       [1.],\n",
      "       [1.],\n",
      "       [2.],\n",
      "       [1.],\n",
      "       [2.],\n",
      "       [2.],\n",
      "       [1.],\n",
      "       [1.],\n",
      "       [1.],\n",
      "       [2.],\n",
      "       [1.],\n",
      "       [1.],\n",
      "       [1.],\n",
      "       [1.],\n",
      "       [2.],\n",
      "       [2.],\n",
      "       [2.],\n",
      "       [1.],\n",
      "       [2.],\n",
      "       [1.],\n",
      "       [1.],\n",
      "       [1.],\n",
      "       [2.],\n",
      "       [1.],\n",
      "       [1.],\n",
      "       [2.],\n",
      "       [1.],\n",
      "       [1.],\n",
      "       [2.],\n",
      "       [2.],\n",
      "       [1.],\n",
      "       [1.],\n",
      "       [1.],\n",
      "       [1.],\n",
      "       [1.],\n",
      "       [1.],\n",
      "       [2.],\n",
      "       [1.],\n",
      "       [2.],\n",
      "       [1.],\n",
      "       [1.],\n",
      "       [2.],\n",
      "       [1.],\n",
      "       [2.],\n",
      "       [2.],\n",
      "       [1.],\n",
      "       [2.],\n",
      "       [2.],\n",
      "       [2.],\n",
      "       [1.],\n",
      "       [2.],\n",
      "       [1.],\n",
      "       [1.],\n",
      "       [2.],\n",
      "       [2.],\n",
      "       [1.],\n",
      "       [2.],\n",
      "       [1.],\n",
      "       [2.],\n",
      "       [1.],\n",
      "       [1.],\n",
      "       [2.],\n",
      "       [1.],\n",
      "       [1.],\n",
      "       [2.],\n",
      "       [2.],\n",
      "       [2.],\n",
      "       [2.],\n",
      "       [2.],\n",
      "       [2.],\n",
      "       [2.],\n",
      "       [2.],\n",
      "       [2.],\n",
      "       [2.],\n",
      "       [2.],\n",
      "       [2.],\n",
      "       [1.],\n",
      "       [1.],\n",
      "       [1.],\n",
      "       [2.],\n",
      "       [2.],\n",
      "       [2.],\n",
      "       [2.],\n",
      "       [1.],\n",
      "       [2.],\n",
      "       [1.],\n",
      "       [1.],\n",
      "       [1.],\n",
      "       [2.],\n",
      "       [1.],\n",
      "       [2.],\n",
      "       [1.],\n",
      "       [1.],\n",
      "       [2.],\n",
      "       [2.],\n",
      "       [1.],\n",
      "       [1.],\n",
      "       [2.],\n",
      "       [1.],\n",
      "       [1.],\n",
      "       [2.],\n",
      "       [2.],\n",
      "       [1.],\n",
      "       [1.],\n",
      "       [2.],\n",
      "       [1.],\n",
      "       [2.],\n",
      "       [2.],\n",
      "       [2.],\n",
      "       [1.],\n",
      "       [2.],\n",
      "       [1.],\n",
      "       [1.],\n",
      "       [2.],\n",
      "       [1.],\n",
      "       [1.],\n",
      "       [2.],\n",
      "       [1.],\n",
      "       [2.],\n",
      "       [2.],\n",
      "       [2.],\n",
      "       [1.],\n",
      "       [2.],\n",
      "       [1.],\n",
      "       [1.],\n",
      "       [2.],\n",
      "       [2.],\n",
      "       [2.],\n",
      "       [2.],\n",
      "       [1.],\n",
      "       [1.],\n",
      "       [1.],\n",
      "       [2.],\n",
      "       [1.],\n",
      "       [2.],\n",
      "       [1.],\n",
      "       [1.],\n",
      "       [2.],\n",
      "       [1.],\n",
      "       [1.],\n",
      "       [2.],\n",
      "       [1.],\n",
      "       [2.],\n",
      "       [1.],\n",
      "       [2.],\n",
      "       [2.],\n",
      "       [1.]]))\n"
     ]
    }
   ],
   "source": [
    "print(og_data)"
   ]
  },
  {
   "cell_type": "code",
   "execution_count": 124,
   "metadata": {},
   "outputs": [
    {
     "data": {
      "text/plain": [
       "array([1., 1., 0., 0., 1., 1., 1., 1., 1., 0., 0., 0., 0., 0., 1., 0., 1.,\n",
       "       1., 0., 1., 0., 0., 0., 1., 0., 1., 0., 0., 1., 0., 0., 1., 1., 0.,\n",
       "       1., 0., 1., 1., 1., 1., 1., 0., 0., 0., 1., 1., 0., 1., 0., 1.])"
      ]
     },
     "execution_count": 124,
     "metadata": {},
     "output_type": "execute_result"
    }
   ],
   "source": [
    "og_data = read_dataset(data_p, archive, dataset, 'original', 1)[dataset]\n",
    "\n",
    "new_data =  og_data[1].flatten().copy()\n",
    "new_data[new_data==1] = 0\n",
    "new_data[new_data==2] = 1\n",
    "new_data"
   ]
  },
  {
   "cell_type": "code",
   "execution_count": 646,
   "metadata": {},
   "outputs": [
    {
     "name": "stderr",
     "output_type": "stream",
     "text": [
      "C:\\Users\\boent\\AppData\\Local\\Temp\\ipykernel_22116\\3386134138.py:3: DeprecationWarning: elementwise comparison failed; this will raise an error in the future.\n",
      "  list(ogd.flatten()==results).count(False),list(ogd.flatten()==results1).count(False)\n"
     ]
    },
    {
     "ename": "TypeError",
     "evalue": "'bool' object is not iterable",
     "output_type": "error",
     "traceback": [
      "\u001b[1;31m---------------------------------------------------------------------------\u001b[0m",
      "\u001b[1;31mTypeError\u001b[0m                                 Traceback (most recent call last)",
      "Cell \u001b[1;32mIn[646], line 3\u001b[0m\n\u001b[0;32m      1\u001b[0m ogd \u001b[39m=\u001b[39m og_data[\u001b[39m1\u001b[39m]\u001b[39m.\u001b[39mcopy()\n\u001b[0;32m      2\u001b[0m ogd[ogd \u001b[39m==\u001b[39m \u001b[39m1\u001b[39m] \u001b[39m=\u001b[39m \u001b[39m0\u001b[39m\n\u001b[1;32m----> 3\u001b[0m \u001b[39mlist\u001b[39;49m(ogd\u001b[39m.\u001b[39;49mflatten()\u001b[39m==\u001b[39;49mresults)\u001b[39m.\u001b[39mcount(\u001b[39mFalse\u001b[39;00m),\u001b[39mlist\u001b[39m(ogd\u001b[39m.\u001b[39mflatten()\u001b[39m==\u001b[39mresults1)\u001b[39m.\u001b[39mcount(\u001b[39mFalse\u001b[39;00m)\n\u001b[0;32m      4\u001b[0m \u001b[39m#results\u001b[39;00m\n\u001b[0;32m      5\u001b[0m \u001b[39m#results == results1\u001b[39;00m\n",
      "\u001b[1;31mTypeError\u001b[0m: 'bool' object is not iterable"
     ]
    }
   ],
   "source": [
    "ogd = og_data[1].copy()\n",
    "ogd[ogd == 1] = 0\n",
    "list(ogd.flatten()==results).count(False),list(ogd.flatten()==results1).count(False)\n",
    "#results\n",
    "#results == results1"
   ]
  },
  {
   "cell_type": "code",
   "execution_count": null,
   "metadata": {},
   "outputs": [],
   "source": [
    "pm1 = 0; pm2 = 0; pm3 = 0; pm4 = 0;  mm1 = 0; mm2 = 0; mm3 = 0; mm4 = 0\n",
    "                #predict values for all timeseries \n",
    "                print(\"pred\", t, data[t-1].shape)\n",
    "\n",
    "                pred = loaded_model.predict(data[t-1])\n",
    "                #run loop\n",
    "                for ts in range(len(data[t])):                \n",
    "                    #small workaround\n",
    "                    #structure of attributions 0 --> train 1 --> test set\n",
    "                    pm1 += np.corrcoef(pred[1][ts].flatten(),data_stl[t][ts])[0,1]\n",
    "                    pm2 += np.corrcoef(pred[1][ts].flatten(),attributions[0 if t == 1 else 1][ts][2])[0,1]\n",
    "                    pm3 += np.corrcoef(data_stl[t][ts],attributions[0 if t == 1 else 1][ts][2])[0,1]\n",
    "                    #pm4 += np.corrcoef(pred[1][ts].flatten(),ig_attributions_t2[0 if t == 1 else 1][ts][2])[0,1]\n",
    "                    mm1 += mean_squared_error(pred[1][ts].flatten(),data_stl[t][ts])\n",
    "                    mm2 += mean_squared_error(pred[1][ts].flatten(),attributions[0 if t == 1 else 1][ts][2])\n",
    "                    mm3 += mean_squared_error(data_stl[t][ts],attributions[0 if t == 1 else 1][ts][2])"
   ]
  },
  {
   "cell_type": "code",
   "execution_count": 5,
   "metadata": {},
   "outputs": [],
   "source": [
    "from scipy.interpolate import interp1d\n",
    "def prepare_visualize_attribution(ts,attribution):\n",
    "    max_length = 2000    \n",
    "    #prepare values\n",
    "    minimum = np.min(attribution)\n",
    "    cas = attribution - minimum\n",
    "    cas = cas / max(cas)\n",
    "    cas = cas * 100\n",
    "    xv= np.linspace(0, len(ts) - 1, max_length, endpoint=True)\n",
    "    f = interp1d(range(len(ts)),ts)\n",
    "    yv = f(xv)\n",
    "    f = interp1d(range(len(ts)),cas)\n",
    "    cas = f(xv).astype(int)\n",
    "    return xv,yv,cas\n",
    "\n",
    "\n"
   ]
  },
  {
   "cell_type": "code",
   "execution_count": 163,
   "metadata": {},
   "outputs": [
    {
     "name": "stdout",
     "output_type": "stream",
     "text": [
      "G:/Meine Ablage/master thesis/code/xai-tsc/results/ucr/GunPoint//experiment_4/resnet/resnet_mt_ae_iter_0.5_0/resnet_ig_norm/last_model.hdf5\n",
      "2/2 [==============================] - 2s 44ms/step\n",
      "[-0.64789  -0.64199  -0.63819  -0.63826  -0.63835  -0.6387   -0.64305\n",
      " -0.64377  -0.64505  -0.64712  -0.64915  -0.65125  -0.65729  -0.6622\n",
      " -0.66123  -0.66099  -0.66156  -0.66226  -0.66191  -0.66274  -0.66093\n",
      " -0.66345  -0.66219  -0.66234  -0.66171  -0.66139  -0.66141  -0.66145\n",
      " -0.66037  -0.65911  -0.65974  -0.65818  -0.6584   -0.65735  -0.65852\n",
      " -0.65849  -0.65737  -0.65436  -0.65252  -0.65132  -0.64814  -0.64733\n",
      " -0.6471   -0.64486  -0.6436   -0.64349  -0.64265  -0.6421   -0.64448\n",
      " -0.64889  -0.65766  -0.6612   -0.64966  -0.61017  -0.53743  -0.46503\n",
      " -0.35853  -0.28314  -0.17745   0.15825   0.35028   0.48241   0.60381\n",
      "  0.7971    0.98755   1.2038    1.4065    1.5962    1.7128    1.7788\n",
      "  1.7938    1.7971    1.8102    1.8206    1.8172    1.8316    1.8316\n",
      "  1.829     1.8454    1.8453    1.8458    1.8425    1.8354    1.8364\n",
      "  1.8407    1.8325    1.8318    1.8292    1.8224    1.8137    1.8066\n",
      "  1.7817    1.7682    1.715     1.6362    1.5421    1.4168    1.2954\n",
      "  1.1717    1.0295    0.8327    0.74874   0.48444   0.468     0.13619\n",
      " -0.020964 -0.24145  -0.42928  -0.54788  -0.6577   -0.74082  -0.77535\n",
      " -0.78246  -0.76929  -0.74328  -0.71938  -0.69688  -0.68631  -0.67374\n",
      " -0.66839  -0.66464  -0.66412  -0.6643   -0.6612   -0.65935  -0.65258\n",
      " -0.64332  -0.63887  -0.63656  -0.63317  -0.63304  -0.63301  -0.63303\n",
      " -0.63522  -0.63447  -0.63579  -0.63628  -0.6354   -0.63607  -0.63755\n",
      " -0.63926  -0.63972  -0.63973  -0.64018  -0.63923  -0.63939  -0.64023\n",
      " -0.64043  -0.63867  -0.63866 ]\n",
      "1\n",
      "1\n",
      "5/5 [==============================] - 0s 37ms/step\n",
      "[-1.125    -1.1313   -1.1383   -1.1467   -1.1386   -1.1414   -1.1437\n",
      " -1.1444   -1.1549   -1.1464   -1.1497   -1.1457   -1.1419   -1.1384\n",
      " -1.1385   -1.133    -1.1207   -1.1186   -1.1006   -1.0619   -0.98877\n",
      " -0.89805  -0.79587  -0.73432  -0.69687  -0.66992  -0.66911  -0.68194\n",
      " -0.68481  -0.69305  -0.68082  -0.66386  -0.63402  -0.59582  -0.58019\n",
      " -0.52662  -0.43224  -0.27027  -0.10319   0.078542  0.28436   0.4541\n",
      "  0.5741    0.70715   0.81823   0.92508   0.97562   1.0226    1.097\n",
      "  1.1103    1.148     1.1576    1.1498    1.1595    1.1517    1.1575\n",
      "  1.1495    1.1533    1.1473    1.153     1.1671    1.1543    1.1576\n",
      "  1.172     1.1679    1.1784    1.1838    1.1829    1.1717    1.1925\n",
      "  1.1922    1.1849    1.187     1.1746    1.1832    1.1736    1.1736\n",
      "  1.1868    1.1821    1.1954    1.1749    1.1869    1.1903    1.1973\n",
      "  1.1923    1.1861    1.188     1.198     1.1963    1.2023    1.2045\n",
      "  1.2106    1.2157    1.1977    1.2057    1.2018    1.1955    1.1658\n",
      "  1.1373    1.0732    1.0091    0.90823   0.76784   0.6441    0.47294\n",
      "  0.33946   0.21282   0.049185 -0.082446 -0.23103  -0.36689  -0.46412\n",
      " -0.53039  -0.58961  -0.64786  -0.68991  -0.72026  -0.739    -0.75119\n",
      " -0.76259  -0.76566  -0.78549  -0.78369  -0.78892  -0.79126  -0.80189\n",
      " -0.8055   -0.81489  -0.81589  -0.81869  -0.83513  -0.84464  -0.85432\n",
      " -0.87302  -0.88551  -0.92003  -0.9482   -0.99664  -1.0539   -1.137\n",
      " -1.2056   -1.2812   -1.3234   -1.3458   -1.3445   -1.3011   -1.2659\n",
      " -1.2127   -1.2062   -1.2184  ]\n",
      "0\n",
      "1\n"
     ]
    }
   ],
   "source": [
    "model = 'resnet_mt_ae_iter'\n",
    "def calculate_ig_attributions(root_dir, archive_name, classifier, dataset_name, \n",
    "                              data_source, datasets_dict = None, task=0, experiment=1):\n",
    "     \n",
    "\n",
    "    model_path = f'{root_dir}/results/{archive_name}/{dataset_name}/' \\\n",
    "                    f'/experiment_{experiment}/{classifier.split(\"_\")[:-1][0]}/'\\\n",
    "                    f'{classifier}/{data_source}/last_model.hdf5'  \n",
    "    print(model_path)   \n",
    "    #model_path = f'{root_dir}/results/{archive_name}/{dataset_name}/' \\\n",
    "    #                                + f'{classifier.split(\"_\")[0]}/{classifier}/{data_source}/' \\\n",
    "    #                                + f'last_model.hdf5'\n",
    "    model =keras.models.load_model(model_path ,compile=False)\n",
    "\n",
    "    if datasets_dict == None: \n",
    "        datasets_dict = read_dataset(root_dir, archive_name, dataset_name, 'original', 1)\n",
    "        x_train, y_train, x_test, y_test = datasets_dict[dataset_name]\n",
    "    \n",
    "    else: \n",
    "        x_train, y_train, x_test, y_test = datasets_dict\n",
    "\n",
    "    output = list()\n",
    "    baseline = tf.zeros(len(x_train[0]))\n",
    "    \n",
    "    #tf.random.uniform((1,x_train.shape[1]),minval=-1,maxval=1) # tf.zeros(len(x_train[0]))\n",
    "    y_pos = list(np.unique(y_train))\n",
    "    for x_vals,y_vals in [[x_train,y_train],[x_test,y_test]]:\n",
    "        pred = model.predict(x_vals) if task == 0 else model.predict(x_vals)[0]\n",
    "        attr = list()\n",
    "        for idx,ts in enumerate(x_vals):\n",
    "            series = ts\n",
    "            print(ts)\n",
    "            print(np.argmax(pred[idx]))\n",
    "            print(task)\n",
    "            ig_att = integrated_gradients(model,baseline,series.astype('float32'),\n",
    "                                        np.argmax(pred[idx]),\n",
    "                                        task=task)\n",
    "                                        #optimize for true values\n",
    "                                        #y_pos.index(y_vals[idx]),\n",
    "            attr.append([y_vals[idx],x_vals[idx],ig_att])\n",
    "            break\n",
    "        output.append(attr)\n",
    "    return output\n",
    "\n",
    "i1 = calculate_ig_attributions(data_p, archive, f\"{model}_{gamma}_{itr}\", dataset, f\"{model_type}_ig_norm\", task=1, experiment=4)\n"
   ]
  },
  {
   "cell_type": "code",
   "execution_count": 175,
   "metadata": {},
   "outputs": [
    {
     "data": {
      "text/plain": [
       "array([-0.64789 , -0.64199 , -0.63819 , -0.63826 , -0.63835 , -0.6387  ,\n",
       "       -0.64305 , -0.64377 , -0.64505 , -0.64712 , -0.64915 , -0.65125 ,\n",
       "       -0.65729 , -0.6622  , -0.66123 , -0.66099 , -0.66156 , -0.66226 ,\n",
       "       -0.66191 , -0.66274 , -0.66093 , -0.66345 , -0.66219 , -0.66234 ,\n",
       "       -0.66171 , -0.66139 , -0.66141 , -0.66145 , -0.66037 , -0.65911 ,\n",
       "       -0.65974 , -0.65818 , -0.6584  , -0.65735 , -0.65852 , -0.65849 ,\n",
       "       -0.65737 , -0.65436 , -0.65252 , -0.65132 , -0.64814 , -0.64733 ,\n",
       "       -0.6471  , -0.64486 , -0.6436  , -0.64349 , -0.64265 , -0.6421  ,\n",
       "       -0.64448 , -0.64889 , -0.65766 , -0.6612  , -0.64966 , -0.61017 ,\n",
       "       -0.53743 , -0.46503 , -0.35853 , -0.28314 , -0.17745 ,  0.15825 ,\n",
       "        0.35028 ,  0.48241 ,  0.60381 ,  0.7971  ,  0.98755 ,  1.2038  ,\n",
       "        1.4065  ,  1.5962  ,  1.7128  ,  1.7788  ,  1.7938  ,  1.7971  ,\n",
       "        1.8102  ,  1.8206  ,  1.8172  ,  1.8316  ,  1.8316  ,  1.829   ,\n",
       "        1.8454  ,  1.8453  ,  1.8458  ,  1.8425  ,  1.8354  ,  1.8364  ,\n",
       "        1.8407  ,  1.8325  ,  1.8318  ,  1.8292  ,  1.8224  ,  1.8137  ,\n",
       "        1.8066  ,  1.7817  ,  1.7682  ,  1.715   ,  1.6362  ,  1.5421  ,\n",
       "        1.4168  ,  1.2954  ,  1.1717  ,  1.0295  ,  0.8327  ,  0.74874 ,\n",
       "        0.48444 ,  0.468   ,  0.13619 , -0.020964, -0.24145 , -0.42928 ,\n",
       "       -0.54788 , -0.6577  , -0.74082 , -0.77535 , -0.78246 , -0.76929 ,\n",
       "       -0.74328 , -0.71938 , -0.69688 , -0.68631 , -0.67374 , -0.66839 ,\n",
       "       -0.66464 , -0.66412 , -0.6643  , -0.6612  , -0.65935 , -0.65258 ,\n",
       "       -0.64332 , -0.63887 , -0.63656 , -0.63317 , -0.63304 , -0.63301 ,\n",
       "       -0.63303 , -0.63522 , -0.63447 , -0.63579 , -0.63628 , -0.6354  ,\n",
       "       -0.63607 , -0.63755 , -0.63926 , -0.63972 , -0.63973 , -0.64018 ,\n",
       "       -0.63923 , -0.63939 , -0.64023 , -0.64043 , -0.63867 , -0.63866 ])"
      ]
     },
     "execution_count": 175,
     "metadata": {},
     "output_type": "execute_result"
    }
   ],
   "source": []
  },
  {
   "cell_type": "code",
   "execution_count": 20,
   "metadata": {},
   "outputs": [
    {
     "name": "stdout",
     "output_type": "stream",
     "text": [
      "WARNING:tensorflow:6 out of the last 10 calls to <function Model.make_predict_function.<locals>.predict_function at 0x000001B8212EC790> triggered tf.function retracing. Tracing is expensive and the excessive number of tracings could be due to (1) creating @tf.function repeatedly in a loop, (2) passing tensors with different shapes, (3) passing Python objects instead of tensors. For (1), please define your @tf.function outside of the loop. For (2), @tf.function has reduce_retracing=True option that can avoid unnecessary retracing. For (3), please refer to https://www.tensorflow.org/guide/function#controlling_retracing and https://www.tensorflow.org/api_docs/python/tf/function for  more details.\n",
      "1/1 [==============================] - 0s 187ms/step\n",
      "2\n",
      "WARNING:tensorflow:5 out of the last 65 calls to <function integrated_gradients at 0x000001B81613FEB0> triggered tf.function retracing. Tracing is expensive and the excessive number of tracings could be due to (1) creating @tf.function repeatedly in a loop, (2) passing tensors with different shapes, (3) passing Python objects instead of tensors. For (1), please define your @tf.function outside of the loop. For (2), @tf.function has reduce_retracing=True option that can avoid unnecessary retracing. For (3), please refer to https://www.tensorflow.org/guide/function#controlling_retracing and https://www.tensorflow.org/api_docs/python/tf/function for  more details.\n",
      "./results/ucr/Beef/experiment_4/fcn/fcn_mt_conv_iter_0.75_2/fcn_ig_raw/last_model.hdf5\n",
      "[ True  True  True  True  True  True  True  True  True  True  True  True\n",
      "  True  True  True  True  True  True  True  True  True  True  True  True\n",
      "  True  True  True  True  True  True  True  True  True  True  True  True\n",
      "  True  True  True  True  True  True  True  True  True  True  True  True\n",
      "  True  True  True  True  True  True  True  True  True  True  True  True\n",
      "  True  True  True  True  True  True  True  True  True  True  True  True\n",
      "  True  True  True  True  True  True  True  True  True  True  True  True\n",
      "  True  True  True  True  True  True  True  True  True  True  True  True\n",
      "  True  True  True  True  True  True  True  True  True  True  True  True\n",
      "  True  True  True  True  True  True  True  True  True  True  True  True\n",
      "  True  True  True  True  True  True  True  True  True  True  True  True\n",
      "  True  True  True  True  True  True  True  True  True  True  True  True\n",
      "  True  True  True  True  True  True  True  True  True  True  True  True\n",
      "  True  True  True  True  True  True  True  True  True  True  True  True\n",
      "  True  True  True  True  True  True  True  True  True  True  True  True\n",
      "  True  True  True  True  True  True  True  True  True  True  True  True\n",
      "  True  True  True  True  True  True  True  True  True  True  True  True\n",
      "  True  True  True  True  True  True  True  True  True  True  True  True\n",
      "  True  True  True  True  True  True  True  True  True  True  True  True\n",
      "  True  True  True  True  True  True  True  True  True  True  True  True\n",
      "  True  True  True  True  True  True  True  True  True  True  True  True\n",
      "  True  True  True  True  True  True  True  True  True  True  True  True\n",
      "  True  True  True  True  True  True  True  True  True  True  True  True\n",
      "  True  True  True  True  True  True  True  True  True  True  True  True\n",
      "  True  True  True  True  True  True  True  True  True  True  True  True\n",
      "  True  True  True  True  True  True  True  True  True  True  True  True\n",
      "  True  True  True  True  True  True  True  True  True  True  True  True\n",
      "  True  True  True  True  True  True  True  True  True  True  True  True\n",
      "  True  True  True  True  True  True  True  True  True  True  True  True\n",
      "  True  True  True  True  True  True  True  True  True  True  True  True\n",
      "  True  True  True  True  True  True  True  True  True  True  True  True\n",
      "  True  True  True  True  True  True  True  True  True  True  True  True\n",
      "  True  True  True  True  True  True  True  True  True  True  True  True\n",
      "  True  True  True  True  True  True  True  True  True  True  True  True\n",
      "  True  True  True  True  True  True  True  True  True  True  True  True\n",
      "  True  True  True  True  True  True  True  True  True  True  True  True\n",
      "  True  True  True  True  True  True  True  True  True  True  True  True\n",
      "  True  True  True  True  True  True  True  True  True  True  True  True\n",
      "  True  True  True  True  True  True  True  True  True  True  True  True\n",
      "  True  True]\n",
      "tf.Tensor(\n",
      "[ True  True  True  True  True  True  True  True  True  True  True  True\n",
      "  True  True  True  True  True  True  True  True  True  True  True  True\n",
      "  True  True  True  True  True  True  True  True  True  True  True  True\n",
      "  True  True  True  True  True  True  True  True  True  True  True  True\n",
      "  True  True  True  True  True  True  True  True  True  True  True  True\n",
      "  True  True  True  True  True  True  True  True  True  True  True  True\n",
      "  True  True  True  True  True  True  True  True  True  True  True  True\n",
      "  True  True  True  True  True  True  True  True  True  True  True  True\n",
      "  True  True  True  True  True  True  True  True  True  True  True  True\n",
      "  True  True  True  True  True  True  True  True  True  True  True  True\n",
      "  True  True  True  True  True  True  True  True  True  True  True  True\n",
      "  True  True  True  True  True  True  True  True  True  True  True  True\n",
      "  True  True  True  True  True  True  True  True  True  True  True  True\n",
      "  True  True  True  True  True  True  True  True  True  True  True  True\n",
      "  True  True  True  True  True  True  True  True  True  True  True  True\n",
      "  True  True  True  True  True  True  True  True  True  True  True  True\n",
      "  True  True  True  True  True  True  True  True  True  True  True  True\n",
      "  True  True  True  True  True  True  True  True  True  True  True  True\n",
      "  True  True  True  True  True  True  True  True  True  True  True  True\n",
      "  True  True  True  True  True  True  True  True  True  True  True  True\n",
      "  True  True  True  True  True  True  True  True  True  True  True  True\n",
      "  True  True  True  True  True  True  True  True  True  True  True  True\n",
      "  True  True  True  True  True  True  True  True  True  True  True  True\n",
      "  True  True  True  True  True  True  True  True  True  True  True  True\n",
      "  True  True  True  True  True  True  True  True  True  True  True  True\n",
      "  True  True  True  True  True  True  True  True  True  True  True  True\n",
      "  True  True  True  True  True  True  True  True  True  True  True  True\n",
      "  True  True  True  True  True  True  True  True  True  True  True  True\n",
      "  True  True  True  True  True  True  True  True  True  True  True  True\n",
      "  True  True  True  True  True  True  True  True  True  True  True  True\n",
      "  True  True  True  True  True  True  True  True  True  True  True  True\n",
      "  True  True  True  True  True  True  True  True  True  True  True  True\n",
      "  True  True  True  True  True  True  True  True  True  True  True  True\n",
      "  True  True  True  True  True  True  True  True  True  True  True  True\n",
      "  True  True  True  True  True  True  True  True  True  True  True  True\n",
      "  True  True  True  True  True  True  True  True  True  True  True  True\n",
      "  True  True  True  True  True  True  True  True  True  True  True  True\n",
      "  True  True  True  True  True  True  True  True  True  True  True  True\n",
      "  True  True  True  True  True  True  True  True  True  True  True  True\n",
      "  True  True], shape=(470,), dtype=bool)\n",
      "tf.Tensor(\n",
      "[False False False False False False False False False False False False\n",
      " False False False False False False False False False False False False\n",
      " False False False False False False False False False False False False\n",
      " False False False False False False False False False False False False\n",
      " False False False False False False False False False False False False\n",
      " False False False False False False False False False False False False\n",
      " False False False False False False False False False False False False\n",
      " False False False False False False False False False False False False\n",
      " False False False False False False False False False False False False\n",
      " False False False False False False False False False False False False\n",
      " False False False False False False False False False False False False\n",
      " False False False False False False False False False False False False\n",
      " False False False False False False False False False False False False\n",
      " False False False False False False False False False False False False\n",
      " False False False False False False False False False False False False\n",
      " False False False False False False False False False False False False\n",
      " False False False False False False False False False False False False\n",
      " False False False False False False False False False False False False\n",
      " False False False False False False False False False False False False\n",
      " False False False False False False False False False False False False\n",
      " False False False False False False False False False False False False\n",
      " False False False False False False False False False False False False\n",
      " False False False False False False False False False False False False\n",
      " False False False False False False False False False False False False\n",
      " False False False False False False False False False False False False\n",
      " False False False False False False False False False False False False\n",
      " False False False False False False False False False False False False\n",
      " False False False False False False False False False False False False\n",
      " False False False False False False False False False False False False\n",
      " False False False False False False False False False False False False\n",
      " False False False False False False False False False False False False\n",
      " False False False False False False False False False False False False\n",
      " False False False False False False False False False False False False\n",
      " False False False False False False False False False False False False\n",
      " False False False False False False False False False False False False\n",
      " False False False False False False False False False False False False\n",
      " False False False False False False False False False False False False\n",
      " False False False False False False False False False False False False\n",
      " False False False False False False False False False False False False\n",
      " False False], shape=(470,), dtype=bool)\n"
     ]
    }
   ],
   "source": [
    "model = 'fcn_mt_conv_iter'\n",
    "model_type = 'fcn'\n",
    "\n",
    "model_path=f'./results/ucr/{dataset}/experiment_4/{model_type}/{model}_{gamma}_{itr}/{model_type}_ig_raw/last_model.hdf5'\n",
    "ig_model = keras.models.load_model(model_path ,compile=False)\n",
    "baseline = tf.zeros(len(data[2][0]))\n",
    "pred = ig_model.predict(data[2])\n",
    "print(np.argmax(pred[0][0]))\n",
    "ig_att = integrated_gradients(ig_model,baseline,data[2][0].astype('float32'),\n",
    "                            np.argmax(pred[0][0]),\n",
    "                            task=1)\n",
    "ig_att_last = np.loadtxt(f\"./results/ucr/{dataset}/experiment_4/{model_type}/{model}_{gamma}_{itr}/{model_type}_ig_raw/test399_TEST\", delimiter=',')\n",
    "#results/ucr/Beef/experiment_4/fcn/fcn_mt_conv_iter_0.75_2/fcn_ig_raw/last_model.hdf5\n",
    "#results/ucr/Beef/experiment_4/fcn/fcn_mt_conv_iter_0.75_2/fcn_ig_raw/last_model.hdf5\n",
    "\n",
    "print(model_path)\n",
    "print(i1[1][0][1] == data[2][0])\n",
    "print(i1[1][0][2] == ig_att) \n",
    "print(ig_att[0] == ig_att_last[0])"
   ]
  },
  {
   "cell_type": "code",
   "execution_count": 34,
   "metadata": {},
   "outputs": [
    {
     "name": "stdout",
     "output_type": "stream",
     "text": [
      "240\n"
     ]
    },
    {
     "data": {
      "image/png": "[encoded data removed]",
      "text/plain": [
       "<Figure size 640x480 with 1 Axes>"
      ]
     },
     "metadata": {},
     "output_type": "display_data"
    },
    {
     "name": "stdout",
     "output_type": "stream",
     "text": [
      "260\n"
     ]
    },
    {
     "data": {
      "image/png": "[encoded data removed]",
      "text/plain": [
       "<Figure size 640x480 with 1 Axes>"
      ]
     },
     "metadata": {},
     "output_type": "display_data"
    }
   ],
   "source": [
    "import numpy as np\n",
    "p = \"G:/Meine Ablage/master thesis/code/xai-tsc/results/ucr/Beef/experiment_4/fcn/fcn_mt_test_0.75_3/fcn_ig_raw/test200_TRAIN\"\n",
    "g = np.loadtxt(p, delimiter=',')\n",
    "\n",
    "#print(g)\n",
    "for  i  in range(240,250,10):\n",
    "    print(i)\n",
    "    p = f\"G:/Meine Ablage/master thesis/code/xai-tsc/results/ucr/Beef/experiment_4/fcn/fcn_mt_test_0.75_3/fcn_ig_raw/test{i}_TRAIN\"\n",
    "    g = np.loadtxt(p, delimiter=',')\n",
    "    plt.plot(g[0])\n",
    "\n",
    "plt.show()\n",
    "\n",
    "for  i  in range(260,270,10):\n",
    "    print(i)\n",
    "    p = f\"G:/Meine Ablage/master thesis/code/xai-tsc/results/ucr/Beef/experiment_4/fcn/fcn_mt_test_0.75_3/fcn_ig_raw/test{i}_TRAIN\"\n",
    "    g = np.loadtxt(p, delimiter=',')\n",
    "    plt.plot(g[0])\n",
    "\n",
    "plt.show()"
   ]
  },
  {
   "cell_type": "code",
   "execution_count": 1,
   "metadata": {},
   "outputs": [
    {
     "name": "stdout",
     "output_type": "stream",
     "text": [
      "input_1 True\n",
      "shared_l1 False\n",
      "shared_l2 False\n",
      "shared_l3 False\n",
      "shared_l4 False\n",
      "shared_l5 False\n",
      "shared_l6 False\n",
      "shared_l7 False\n",
      "shared_l8 False\n",
      "shared_l9 False\n",
      "conv1d_transpose True\n",
      "batch_normalization True\n",
      "activation True\n",
      "conv1d_transpose_1 True\n",
      "batch_normalization_1 True\n",
      "activation_1 True\n",
      "conv1d_transpose_2 True\n",
      "batch_normalization_2 True\n",
      "global_average_pooling1d True\n",
      "activation_2 True\n",
      "task_1_output False\n",
      "task_2_output True\n"
     ]
    }
   ],
   "source": [
    "from tensorflow import keras \n",
    "dataset = 'Beef'\n",
    "model_type = 'fcn'\n",
    "model = 'fcn_mt_conv_iter'\n",
    "gamma = 0.75\n",
    "itr = 2\n",
    "\n",
    "model_path=f'G:/Meine Ablage/master thesis/code/xai-tsc/results/ucr/Beef/experiment_4/fcn/fcn_mt_ae_iter_freeze_0_0/fcn_ig_raw/last_model.hdf5'\n",
    "ig_model = keras.models.load_model(model_path ,compile=False)\n",
    "\n",
    "layer_names = [layer.name for layer in ig_model.layers]\n",
    "for layer in ig_model.layers:\n",
    "    if True: #'shared' in layer.name or 'task_1_output' in layer.name: \n",
    "        print(layer.name,layer.trainable)\n",
    "        #layer.trainable = False\n"
   ]
  }
 ],
 "metadata": {
  "kernelspec": {
   "display_name": "xai-tsc",
   "language": "python",
   "name": "python3"
  },
  "language_info": {
   "codemirror_mode": {
    "name": "ipython",
    "version": 3
   },
   "file_extension": ".py",
   "mimetype": "text/x-python",
   "name": "python",
   "nbconvert_exporter": "python",
   "pygments_lexer": "ipython3",
   "version": "3.10.11"
  },
  "orig_nbformat": 4
 },
 "nbformat": 4,
 "nbformat_minor": 2
}
